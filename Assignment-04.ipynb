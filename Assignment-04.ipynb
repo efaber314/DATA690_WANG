{
 "cells": [
  {
   "cell_type": "code",
   "execution_count": 100,
   "metadata": {},
   "outputs": [],
   "source": [
    "# <1> \n",
    "# Import libraries\n",
    "import matplotlib.pyplot as plt\n",
    "import numpy as np\n",
    "import pandas as pd\n",
    "from pandas import DataFrame\n",
    "import scipy as sp\n",
    "import seaborn as sns"
   ]
  },
  {
   "cell_type": "code",
   "execution_count": 101,
   "metadata": {},
   "outputs": [
    {
     "data": {
      "text/html": [
       "<div>\n",
       "<style scoped>\n",
       "    .dataframe tbody tr th:only-of-type {\n",
       "        vertical-align: middle;\n",
       "    }\n",
       "\n",
       "    .dataframe tbody tr th {\n",
       "        vertical-align: top;\n",
       "    }\n",
       "\n",
       "    .dataframe thead th {\n",
       "        text-align: right;\n",
       "    }\n",
       "</style>\n",
       "<table border=\"1\" class=\"dataframe\">\n",
       "  <thead>\n",
       "    <tr style=\"text-align: right;\">\n",
       "      <th></th>\n",
       "      <th>UNITID</th>\n",
       "      <th>OPEID</th>\n",
       "      <th>OPEID6</th>\n",
       "      <th>INSTNM</th>\n",
       "      <th>CITY</th>\n",
       "      <th>ZIP</th>\n",
       "      <th>ADM_RATE</th>\n",
       "      <th>UGDS</th>\n",
       "      <th>TUITIONFEE_IN</th>\n",
       "    </tr>\n",
       "  </thead>\n",
       "  <tbody>\n",
       "    <tr>\n",
       "      <td>0</td>\n",
       "      <td>100654</td>\n",
       "      <td>100200</td>\n",
       "      <td>1002</td>\n",
       "      <td>Alabama A &amp; M University</td>\n",
       "      <td>Normal</td>\n",
       "      <td>35762</td>\n",
       "      <td>0.9027</td>\n",
       "      <td>4824.0</td>\n",
       "      <td>9857.0</td>\n",
       "    </tr>\n",
       "    <tr>\n",
       "      <td>1</td>\n",
       "      <td>100663</td>\n",
       "      <td>105200</td>\n",
       "      <td>1052</td>\n",
       "      <td>University of Alabama at Birmingham</td>\n",
       "      <td>Birmingham</td>\n",
       "      <td>35294-0110</td>\n",
       "      <td>0.9181</td>\n",
       "      <td>12866.0</td>\n",
       "      <td>8328.0</td>\n",
       "    </tr>\n",
       "    <tr>\n",
       "      <td>2</td>\n",
       "      <td>100690</td>\n",
       "      <td>2503400</td>\n",
       "      <td>25034</td>\n",
       "      <td>Amridge University</td>\n",
       "      <td>Montgomery</td>\n",
       "      <td>36117-3553</td>\n",
       "      <td>NaN</td>\n",
       "      <td>322.0</td>\n",
       "      <td>6900.0</td>\n",
       "    </tr>\n",
       "    <tr>\n",
       "      <td>3</td>\n",
       "      <td>100706</td>\n",
       "      <td>105500</td>\n",
       "      <td>1055</td>\n",
       "      <td>University of Alabama in Huntsville</td>\n",
       "      <td>Huntsville</td>\n",
       "      <td>35899</td>\n",
       "      <td>0.8123</td>\n",
       "      <td>6917.0</td>\n",
       "      <td>10280.0</td>\n",
       "    </tr>\n",
       "    <tr>\n",
       "      <td>4</td>\n",
       "      <td>100724</td>\n",
       "      <td>100500</td>\n",
       "      <td>1005</td>\n",
       "      <td>Alabama State University</td>\n",
       "      <td>Montgomery</td>\n",
       "      <td>36104-0271</td>\n",
       "      <td>0.9787</td>\n",
       "      <td>4189.0</td>\n",
       "      <td>11068.0</td>\n",
       "    </tr>\n",
       "  </tbody>\n",
       "</table>\n",
       "</div>"
      ],
      "text/plain": [
       "   UNITID    OPEID  OPEID6                               INSTNM        CITY  \\\n",
       "0  100654   100200    1002             Alabama A & M University      Normal   \n",
       "1  100663   105200    1052  University of Alabama at Birmingham  Birmingham   \n",
       "2  100690  2503400   25034                   Amridge University  Montgomery   \n",
       "3  100706   105500    1055  University of Alabama in Huntsville  Huntsville   \n",
       "4  100724   100500    1005             Alabama State University  Montgomery   \n",
       "\n",
       "          ZIP  ADM_RATE     UGDS  TUITIONFEE_IN  \n",
       "0       35762    0.9027   4824.0         9857.0  \n",
       "1  35294-0110    0.9181  12866.0         8328.0  \n",
       "2  36117-3553       NaN    322.0         6900.0  \n",
       "3       35899    0.8123   6917.0        10280.0  \n",
       "4  36104-0271    0.9787   4189.0        11068.0  "
      ]
     },
     "execution_count": 101,
     "metadata": {},
     "output_type": "execute_result"
    }
   ],
   "source": [
    "# <2>\n",
    "# load the 2017-2018 school year file \"MERGED2017_18_PP.csv\" \n",
    "# Don't include all columns - too many and take up computer resources (computeing power and memory)\n",
    "# Only load the following 10 columns should be loaded:\n",
    "# UNITID: \n",
    "# OPEID:              \n",
    "# OPEID6:            \n",
    "# INSTNM:          \n",
    "# CITY:                      \n",
    "# ZIP:               \n",
    "# ADM_RATE:           \n",
    "# UGDS:              \n",
    "# TUITIONFEE_IN:      \n",
    "\n",
    "df = pd.read_csv('MERGED2017_18_PP.csv',skipinitialspace = True, usecols = ['UNITID','OPEID','OPEID6','INSTNM','CITY','ZIP','ADM_RATE','UGDS','TUITIONFEE_IN'])\n",
    "df.head()"
   ]
  },
  {
   "cell_type": "code",
   "execution_count": 102,
   "metadata": {},
   "outputs": [],
   "source": [
    "# <3>\n",
    "# Load the scorecard file Most-Recent-Cohorts-Scorecard-Elements.csv from the link:\n",
    "# https://ed-public-download.app.cloud.gov/downloads/Most-Recent-Cohorts-Scorecard-Elements.csv\n",
    "# This file has thre median earnings which is not present in the previous file\n",
    "# Only load the two columns:\n",
    "# UNITID - This column is the unique identity for each college and will be used to join with the previous file\n",
    "# MD_EARN_WNE_P10  - This column has the median earnings\n",
    "df2 = pd.read_csv('Most-Recent-Cohorts-All-Data-Elements.csv',skipinitialspace = True, usecols = ['UNITID','MD_EARN_WNE_P10'])"
   ]
  },
  {
   "cell_type": "code",
   "execution_count": 103,
   "metadata": {},
   "outputs": [
    {
     "data": {
      "text/html": [
       "<div>\n",
       "<style scoped>\n",
       "    .dataframe tbody tr th:only-of-type {\n",
       "        vertical-align: middle;\n",
       "    }\n",
       "\n",
       "    .dataframe tbody tr th {\n",
       "        vertical-align: top;\n",
       "    }\n",
       "\n",
       "    .dataframe thead th {\n",
       "        text-align: right;\n",
       "    }\n",
       "</style>\n",
       "<table border=\"1\" class=\"dataframe\">\n",
       "  <thead>\n",
       "    <tr style=\"text-align: right;\">\n",
       "      <th></th>\n",
       "      <th>UNITID</th>\n",
       "      <th>MD_EARN_WNE_P10</th>\n",
       "    </tr>\n",
       "  </thead>\n",
       "  <tbody>\n",
       "    <tr>\n",
       "      <td>0</td>\n",
       "      <td>100654</td>\n",
       "      <td>31000</td>\n",
       "    </tr>\n",
       "    <tr>\n",
       "      <td>1</td>\n",
       "      <td>100663</td>\n",
       "      <td>41200</td>\n",
       "    </tr>\n",
       "    <tr>\n",
       "      <td>2</td>\n",
       "      <td>100690</td>\n",
       "      <td>39600</td>\n",
       "    </tr>\n",
       "    <tr>\n",
       "      <td>3</td>\n",
       "      <td>100706</td>\n",
       "      <td>46700</td>\n",
       "    </tr>\n",
       "    <tr>\n",
       "      <td>4</td>\n",
       "      <td>100724</td>\n",
       "      <td>27700</td>\n",
       "    </tr>\n",
       "  </tbody>\n",
       "</table>\n",
       "</div>"
      ],
      "text/plain": [
       "   UNITID MD_EARN_WNE_P10\n",
       "0  100654           31000\n",
       "1  100663           41200\n",
       "2  100690           39600\n",
       "3  100706           46700\n",
       "4  100724           27700"
      ]
     },
     "execution_count": 103,
     "metadata": {},
     "output_type": "execute_result"
    }
   ],
   "source": [
    "# <4> \n",
    "# Explore this file - number of colleges, head/tail/sample etc.\n",
    "# Notice this file has different number of colleges from the previous file\n",
    "# This indicate they are not identical and they overlap (they don't contain the same set of colleges)\n",
    "df2.head()\n"
   ]
  },
  {
   "cell_type": "code",
   "execution_count": 104,
   "metadata": {},
   "outputs": [
    {
     "data": {
      "text/html": [
       "<div>\n",
       "<style scoped>\n",
       "    .dataframe tbody tr th:only-of-type {\n",
       "        vertical-align: middle;\n",
       "    }\n",
       "\n",
       "    .dataframe tbody tr th {\n",
       "        vertical-align: top;\n",
       "    }\n",
       "\n",
       "    .dataframe thead th {\n",
       "        text-align: right;\n",
       "    }\n",
       "</style>\n",
       "<table border=\"1\" class=\"dataframe\">\n",
       "  <thead>\n",
       "    <tr style=\"text-align: right;\">\n",
       "      <th></th>\n",
       "      <th>UNITID</th>\n",
       "      <th>MD_EARN_WNE_P10</th>\n",
       "    </tr>\n",
       "  </thead>\n",
       "  <tbody>\n",
       "    <tr>\n",
       "      <td>7107</td>\n",
       "      <td>48312404</td>\n",
       "      <td>NaN</td>\n",
       "    </tr>\n",
       "    <tr>\n",
       "      <td>7108</td>\n",
       "      <td>48387801</td>\n",
       "      <td>NaN</td>\n",
       "    </tr>\n",
       "    <tr>\n",
       "      <td>7109</td>\n",
       "      <td>48400201</td>\n",
       "      <td>NaN</td>\n",
       "    </tr>\n",
       "    <tr>\n",
       "      <td>7110</td>\n",
       "      <td>48778201</td>\n",
       "      <td>NaN</td>\n",
       "    </tr>\n",
       "    <tr>\n",
       "      <td>7111</td>\n",
       "      <td>49005401</td>\n",
       "      <td>NaN</td>\n",
       "    </tr>\n",
       "  </tbody>\n",
       "</table>\n",
       "</div>"
      ],
      "text/plain": [
       "        UNITID MD_EARN_WNE_P10\n",
       "7107  48312404             NaN\n",
       "7108  48387801             NaN\n",
       "7109  48400201             NaN\n",
       "7110  48778201             NaN\n",
       "7111  49005401             NaN"
      ]
     },
     "execution_count": 104,
     "metadata": {},
     "output_type": "execute_result"
    }
   ],
   "source": [
    "df2.tail()"
   ]
  },
  {
   "cell_type": "code",
   "execution_count": 105,
   "metadata": {},
   "outputs": [
    {
     "data": {
      "text/html": [
       "<div>\n",
       "<style scoped>\n",
       "    .dataframe tbody tr th:only-of-type {\n",
       "        vertical-align: middle;\n",
       "    }\n",
       "\n",
       "    .dataframe tbody tr th {\n",
       "        vertical-align: top;\n",
       "    }\n",
       "\n",
       "    .dataframe thead th {\n",
       "        text-align: right;\n",
       "    }\n",
       "</style>\n",
       "<table border=\"1\" class=\"dataframe\">\n",
       "  <thead>\n",
       "    <tr style=\"text-align: right;\">\n",
       "      <th></th>\n",
       "      <th>UNITID</th>\n",
       "      <th>MD_EARN_WNE_P10</th>\n",
       "    </tr>\n",
       "  </thead>\n",
       "  <tbody>\n",
       "    <tr>\n",
       "      <td>3396</td>\n",
       "      <td>222628</td>\n",
       "      <td>NaN</td>\n",
       "    </tr>\n",
       "    <tr>\n",
       "      <td>2758</td>\n",
       "      <td>204778</td>\n",
       "      <td>19300</td>\n",
       "    </tr>\n",
       "    <tr>\n",
       "      <td>1408</td>\n",
       "      <td>160612</td>\n",
       "      <td>37200</td>\n",
       "    </tr>\n",
       "    <tr>\n",
       "      <td>3471</td>\n",
       "      <td>226152</td>\n",
       "      <td>45800</td>\n",
       "    </tr>\n",
       "    <tr>\n",
       "      <td>1381</td>\n",
       "      <td>159531</td>\n",
       "      <td>PrivacySuppressed</td>\n",
       "    </tr>\n",
       "  </tbody>\n",
       "</table>\n",
       "</div>"
      ],
      "text/plain": [
       "      UNITID    MD_EARN_WNE_P10\n",
       "3396  222628                NaN\n",
       "2758  204778              19300\n",
       "1408  160612              37200\n",
       "3471  226152              45800\n",
       "1381  159531  PrivacySuppressed"
      ]
     },
     "execution_count": 105,
     "metadata": {},
     "output_type": "execute_result"
    }
   ],
   "source": [
    "df2.sample(5)"
   ]
  },
  {
   "cell_type": "code",
   "execution_count": 106,
   "metadata": {},
   "outputs": [
    {
     "name": "stdout",
     "output_type": "stream",
     "text": [
      "length of file: 7112\n"
     ]
    }
   ],
   "source": [
    "print(\"length of file:\",len(df2))"
   ]
  },
  {
   "cell_type": "code",
   "execution_count": 107,
   "metadata": {},
   "outputs": [
    {
     "data": {
      "text/html": [
       "<div>\n",
       "<style scoped>\n",
       "    .dataframe tbody tr th:only-of-type {\n",
       "        vertical-align: middle;\n",
       "    }\n",
       "\n",
       "    .dataframe tbody tr th {\n",
       "        vertical-align: top;\n",
       "    }\n",
       "\n",
       "    .dataframe thead th {\n",
       "        text-align: right;\n",
       "    }\n",
       "</style>\n",
       "<table border=\"1\" class=\"dataframe\">\n",
       "  <thead>\n",
       "    <tr style=\"text-align: right;\">\n",
       "      <th></th>\n",
       "      <th>UNITID</th>\n",
       "      <th>OPEID</th>\n",
       "      <th>OPEID6</th>\n",
       "      <th>INSTNM</th>\n",
       "      <th>CITY</th>\n",
       "      <th>ZIP</th>\n",
       "      <th>ADM_RATE</th>\n",
       "      <th>UGDS</th>\n",
       "      <th>TUITIONFEE_IN</th>\n",
       "      <th>MD_EARN_WNE_P10</th>\n",
       "    </tr>\n",
       "  </thead>\n",
       "  <tbody>\n",
       "    <tr>\n",
       "      <td>0</td>\n",
       "      <td>100654</td>\n",
       "      <td>100200</td>\n",
       "      <td>1002</td>\n",
       "      <td>Alabama A &amp; M University</td>\n",
       "      <td>Normal</td>\n",
       "      <td>35762</td>\n",
       "      <td>0.9027</td>\n",
       "      <td>4824.0</td>\n",
       "      <td>9857.0</td>\n",
       "      <td>31000</td>\n",
       "    </tr>\n",
       "    <tr>\n",
       "      <td>1</td>\n",
       "      <td>100663</td>\n",
       "      <td>105200</td>\n",
       "      <td>1052</td>\n",
       "      <td>University of Alabama at Birmingham</td>\n",
       "      <td>Birmingham</td>\n",
       "      <td>35294-0110</td>\n",
       "      <td>0.9181</td>\n",
       "      <td>12866.0</td>\n",
       "      <td>8328.0</td>\n",
       "      <td>41200</td>\n",
       "    </tr>\n",
       "    <tr>\n",
       "      <td>2</td>\n",
       "      <td>100690</td>\n",
       "      <td>2503400</td>\n",
       "      <td>25034</td>\n",
       "      <td>Amridge University</td>\n",
       "      <td>Montgomery</td>\n",
       "      <td>36117-3553</td>\n",
       "      <td>NaN</td>\n",
       "      <td>322.0</td>\n",
       "      <td>6900.0</td>\n",
       "      <td>39600</td>\n",
       "    </tr>\n",
       "    <tr>\n",
       "      <td>3</td>\n",
       "      <td>100706</td>\n",
       "      <td>105500</td>\n",
       "      <td>1055</td>\n",
       "      <td>University of Alabama in Huntsville</td>\n",
       "      <td>Huntsville</td>\n",
       "      <td>35899</td>\n",
       "      <td>0.8123</td>\n",
       "      <td>6917.0</td>\n",
       "      <td>10280.0</td>\n",
       "      <td>46700</td>\n",
       "    </tr>\n",
       "    <tr>\n",
       "      <td>4</td>\n",
       "      <td>100724</td>\n",
       "      <td>100500</td>\n",
       "      <td>1005</td>\n",
       "      <td>Alabama State University</td>\n",
       "      <td>Montgomery</td>\n",
       "      <td>36104-0271</td>\n",
       "      <td>0.9787</td>\n",
       "      <td>4189.0</td>\n",
       "      <td>11068.0</td>\n",
       "      <td>27700</td>\n",
       "    </tr>\n",
       "  </tbody>\n",
       "</table>\n",
       "</div>"
      ],
      "text/plain": [
       "   UNITID    OPEID  OPEID6                               INSTNM        CITY  \\\n",
       "0  100654   100200    1002             Alabama A & M University      Normal   \n",
       "1  100663   105200    1052  University of Alabama at Birmingham  Birmingham   \n",
       "2  100690  2503400   25034                   Amridge University  Montgomery   \n",
       "3  100706   105500    1055  University of Alabama in Huntsville  Huntsville   \n",
       "4  100724   100500    1005             Alabama State University  Montgomery   \n",
       "\n",
       "          ZIP  ADM_RATE     UGDS  TUITIONFEE_IN MD_EARN_WNE_P10  \n",
       "0       35762    0.9027   4824.0         9857.0           31000  \n",
       "1  35294-0110    0.9181  12866.0         8328.0           41200  \n",
       "2  36117-3553       NaN    322.0         6900.0           39600  \n",
       "3       35899    0.8123   6917.0        10280.0           46700  \n",
       "4  36104-0271    0.9787   4189.0        11068.0           27700  "
      ]
     },
     "execution_count": 107,
     "metadata": {},
     "output_type": "execute_result"
    }
   ],
   "source": [
    "# <5>\n",
    "#Join the two files together to produce a third file which contain all the columns of all colleges that are common to both files\n",
    "dfmerged =pd.merge(df,df2, how = 'outer', on = 'UNITID')\n",
    "dfmerged.head()"
   ]
  },
  {
   "cell_type": "code",
   "execution_count": 108,
   "metadata": {},
   "outputs": [
    {
     "data": {
      "text/html": [
       "<div>\n",
       "<style scoped>\n",
       "    .dataframe tbody tr th:only-of-type {\n",
       "        vertical-align: middle;\n",
       "    }\n",
       "\n",
       "    .dataframe tbody tr th {\n",
       "        vertical-align: top;\n",
       "    }\n",
       "\n",
       "    .dataframe thead th {\n",
       "        text-align: right;\n",
       "    }\n",
       "</style>\n",
       "<table border=\"1\" class=\"dataframe\">\n",
       "  <thead>\n",
       "    <tr style=\"text-align: right;\">\n",
       "      <th></th>\n",
       "      <th>UNITID</th>\n",
       "      <th>OPEID</th>\n",
       "      <th>OPEID6</th>\n",
       "      <th>INSTNM</th>\n",
       "      <th>CITY</th>\n",
       "      <th>ZIP</th>\n",
       "      <th>ADM_RATE</th>\n",
       "      <th>UGDS</th>\n",
       "      <th>TUITIONFEE_IN</th>\n",
       "      <th>MD_EARN_WNE_P10</th>\n",
       "    </tr>\n",
       "  </thead>\n",
       "  <tbody>\n",
       "    <tr>\n",
       "      <td>7107</td>\n",
       "      <td>48312404</td>\n",
       "      <td>108163</td>\n",
       "      <td>1081</td>\n",
       "      <td>Arizona State University at Yuma</td>\n",
       "      <td>Yuma</td>\n",
       "      <td>853656900</td>\n",
       "      <td>NaN</td>\n",
       "      <td>NaN</td>\n",
       "      <td>NaN</td>\n",
       "      <td>NaN</td>\n",
       "    </tr>\n",
       "    <tr>\n",
       "      <td>7108</td>\n",
       "      <td>48387801</td>\n",
       "      <td>4223701</td>\n",
       "      <td>42237</td>\n",
       "      <td>Bay Area Medical Academy - San Jose Satellite ...</td>\n",
       "      <td>San Jose</td>\n",
       "      <td>95113</td>\n",
       "      <td>NaN</td>\n",
       "      <td>NaN</td>\n",
       "      <td>NaN</td>\n",
       "      <td>NaN</td>\n",
       "    </tr>\n",
       "    <tr>\n",
       "      <td>7109</td>\n",
       "      <td>48400201</td>\n",
       "      <td>4228101</td>\n",
       "      <td>42281</td>\n",
       "      <td>High Desert Medical College</td>\n",
       "      <td>Lancaster</td>\n",
       "      <td>935340000</td>\n",
       "      <td>NaN</td>\n",
       "      <td>NaN</td>\n",
       "      <td>NaN</td>\n",
       "      <td>NaN</td>\n",
       "    </tr>\n",
       "    <tr>\n",
       "      <td>7110</td>\n",
       "      <td>48778201</td>\n",
       "      <td>4221501</td>\n",
       "      <td>42215</td>\n",
       "      <td>BCI - Malden</td>\n",
       "      <td>Malden</td>\n",
       "      <td>021480000</td>\n",
       "      <td>NaN</td>\n",
       "      <td>NaN</td>\n",
       "      <td>NaN</td>\n",
       "      <td>NaN</td>\n",
       "    </tr>\n",
       "    <tr>\n",
       "      <td>7111</td>\n",
       "      <td>49005401</td>\n",
       "      <td>4182601</td>\n",
       "      <td>41826</td>\n",
       "      <td>Health Career Institute- Lauderdale Lakes</td>\n",
       "      <td>Lauderdale Lakes</td>\n",
       "      <td>333137268</td>\n",
       "      <td>NaN</td>\n",
       "      <td>NaN</td>\n",
       "      <td>22575.0</td>\n",
       "      <td>NaN</td>\n",
       "    </tr>\n",
       "  </tbody>\n",
       "</table>\n",
       "</div>"
      ],
      "text/plain": [
       "        UNITID    OPEID  OPEID6  \\\n",
       "7107  48312404   108163    1081   \n",
       "7108  48387801  4223701   42237   \n",
       "7109  48400201  4228101   42281   \n",
       "7110  48778201  4221501   42215   \n",
       "7111  49005401  4182601   41826   \n",
       "\n",
       "                                                 INSTNM              CITY  \\\n",
       "7107                   Arizona State University at Yuma              Yuma   \n",
       "7108  Bay Area Medical Academy - San Jose Satellite ...          San Jose   \n",
       "7109                        High Desert Medical College         Lancaster   \n",
       "7110                                       BCI - Malden            Malden   \n",
       "7111          Health Career Institute- Lauderdale Lakes  Lauderdale Lakes   \n",
       "\n",
       "            ZIP  ADM_RATE  UGDS  TUITIONFEE_IN MD_EARN_WNE_P10  \n",
       "7107  853656900       NaN   NaN            NaN             NaN  \n",
       "7108      95113       NaN   NaN            NaN             NaN  \n",
       "7109  935340000       NaN   NaN            NaN             NaN  \n",
       "7110  021480000       NaN   NaN            NaN             NaN  \n",
       "7111  333137268       NaN   NaN        22575.0             NaN  "
      ]
     },
     "execution_count": 108,
     "metadata": {},
     "output_type": "execute_result"
    }
   ],
   "source": [
    "# <6>\n",
    "# Explore the new file\n",
    "dfmerged.tail()"
   ]
  },
  {
   "cell_type": "code",
   "execution_count": 109,
   "metadata": {
    "scrolled": true
   },
   "outputs": [
    {
     "data": {
      "text/html": [
       "<div>\n",
       "<style scoped>\n",
       "    .dataframe tbody tr th:only-of-type {\n",
       "        vertical-align: middle;\n",
       "    }\n",
       "\n",
       "    .dataframe tbody tr th {\n",
       "        vertical-align: top;\n",
       "    }\n",
       "\n",
       "    .dataframe thead th {\n",
       "        text-align: right;\n",
       "    }\n",
       "</style>\n",
       "<table border=\"1\" class=\"dataframe\">\n",
       "  <thead>\n",
       "    <tr style=\"text-align: right;\">\n",
       "      <th></th>\n",
       "      <th>UNITID</th>\n",
       "      <th>OPEID</th>\n",
       "      <th>OPEID6</th>\n",
       "      <th>INSTNM</th>\n",
       "      <th>CITY</th>\n",
       "      <th>ZIP</th>\n",
       "      <th>ADM_RATE</th>\n",
       "      <th>UGDS</th>\n",
       "      <th>TUITIONFEE_IN</th>\n",
       "      <th>MD_EARN_WNE_P10</th>\n",
       "    </tr>\n",
       "  </thead>\n",
       "  <tbody>\n",
       "    <tr>\n",
       "      <td>1920</td>\n",
       "      <td>178402</td>\n",
       "      <td>251800</td>\n",
       "      <td>2518</td>\n",
       "      <td>University of Missouri-Kansas City</td>\n",
       "      <td>Kansas City</td>\n",
       "      <td>64110</td>\n",
       "      <td>0.6415</td>\n",
       "      <td>7854.0</td>\n",
       "      <td>8011.0</td>\n",
       "      <td>45700</td>\n",
       "    </tr>\n",
       "    <tr>\n",
       "      <td>635</td>\n",
       "      <td>130873</td>\n",
       "      <td>3025800</td>\n",
       "      <td>30258</td>\n",
       "      <td>Dawn Career Institute LLC</td>\n",
       "      <td>Newark</td>\n",
       "      <td>19702</td>\n",
       "      <td>NaN</td>\n",
       "      <td>108.0</td>\n",
       "      <td>NaN</td>\n",
       "      <td>25400</td>\n",
       "    </tr>\n",
       "    <tr>\n",
       "      <td>1199</td>\n",
       "      <td>154013</td>\n",
       "      <td>188000</td>\n",
       "      <td>1880</td>\n",
       "      <td>Mount Mercy University</td>\n",
       "      <td>Cedar Rapids</td>\n",
       "      <td>52402-4797</td>\n",
       "      <td>0.5724</td>\n",
       "      <td>1502.0</td>\n",
       "      <td>30582.0</td>\n",
       "      <td>45300</td>\n",
       "    </tr>\n",
       "    <tr>\n",
       "      <td>2004</td>\n",
       "      <td>181312</td>\n",
       "      <td>255700</td>\n",
       "      <td>2557</td>\n",
       "      <td>Mid-Plains Community College</td>\n",
       "      <td>North Platte</td>\n",
       "      <td>69101</td>\n",
       "      <td>NaN</td>\n",
       "      <td>1205.0</td>\n",
       "      <td>3120.0</td>\n",
       "      <td>31100</td>\n",
       "    </tr>\n",
       "    <tr>\n",
       "      <td>6154</td>\n",
       "      <td>481456</td>\n",
       "      <td>4216800</td>\n",
       "      <td>42168</td>\n",
       "      <td>Bonnie Joseph Academy of Cosmetology &amp; Barbering</td>\n",
       "      <td>Heber City</td>\n",
       "      <td>84032-2044</td>\n",
       "      <td>NaN</td>\n",
       "      <td>8.0</td>\n",
       "      <td>NaN</td>\n",
       "      <td>NaN</td>\n",
       "    </tr>\n",
       "  </tbody>\n",
       "</table>\n",
       "</div>"
      ],
      "text/plain": [
       "      UNITID    OPEID  OPEID6  \\\n",
       "1920  178402   251800    2518   \n",
       "635   130873  3025800   30258   \n",
       "1199  154013   188000    1880   \n",
       "2004  181312   255700    2557   \n",
       "6154  481456  4216800   42168   \n",
       "\n",
       "                                                INSTNM          CITY  \\\n",
       "1920                University of Missouri-Kansas City   Kansas City   \n",
       "635                          Dawn Career Institute LLC        Newark   \n",
       "1199                            Mount Mercy University  Cedar Rapids   \n",
       "2004                      Mid-Plains Community College  North Platte   \n",
       "6154  Bonnie Joseph Academy of Cosmetology & Barbering    Heber City   \n",
       "\n",
       "             ZIP  ADM_RATE    UGDS  TUITIONFEE_IN MD_EARN_WNE_P10  \n",
       "1920       64110    0.6415  7854.0         8011.0           45700  \n",
       "635        19702       NaN   108.0            NaN           25400  \n",
       "1199  52402-4797    0.5724  1502.0        30582.0           45300  \n",
       "2004       69101       NaN  1205.0         3120.0           31100  \n",
       "6154  84032-2044       NaN     8.0            NaN             NaN  "
      ]
     },
     "execution_count": 109,
     "metadata": {},
     "output_type": "execute_result"
    }
   ],
   "source": [
    "dfmerged.sample(5)"
   ]
  },
  {
   "cell_type": "code",
   "execution_count": 110,
   "metadata": {},
   "outputs": [
    {
     "name": "stdout",
     "output_type": "stream",
     "text": [
      "length of second file: 7112\n",
      "<class 'pandas.core.frame.DataFrame'>\n",
      "Int64Index: 7112 entries, 0 to 7111\n",
      "Data columns (total 10 columns):\n",
      "UNITID             7112 non-null int64\n",
      "OPEID              7112 non-null int64\n",
      "OPEID6             7112 non-null int64\n",
      "INSTNM             7112 non-null object\n",
      "CITY               7112 non-null object\n",
      "ZIP                7112 non-null object\n",
      "ADM_RATE           2037 non-null float64\n",
      "UGDS               6364 non-null float64\n",
      "TUITIONFEE_IN      4021 non-null float64\n",
      "MD_EARN_WNE_P10    5887 non-null object\n",
      "dtypes: float64(3), int64(3), object(4)\n",
      "memory usage: 611.2+ KB\n"
     ]
    }
   ],
   "source": [
    "print(\"length of second file:\", len(dfmerged))\n",
    "dfmerged.info()"
   ]
  },
  {
   "cell_type": "code",
   "execution_count": 111,
   "metadata": {
    "scrolled": true
   },
   "outputs": [
    {
     "data": {
      "text/html": [
       "<div>\n",
       "<style scoped>\n",
       "    .dataframe tbody tr th:only-of-type {\n",
       "        vertical-align: middle;\n",
       "    }\n",
       "\n",
       "    .dataframe tbody tr th {\n",
       "        vertical-align: top;\n",
       "    }\n",
       "\n",
       "    .dataframe thead th {\n",
       "        text-align: right;\n",
       "    }\n",
       "</style>\n",
       "<table border=\"1\" class=\"dataframe\">\n",
       "  <thead>\n",
       "    <tr style=\"text-align: right;\">\n",
       "      <th></th>\n",
       "      <th>UNITID</th>\n",
       "      <th>OPEID</th>\n",
       "      <th>OPEID6</th>\n",
       "      <th>INSTNM</th>\n",
       "      <th>CITY</th>\n",
       "      <th>ZIP</th>\n",
       "      <th>ADM_RATE</th>\n",
       "      <th>UGDS</th>\n",
       "      <th>TUITIONFEE_IN</th>\n",
       "      <th>MD_EARN_WNE_P10</th>\n",
       "    </tr>\n",
       "  </thead>\n",
       "  <tbody>\n",
       "    <tr>\n",
       "      <td>2978</td>\n",
       "      <td>211893</td>\n",
       "      <td>325100</td>\n",
       "      <td>3251</td>\n",
       "      <td>Curtis Institute of Music</td>\n",
       "      <td>Philadelphia</td>\n",
       "      <td>19103</td>\n",
       "      <td>0.0330</td>\n",
       "      <td>131.0</td>\n",
       "      <td>2675.0</td>\n",
       "      <td>PrivacySuppressed</td>\n",
       "    </tr>\n",
       "    <tr>\n",
       "      <td>3979</td>\n",
       "      <td>243744</td>\n",
       "      <td>130500</td>\n",
       "      <td>1305</td>\n",
       "      <td>Stanford University</td>\n",
       "      <td>Stanford</td>\n",
       "      <td>94305</td>\n",
       "      <td>0.0473</td>\n",
       "      <td>7056.0</td>\n",
       "      <td>49617.0</td>\n",
       "      <td>94000</td>\n",
       "    </tr>\n",
       "    <tr>\n",
       "      <td>1557</td>\n",
       "      <td>166027</td>\n",
       "      <td>215500</td>\n",
       "      <td>2155</td>\n",
       "      <td>Harvard University</td>\n",
       "      <td>Cambridge</td>\n",
       "      <td>02138</td>\n",
       "      <td>0.0516</td>\n",
       "      <td>7532.0</td>\n",
       "      <td>48949.0</td>\n",
       "      <td>89700</td>\n",
       "    </tr>\n",
       "    <tr>\n",
       "      <td>2302</td>\n",
       "      <td>192110</td>\n",
       "      <td>274200</td>\n",
       "      <td>2742</td>\n",
       "      <td>The Juilliard School</td>\n",
       "      <td>New York</td>\n",
       "      <td>10023-6588</td>\n",
       "      <td>0.0592</td>\n",
       "      <td>486.0</td>\n",
       "      <td>43170.0</td>\n",
       "      <td>32800</td>\n",
       "    </tr>\n",
       "    <tr>\n",
       "      <td>2123</td>\n",
       "      <td>186131</td>\n",
       "      <td>262700</td>\n",
       "      <td>2627</td>\n",
       "      <td>Princeton University</td>\n",
       "      <td>Princeton</td>\n",
       "      <td>08544-0070</td>\n",
       "      <td>0.0641</td>\n",
       "      <td>5246.0</td>\n",
       "      <td>47140.0</td>\n",
       "      <td>74700</td>\n",
       "    </tr>\n",
       "    <tr>\n",
       "      <td>...</td>\n",
       "      <td>...</td>\n",
       "      <td>...</td>\n",
       "      <td>...</td>\n",
       "      <td>...</td>\n",
       "      <td>...</td>\n",
       "      <td>...</td>\n",
       "      <td>...</td>\n",
       "      <td>...</td>\n",
       "      <td>...</td>\n",
       "      <td>...</td>\n",
       "    </tr>\n",
       "    <tr>\n",
       "      <td>1598</td>\n",
       "      <td>167358</td>\n",
       "      <td>219900</td>\n",
       "      <td>2199</td>\n",
       "      <td>Northeastern University</td>\n",
       "      <td>Boston</td>\n",
       "      <td>02115-5005</td>\n",
       "      <td>0.2744</td>\n",
       "      <td>13666.0</td>\n",
       "      <td>49497.0</td>\n",
       "      <td>67400</td>\n",
       "    </tr>\n",
       "    <tr>\n",
       "      <td>2581</td>\n",
       "      <td>199847</td>\n",
       "      <td>297800</td>\n",
       "      <td>2978</td>\n",
       "      <td>Wake Forest University</td>\n",
       "      <td>Winston-Salem</td>\n",
       "      <td>27106</td>\n",
       "      <td>0.2757</td>\n",
       "      <td>5101.0</td>\n",
       "      <td>51400.0</td>\n",
       "      <td>63800</td>\n",
       "    </tr>\n",
       "    <tr>\n",
       "      <td>2351</td>\n",
       "      <td>193900</td>\n",
       "      <td>278500</td>\n",
       "      <td>2785</td>\n",
       "      <td>New York University</td>\n",
       "      <td>New York</td>\n",
       "      <td>10012-1091</td>\n",
       "      <td>0.2766</td>\n",
       "      <td>26055.0</td>\n",
       "      <td>50464.0</td>\n",
       "      <td>61900</td>\n",
       "    </tr>\n",
       "    <tr>\n",
       "      <td>3530</td>\n",
       "      <td>228325</td>\n",
       "      <td>361600</td>\n",
       "      <td>3616</td>\n",
       "      <td>Southwestern Assemblies of God University</td>\n",
       "      <td>Waxahachie</td>\n",
       "      <td>75165</td>\n",
       "      <td>0.2788</td>\n",
       "      <td>1730.0</td>\n",
       "      <td>19994.0</td>\n",
       "      <td>35700</td>\n",
       "    </tr>\n",
       "    <tr>\n",
       "      <td>225</td>\n",
       "      <td>110583</td>\n",
       "      <td>113900</td>\n",
       "      <td>1139</td>\n",
       "      <td>California State University-Long Beach</td>\n",
       "      <td>Long Beach</td>\n",
       "      <td>90840-0115</td>\n",
       "      <td>0.2799</td>\n",
       "      <td>31402.0</td>\n",
       "      <td>6730.0</td>\n",
       "      <td>48100</td>\n",
       "    </tr>\n",
       "  </tbody>\n",
       "</table>\n",
       "<p>100 rows × 10 columns</p>\n",
       "</div>"
      ],
      "text/plain": [
       "      UNITID   OPEID  OPEID6                                     INSTNM  \\\n",
       "2978  211893  325100    3251                  Curtis Institute of Music   \n",
       "3979  243744  130500    1305                        Stanford University   \n",
       "1557  166027  215500    2155                         Harvard University   \n",
       "2302  192110  274200    2742                       The Juilliard School   \n",
       "2123  186131  262700    2627                       Princeton University   \n",
       "...      ...     ...     ...                                        ...   \n",
       "1598  167358  219900    2199                    Northeastern University   \n",
       "2581  199847  297800    2978                     Wake Forest University   \n",
       "2351  193900  278500    2785                        New York University   \n",
       "3530  228325  361600    3616  Southwestern Assemblies of God University   \n",
       "225   110583  113900    1139     California State University-Long Beach   \n",
       "\n",
       "               CITY         ZIP  ADM_RATE     UGDS  TUITIONFEE_IN  \\\n",
       "2978   Philadelphia       19103    0.0330    131.0         2675.0   \n",
       "3979       Stanford       94305    0.0473   7056.0        49617.0   \n",
       "1557      Cambridge       02138    0.0516   7532.0        48949.0   \n",
       "2302       New York  10023-6588    0.0592    486.0        43170.0   \n",
       "2123      Princeton  08544-0070    0.0641   5246.0        47140.0   \n",
       "...             ...         ...       ...      ...            ...   \n",
       "1598         Boston  02115-5005    0.2744  13666.0        49497.0   \n",
       "2581  Winston-Salem       27106    0.2757   5101.0        51400.0   \n",
       "2351       New York  10012-1091    0.2766  26055.0        50464.0   \n",
       "3530     Waxahachie       75165    0.2788   1730.0        19994.0   \n",
       "225      Long Beach  90840-0115    0.2799  31402.0         6730.0   \n",
       "\n",
       "        MD_EARN_WNE_P10  \n",
       "2978  PrivacySuppressed  \n",
       "3979              94000  \n",
       "1557              89700  \n",
       "2302              32800  \n",
       "2123              74700  \n",
       "...                 ...  \n",
       "1598              67400  \n",
       "2581              63800  \n",
       "2351              61900  \n",
       "3530              35700  \n",
       "225               48100  \n",
       "\n",
       "[100 rows x 10 columns]"
      ]
     },
     "metadata": {},
     "output_type": "display_data"
    }
   ],
   "source": [
    "# <7>\n",
    "# Find out the top 100 colleges that are hardest to get in (Top 100) from this new file\n",
    "dfmerged = dfmerged[dfmerged.ADM_RATE != 0]\n",
    "difficultSchools = dfmerged.nsmallest(100, \"ADM_RATE\")\n",
    "display(difficultSchools)"
   ]
  },
  {
   "cell_type": "code",
   "execution_count": 112,
   "metadata": {},
   "outputs": [
    {
     "name": "stdout",
     "output_type": "stream",
     "text": [
      "Average tuition for the top 100 schools: 38534\n"
     ]
    }
   ],
   "source": [
    "# <8>\n",
    "# Display the summary statistics of the in-state tuitions of the top 100 colleges that are hardest to get in\n",
    "avgTuition = difficultSchools[\"TUITIONFEE_IN\"].mean()\n",
    "print(\"Average tuition for the top 100 schools:\", round(avgTuition))"
   ]
  },
  {
   "cell_type": "code",
   "execution_count": 113,
   "metadata": {},
   "outputs": [
    {
     "data": {
      "text/plain": [
       "Text(0, 0.5, 'Number of schools')"
      ]
     },
     "execution_count": 113,
     "metadata": {},
     "output_type": "execute_result"
    },
    {
     "data": {
      "image/png": "[encoded data removed]",
      "text/plain": [
       "<Figure size 432x288 with 1 Axes>"
      ]
     },
     "metadata": {
      "needs_background": "light"
     },
     "output_type": "display_data"
    }
   ],
   "source": [
    "# <9>\n",
    "# Display the histogram of the in-state tuitions of the top 100 colleges that are hardest to get in\n",
    "myhisto = plt.hist((difficultSchools['TUITIONFEE_IN'])[~np.isnan(difficultSchools['TUITIONFEE_IN'])])\n",
    "plt.title('In State Tuition For Top 100 Schools')\n",
    "plt.xlabel('Cost [dollars]')\n",
    "plt.ylabel('Number of schools')"
   ]
  },
  {
   "cell_type": "code",
   "execution_count": 114,
   "metadata": {},
   "outputs": [
    {
     "name": "stdout",
     "output_type": "stream",
     "text": [
      "Average earnings for top 100 school's graduates: 60975\n"
     ]
    }
   ],
   "source": [
    "# <10>\n",
    "# Display the summary statistics of the earning potentials of the top 100 colleges that are hardest to get in\n",
    "EarnAvg = pd.to_numeric(difficultSchools['MD_EARN_WNE_P10'], errors='coerce').mean()\n",
    "print(\"Average earnings for top 100 school's graduates:\", round(EarnAvg))\n",
    "mymin = pd.to_numeric(difficultSchools['MD_EARN_WNE_P10'], errors='coerce').min()\n",
    "mymax = pd.to_numeric(difficultSchools['MD_EARN_WNE_P10'], errors='coerce').max()\n",
    "myrange = mymax - mymin\n",
    "myxticks = []\n",
    "temp = mymin\n",
    "for i in range(0,10):\n",
    "    myxticks.append(temp)\n",
    "    temp += myrange/10"
   ]
  },
  {
   "cell_type": "code",
   "execution_count": 115,
   "metadata": {},
   "outputs": [
    {
     "data": {
      "text/plain": [
       "(array([12.,  3.,  7.,  9., 23., 11.,  9.,  9.,  5.,  1.]),\n",
       " array([ 25400.,  33330.,  41260.,  49190.,  57120.,  65050.,  72980.,\n",
       "         80910.,  88840.,  96770., 104700.]),\n",
       " <a list of 10 Patch objects>)"
      ]
     },
     "execution_count": 115,
     "metadata": {},
     "output_type": "execute_result"
    },
    {
     "data": {
      "image/png": "[encoded data removed]",
      "text/plain": [
       "<Figure size 432x288 with 1 Axes>"
      ]
     },
     "metadata": {
      "needs_background": "light"
     },
     "output_type": "display_data"
    }
   ],
   "source": [
    "# <11>\n",
    "# Display the histogram of the earning potentials of the top 100 colleges that are hardest to get in\n",
    "df = difficultSchools[difficultSchools.MD_EARN_WNE_P10 != 'PrivacySuppressed']\n",
    "EarnPot = pd.to_numeric(df['MD_EARN_WNE_P10'], errors = 'coerce')\n",
    "plt.hist(EarnPot)"
   ]
  },
  {
   "cell_type": "code",
   "execution_count": 116,
   "metadata": {
    "scrolled": true
   },
   "outputs": [
    {
     "data": {
      "text/plain": [
       "3979    49617\n",
       "1557    48949\n",
       "2302    43170\n",
       "2123    47140\n",
       "2233    57208\n",
       "        ...  \n",
       "1598    49497\n",
       "2581    51400\n",
       "2351    50464\n",
       "3530    19994\n",
       "225      6730\n",
       "Name: TUITIONFEE_IN, Length: 82, dtype: int32"
      ]
     },
     "metadata": {},
     "output_type": "display_data"
    },
    {
     "data": {
      "text/plain": [
       "<matplotlib.axes._subplots.AxesSubplot at 0x22d44557488>"
      ]
     },
     "execution_count": 116,
     "metadata": {},
     "output_type": "execute_result"
    },
    {
     "data": {
      "image/png": "[encoded data removed]",
      "text/plain": [
       "<Figure size 432x288 with 1 Axes>"
      ]
     },
     "metadata": {
      "needs_background": "light"
     },
     "output_type": "display_data"
    }
   ],
   "source": [
    "# <12>\n",
    "# Make a scatter plot of the in-state tuition and the median graduate earnings of \n",
    "# the top 100 colleges that are hardest to get in\n",
    "# using Pandas\n",
    "tuit = pd.to_numeric(df['TUITIONFEE_IN'], errors = 'coerce')\n",
    "\n",
    "df = df.dropna()\n",
    "df['TUITIONFEE_IN'] = df['TUITIONFEE_IN'].astype(int)\n",
    "df['MD_EARN_WNE_P10'] = df['MD_EARN_WNE_P10'].astype(int)\n",
    "display(df['TUITIONFEE_IN'].astype(int))\n",
    "df.plot.scatter('TUITIONFEE_IN','MD_EARN_WNE_P10')"
   ]
  },
  {
   "cell_type": "code",
   "execution_count": 117,
   "metadata": {},
   "outputs": [
    {
     "data": {
      "text/plain": [
       "Text(0.5, 1.0, 'In state tuition and earnings of students in top 100 schools')"
      ]
     },
     "execution_count": 117,
     "metadata": {},
     "output_type": "execute_result"
    },
    {
     "data": {
      "image/png": "[encoded data removed]",
      "text/plain": [
       "<Figure size 432x288 with 1 Axes>"
      ]
     },
     "metadata": {
      "needs_background": "light"
     },
     "output_type": "display_data"
    }
   ],
   "source": [
    "# <13>\n",
    "# Make a scatter plot of the in-state tuition and the median graduate earnings of \n",
    "# the top 100 colleges that are hardest to get in\n",
    "# using Matplotlib\n",
    "tuit = pd.to_numeric(df['TUITIONFEE_IN'], errors = 'coerce')\n",
    "Earnings = df['MD_EARN_WNE_P10'].astype(str).astype(float)\n",
    "plt.scatter(x = tuit, y = Earnings)\n",
    "plt.xlabel('In state tuition [$]')\n",
    "plt.ylabel('Earnings [$]')\n",
    "plt.title('In state tuition and earnings of students in top 100 schools')"
   ]
  },
  {
   "cell_type": "code",
   "execution_count": 118,
   "metadata": {},
   "outputs": [
    {
     "data": {
      "image/png": "[encoded data removed]",
      "text/plain": [
       "<Figure size 432x288 with 1 Axes>"
      ]
     },
     "metadata": {
      "needs_background": "light"
     },
     "output_type": "display_data"
    }
   ],
   "source": [
    "# <14>\n",
    "# Make a scatter plot of the in-state tuition and the median graduate earnings of \n",
    "# the top 100 colleges that are hardest to get in\n",
    "# using Seaborn\n",
    "ax = sns.scatterplot(tuit, Earnings)"
   ]
  },
  {
   "cell_type": "code",
   "execution_count": 119,
   "metadata": {},
   "outputs": [],
   "source": [
    "# <15> \n",
    "# Your observation/conclusion of the scatter plot (use the following Markdown cell)"
   ]
  },
  {
   "cell_type": "markdown",
   "metadata": {},
   "source": [
    "#### Based on my observation of the scatter plot,\n",
    "#### There are two (at least) two groupings of student outcomes. One is that they spend alot of money on theur education and are higher erners and the other is that they do not spend as much on their education and are lower earners. There is a noticable gap in the middle - with almost no data points for spending a moderate amount on education and become moderate earners. Not accounting for loan amounts and time to pay back, the plot indicates it is 'best' to spend more on an education. Alternatively, if more expensive schools are more expensive becuase of name recognition, this graph helps the idea of 'its not what you know its who you know'"
   ]
  }
 ],
 "metadata": {
  "kernelspec": {
   "display_name": "Python 3",
   "language": "python",
   "name": "python3"
  },
  "language_info": {
   "codemirror_mode": {
    "name": "ipython",
    "version": 3
   },
   "file_extension": ".py",
   "mimetype": "text/x-python",
   "name": "python",
   "nbconvert_exporter": "python",
   "pygments_lexer": "ipython3",
   "version": "3.7.4"
  }
 },
 "nbformat": 4,
 "nbformat_minor": 2
}
