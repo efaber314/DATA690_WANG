{
  "nbformat": 4,
  "nbformat_minor": 0,
  "metadata": {
    "colab": {
      "name": "assignment_08.ipynb",
      "provenance": [],
      "authorship_tag": "ABX9TyO/B6WR0HzjA2Ssof8S4VuR",
      "include_colab_link": true
    },
    "kernelspec": {
      "name": "python3",
      "display_name": "Python 3"
    }
  },
  "cells": [
    {
      "cell_type": "markdown",
      "metadata": {
        "id": "view-in-github",
        "colab_type": "text"
      },
      "source": [
        "<a href=\"https://colab.research.google.com/github/efaber314/DATA690_WANG/blob/master/assignment_08.ipynb\" target=\"_parent\"><img src=\"https://colab.research.google.com/assets/colab-badge.svg\" alt=\"Open In Colab\"/></a>"
      ]
    },
    {
      "cell_type": "code",
      "metadata": {
        "id": "0K4WjSAYGDkg",
        "colab_type": "code",
        "colab": {}
      },
      "source": [
        "#Assignment 8, Data Science 690\n",
        "#Emily Faber, Spring 2020"
      ],
      "execution_count": 0,
      "outputs": []
    },
    {
      "cell_type": "code",
      "metadata": {
        "id": "LG5o1KlyGOK6",
        "colab_type": "code",
        "colab": {}
      },
      "source": [
        "import pandas as pd\n",
        "import numpy as np\n",
        "from scipy.stats import sem, t"
      ],
      "execution_count": 0,
      "outputs": []
    },
    {
      "cell_type": "code",
      "metadata": {
        "id": "wiitJq9bGRQ7",
        "colab_type": "code",
        "colab": {}
      },
      "source": [
        "url = \"https://ed-public-download.app.cloud.gov/downloads/Most-Recent-Cohorts-All-Data-Elements.csv\"\n",
        "df = pd.read_csv(url, usecols = ['CONTROL','MD_EARN_WNE_P10'])"
      ],
      "execution_count": 0,
      "outputs": []
    },
    {
      "cell_type": "code",
      "metadata": {
        "id": "lA360c02HCEK",
        "colab_type": "code",
        "colab": {
          "base_uri": "https://localhost:8080/",
          "height": 206
        },
        "outputId": "66a37e7e-baa2-4169-db3e-2849681a1d41"
      },
      "source": [
        "df.head() "
      ],
      "execution_count": 82,
      "outputs": [
        {
          "output_type": "execute_result",
          "data": {
            "text/html": [
              "<div>\n",
              "<style scoped>\n",
              "    .dataframe tbody tr th:only-of-type {\n",
              "        vertical-align: middle;\n",
              "    }\n",
              "\n",
              "    .dataframe tbody tr th {\n",
              "        vertical-align: top;\n",
              "    }\n",
              "\n",
              "    .dataframe thead th {\n",
              "        text-align: right;\n",
              "    }\n",
              "</style>\n",
              "<table border=\"1\" class=\"dataframe\">\n",
              "  <thead>\n",
              "    <tr style=\"text-align: right;\">\n",
              "      <th></th>\n",
              "      <th>CONTROL</th>\n",
              "      <th>MD_EARN_WNE_P10</th>\n",
              "    </tr>\n",
              "  </thead>\n",
              "  <tbody>\n",
              "    <tr>\n",
              "      <th>0</th>\n",
              "      <td>1</td>\n",
              "      <td>31000</td>\n",
              "    </tr>\n",
              "    <tr>\n",
              "      <th>1</th>\n",
              "      <td>1</td>\n",
              "      <td>41200</td>\n",
              "    </tr>\n",
              "    <tr>\n",
              "      <th>2</th>\n",
              "      <td>2</td>\n",
              "      <td>39600</td>\n",
              "    </tr>\n",
              "    <tr>\n",
              "      <th>3</th>\n",
              "      <td>1</td>\n",
              "      <td>46700</td>\n",
              "    </tr>\n",
              "    <tr>\n",
              "      <th>4</th>\n",
              "      <td>1</td>\n",
              "      <td>27700</td>\n",
              "    </tr>\n",
              "  </tbody>\n",
              "</table>\n",
              "</div>"
            ],
            "text/plain": [
              "   CONTROL MD_EARN_WNE_P10\n",
              "0        1           31000\n",
              "1        1           41200\n",
              "2        2           39600\n",
              "3        1           46700\n",
              "4        1           27700"
            ]
          },
          "metadata": {
            "tags": []
          },
          "execution_count": 82
        }
      ]
    },
    {
      "cell_type": "markdown",
      "metadata": {
        "id": "v-t_-3EhIMQ9",
        "colab_type": "text"
      },
      "source": [
        "The control column references the type of institution. 1 for PUBLIC, 2 for PRIVATE NON-PROFIT, 3 for PRIVATE FOR-PROFIT"
      ]
    },
    {
      "cell_type": "code",
      "metadata": {
        "id": "rtioV65KIcGA",
        "colab_type": "code",
        "colab": {
          "base_uri": "https://localhost:8080/",
          "height": 206
        },
        "outputId": "e4b235d1-82f7-44e0-9d93-d326ab0dc1dc"
      },
      "source": [
        "df = df.loc[df['CONTROL']== 1]\n",
        "df.head()"
      ],
      "execution_count": 83,
      "outputs": [
        {
          "output_type": "execute_result",
          "data": {
            "text/html": [
              "<div>\n",
              "<style scoped>\n",
              "    .dataframe tbody tr th:only-of-type {\n",
              "        vertical-align: middle;\n",
              "    }\n",
              "\n",
              "    .dataframe tbody tr th {\n",
              "        vertical-align: top;\n",
              "    }\n",
              "\n",
              "    .dataframe thead th {\n",
              "        text-align: right;\n",
              "    }\n",
              "</style>\n",
              "<table border=\"1\" class=\"dataframe\">\n",
              "  <thead>\n",
              "    <tr style=\"text-align: right;\">\n",
              "      <th></th>\n",
              "      <th>CONTROL</th>\n",
              "      <th>MD_EARN_WNE_P10</th>\n",
              "    </tr>\n",
              "  </thead>\n",
              "  <tbody>\n",
              "    <tr>\n",
              "      <th>0</th>\n",
              "      <td>1</td>\n",
              "      <td>31000</td>\n",
              "    </tr>\n",
              "    <tr>\n",
              "      <th>1</th>\n",
              "      <td>1</td>\n",
              "      <td>41200</td>\n",
              "    </tr>\n",
              "    <tr>\n",
              "      <th>3</th>\n",
              "      <td>1</td>\n",
              "      <td>46700</td>\n",
              "    </tr>\n",
              "    <tr>\n",
              "      <th>4</th>\n",
              "      <td>1</td>\n",
              "      <td>27700</td>\n",
              "    </tr>\n",
              "    <tr>\n",
              "      <th>5</th>\n",
              "      <td>1</td>\n",
              "      <td>44500</td>\n",
              "    </tr>\n",
              "  </tbody>\n",
              "</table>\n",
              "</div>"
            ],
            "text/plain": [
              "   CONTROL MD_EARN_WNE_P10\n",
              "0        1           31000\n",
              "1        1           41200\n",
              "3        1           46700\n",
              "4        1           27700\n",
              "5        1           44500"
            ]
          },
          "metadata": {
            "tags": []
          },
          "execution_count": 83
        }
      ]
    },
    {
      "cell_type": "code",
      "metadata": {
        "id": "0ptBG0ZiIylN",
        "colab_type": "code",
        "colab": {
          "base_uri": "https://localhost:8080/",
          "height": 206
        },
        "outputId": "0c92add0-2e88-4aa0-edd3-25ceedb67af5"
      },
      "source": [
        "df = df.loc[df[\"MD_EARN_WNE_P10\"] != 0]\n",
        "df = df.loc[df[\"MD_EARN_WNE_P10\"] != 'PrivacySuppressed']\n",
        "df.dropna(how = 'any', axis = 'rows', inplace = True)\n",
        "df.sample(5)"
      ],
      "execution_count": 104,
      "outputs": [
        {
          "output_type": "execute_result",
          "data": {
            "text/html": [
              "<div>\n",
              "<style scoped>\n",
              "    .dataframe tbody tr th:only-of-type {\n",
              "        vertical-align: middle;\n",
              "    }\n",
              "\n",
              "    .dataframe tbody tr th {\n",
              "        vertical-align: top;\n",
              "    }\n",
              "\n",
              "    .dataframe thead th {\n",
              "        text-align: right;\n",
              "    }\n",
              "</style>\n",
              "<table border=\"1\" class=\"dataframe\">\n",
              "  <thead>\n",
              "    <tr style=\"text-align: right;\">\n",
              "      <th></th>\n",
              "      <th>CONTROL</th>\n",
              "      <th>MD_EARN_WNE_P10</th>\n",
              "    </tr>\n",
              "  </thead>\n",
              "  <tbody>\n",
              "    <tr>\n",
              "      <th>6498</th>\n",
              "      <td>1</td>\n",
              "      <td>35400</td>\n",
              "    </tr>\n",
              "    <tr>\n",
              "      <th>375</th>\n",
              "      <td>1</td>\n",
              "      <td>38600</td>\n",
              "    </tr>\n",
              "    <tr>\n",
              "      <th>3371</th>\n",
              "      <td>1</td>\n",
              "      <td>37300</td>\n",
              "    </tr>\n",
              "    <tr>\n",
              "      <th>1365</th>\n",
              "      <td>1</td>\n",
              "      <td>29000</td>\n",
              "    </tr>\n",
              "    <tr>\n",
              "      <th>3001</th>\n",
              "      <td>1</td>\n",
              "      <td>53900</td>\n",
              "    </tr>\n",
              "  </tbody>\n",
              "</table>\n",
              "</div>"
            ],
            "text/plain": [
              "      CONTROL MD_EARN_WNE_P10\n",
              "6498        1           35400\n",
              "375         1           38600\n",
              "3371        1           37300\n",
              "1365        1           29000\n",
              "3001        1           53900"
            ]
          },
          "metadata": {
            "tags": []
          },
          "execution_count": 104
        }
      ]
    },
    {
      "cell_type": "code",
      "metadata": {
        "id": "MHrmdfQRJRSl",
        "colab_type": "code",
        "colab": {}
      },
      "source": [
        "sample50 = df.sample(50)"
      ],
      "execution_count": 0,
      "outputs": []
    },
    {
      "cell_type": "code",
      "metadata": {
        "id": "oJUrdcYsKfsR",
        "colab_type": "code",
        "colab": {
          "base_uri": "https://localhost:8080/",
          "height": 54
        },
        "outputId": "347d4320-badf-4535-d0b3-6601198d1e5e"
      },
      "source": [
        "mean50 = np.mean(sample50['MD_EARN_WNE_P10'].astype('int'))\n",
        "std50 = sem(sample50['MD_EARN_WNE_P10'].astype('int'))\n",
        "print(\"Mean:\", mean50)\n",
        "print(\"Standard deviation:\", np.round(std50, 3))"
      ],
      "execution_count": 113,
      "outputs": [
        {
          "output_type": "stream",
          "text": [
            "Mean: 33094.0\n",
            "Standard deviation: 1645.4\n"
          ],
          "name": "stdout"
        }
      ]
    },
    {
      "cell_type": "code",
      "metadata": {
        "id": "26EhwQU_KrG1",
        "colab_type": "code",
        "colab": {
          "base_uri": "https://localhost:8080/",
          "height": 72
        },
        "outputId": "312746ec-b3bc-4ed4-dd20-1b59aa072f76"
      },
      "source": [
        "n = len(sample50['MD_EARN_WNE_P10'])\n",
        "intervals = [.68, .95, .997]\n",
        "for confidence in intervals:\n",
        "  interval = std50*t.ppf((1+confidence)/2, n-1)\n",
        "  print(\"The\", confidence, \"interval for a sample of 50 is from\",np.round(mean50 - interval,3), \"to\",np.round(mean50 + interval, 3))"
      ],
      "execution_count": 114,
      "outputs": [
        {
          "output_type": "stream",
          "text": [
            "The 0.68 interval for a sample of 50 is from 31440.945 to 34747.055\n",
            "The 0.95 interval for a sample of 50 is from 29787.444 to 36400.556\n",
            "The 0.997 interval for a sample of 50 is from 27954.87 to 38233.13\n"
          ],
          "name": "stdout"
        }
      ]
    },
    {
      "cell_type": "code",
      "metadata": {
        "id": "N1Nu9xLSMChI",
        "colab_type": "code",
        "colab": {
          "base_uri": "https://localhost:8080/",
          "height": 35
        },
        "outputId": "13b856aa-39b4-4489-8692-f70bbda02770"
      },
      "source": [
        "populationMean = np.mean(df['MD_EARN_WNE_P10'].astype('int'))\n",
        "print(\"Population mean:\", np.round(populationMean,3))"
      ],
      "execution_count": 115,
      "outputs": [
        {
          "output_type": "stream",
          "text": [
            "Population mean: 36083.216\n"
          ],
          "name": "stdout"
        }
      ]
    },
    {
      "cell_type": "code",
      "metadata": {
        "id": "9590LYwrOU9l",
        "colab_type": "code",
        "colab": {
          "base_uri": "https://localhost:8080/",
          "height": 35
        },
        "outputId": "29acf392-6941-41ed-bb15-17401bbde8eb"
      },
      "source": [
        "print(\"The difference between the population mean and the 50 sample mean is:\", np.round(np.abs(populationMean - mean50),3))"
      ],
      "execution_count": 116,
      "outputs": [
        {
          "output_type": "stream",
          "text": [
            "The difference between the population mean and the 50 sample mean is: 2989.216\n"
          ],
          "name": "stdout"
        }
      ]
    },
    {
      "cell_type": "code",
      "metadata": {
        "id": "d7xmZn9_OsT1",
        "colab_type": "code",
        "colab": {
          "base_uri": "https://localhost:8080/",
          "height": 54
        },
        "outputId": "270761b8-dd39-4882-cd59-9147319366a9"
      },
      "source": [
        "sample100 = df.sample(100)\n",
        "mean100 = np.mean(sample100['MD_EARN_WNE_P10'].astype('int'))\n",
        "std100 = sem(sample100['MD_EARN_WNE_P10'].astype(int))\n",
        "print(\"mean of 100 samples\", mean100)\n",
        "print(\"standard error of 100 samples\", np.round(std100,3))"
      ],
      "execution_count": 117,
      "outputs": [
        {
          "output_type": "stream",
          "text": [
            "mean of 100 samples 34779.0\n",
            "standard error of 100 samples 889.097\n"
          ],
          "name": "stdout"
        }
      ]
    },
    {
      "cell_type": "code",
      "metadata": {
        "id": "hnYJUWm9PMr0",
        "colab_type": "code",
        "colab": {
          "base_uri": "https://localhost:8080/",
          "height": 72
        },
        "outputId": "e98fb8f0-541e-44e9-b6d5-d498451b942f"
      },
      "source": [
        "n = len(sample100['MD_EARN_WNE_P10'])\n",
        "for confidence in intervals:\n",
        "  interval = std50*t.ppf((1+confidence)/2, n-1)\n",
        "  print(\"The\", confidence, \"interval for a sample of 100 is from\", np.round(mean50 - interval,3), \"to\", np.round(mean50 + interval,3))"
      ],
      "execution_count": 119,
      "outputs": [
        {
          "output_type": "stream",
          "text": [
            "The 0.68 interval for a sample of 100 is from 31449.459 to 34738.541\n",
            "The 0.95 interval for a sample of 100 is from 29829.169 to 36358.831\n",
            "The 0.997 interval for a sample of 100 is from 28087.138 to 38100.862\n"
          ],
          "name": "stdout"
        }
      ]
    },
    {
      "cell_type": "code",
      "metadata": {
        "id": "IbZlnGY6P6YL",
        "colab_type": "code",
        "colab": {
          "base_uri": "https://localhost:8080/",
          "height": 35
        },
        "outputId": "e3753028-0934-4c9e-b0f2-14f1d2aaa29d"
      },
      "source": [
        "print(\"the difference between the population mean and the sample 100 mean is:\", np.round(np.abs(populationMean - mean100),3))"
      ],
      "execution_count": 120,
      "outputs": [
        {
          "output_type": "stream",
          "text": [
            "the difference between the population mean and the sample 100 mean is: 1304.216\n"
          ],
          "name": "stdout"
        }
      ]
    },
    {
      "cell_type": "markdown",
      "metadata": {
        "id": "f0X7wEj7QtF9",
        "colab_type": "text"
      },
      "source": [
        "The difference between the population mean and the sample mean is smaller for sample containing 100 values than the sample containing 50 values. The standard error also decreases when you increase the sample size. This shows that the larger sample size will statistically lead to better estimates."
      ]
    },
    {
      "cell_type": "code",
      "metadata": {
        "id": "5yH_OxR7VED6",
        "colab_type": "code",
        "colab": {}
      },
      "source": [
        ""
      ],
      "execution_count": 0,
      "outputs": []
    }
  ]
}