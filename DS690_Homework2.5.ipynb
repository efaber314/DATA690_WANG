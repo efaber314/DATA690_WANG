{
 "cells": [
  {
   "cell_type": "code",
   "execution_count": null,
   "metadata": {},
   "outputs": [],
   "source": [
    "#Excersise 1 from practicepython.org\n",
    "import datetime\n",
    "\n",
    "currentYear = int(datetime.datetime.now().year)\n",
    "\n",
    "#get user input\n",
    "name = input(\"please input your name \")\n",
    "age = input(\"please input your age \")\n",
    "age = int(age)\n",
    "#verify input to user\n",
    "print(\"Name: \", name)\n",
    "print(\"Age: \", age)\n",
    "\n",
    "#find year they will be 100 years old\n",
    "year100 = currentYear - age + 100\n",
    "\n",
    "#print year they will be 100 years old, accounting for if\n",
    "#they are already 100 years old\n",
    "if age < 100:\n",
    "    print(\"The year\", name, \"will be 100 is:\" , year100)\n",
    "else:\n",
    "    print(\"The year\", name, \"was 100 was:\", year100)"
   ]
  },
  {
   "cell_type": "code",
   "execution_count": null,
   "metadata": {},
   "outputs": [],
   "source": [
    "#Exercise 2\n",
    "\n",
    "#ask user for input\n",
    "userNumber = input(\"please input a number \")\n",
    "userNumber = int(userNumber)\n",
    "\n",
    "#a number by definition is even if its divided by 2 with 0 left over\n",
    "if userNumber % 2 == 0:\n",
    "    print(\"The number you entered was\", userNumber, \"and is even\")\n",
    "    \n",
    "else:\n",
    "    print(\"The number you entered was\", userNumber,\"and is odd\")\n"
   ]
  },
  {
   "cell_type": "code",
   "execution_count": null,
   "metadata": {},
   "outputs": [],
   "source": [
    "#Exercise 3\n",
    "\n",
    "#the list provided by the exercise\n",
    "a = [1, 1, 2, 3, 5, 8, 13, 21, 34, 55, 89]\n",
    "lessThanNumber = 5\n",
    "\n",
    "for i in range(len(a)):\n",
    "    try:\n",
    "        testNumber = int(a[i])\n",
    "        if int(a[i]) < lessThanNumber:\n",
    "            print(a[i])\n",
    "    except:\n",
    "        i += 1  \n"
   ]
  },
  {
   "cell_type": "code",
   "execution_count": null,
   "metadata": {},
   "outputs": [],
   "source": [
    "#Excersise 4\n",
    "\n",
    "#get user input\n",
    "userNumber = input(\"Please input a number \")\n",
    "userNumber = int(userNumber)\n",
    "\n",
    "#personalized message out about what the program does\n",
    "print(\"The number\", userNumber,\"is divisible by \", end = \"\")\n",
    "\n",
    "#checks every number between 1 and the number the user chose\n",
    "for i in range(userNumber):\n",
    "    #i starts off as 0, so we have to offset it\n",
    "    remainder = userNumber % (i+1) \n",
    "    #remainder will be 0 if the number i is a divisor\n",
    "    if remainder == 0: \n",
    "        print(i+1, \" \" , end = \"\")\n",
    "        "
   ]
  },
  {
   "cell_type": "code",
   "execution_count": null,
   "metadata": {},
   "outputs": [],
   "source": [
    "#Exercise 5\n",
    "\n",
    "#two lists provided by the exercise:\n",
    "a = [1, 1, 2, 3, 5, 8, 13, 21, 34, 55, 89]\n",
    "b = [1, 2, 3, 4, 5, 6, 7, 8, 9, 10, 11, 12, 13]\n",
    "\n",
    "#there is a built in function for intersection of sets so\n",
    "#I type cast the lists as a set\n",
    "\n",
    "print(set(a).intersection(set(b)))\n",
    "\n"
   ]
  },
  {
   "cell_type": "code",
   "execution_count": null,
   "metadata": {},
   "outputs": [],
   "source": [
    "#Exercise 6\n",
    "\n",
    "#asks user for input\n",
    "userString_ = input(\"please put in a string \")\n",
    "#in order to work on sentences, we have to remove the spaces\n",
    "userString = userString_.replace(\" \", \"\")\n",
    "\n",
    "#declare empty string to reverse the user string in to\n",
    "palindromeCheck = \"\"\n",
    "\n",
    "for i in range(len(userString)):\n",
    "    #revereses the string\n",
    "    palindromeCheck = palindromeCheck + userString[len(userString) - i - 1]\n",
    "\n",
    "#python can string compare to see if the string and the reversed\n",
    "#string are the same\n",
    "if palindromeCheck == userString:\n",
    "    print(\"The string\", userString_, \"is a palindrome!\")\n",
    "    \n",
    "else:\n",
    "    print(\"The string\", userString_, \"is NOT a palindrome\")\n",
    "    \n",
    "    "
   ]
  }
 ],
 "metadata": {
  "kernelspec": {
   "display_name": "Python 3",
   "language": "python",
   "name": "python3"
  },
  "language_info": {
   "codemirror_mode": {
    "name": "ipython",
    "version": 3
   },
   "file_extension": ".py",
   "mimetype": "text/x-python",
   "name": "python",
   "nbconvert_exporter": "python",
   "pygments_lexer": "ipython3",
   "version": "3.7.4"
  }
 },
 "nbformat": 4,
 "nbformat_minor": 2
}
