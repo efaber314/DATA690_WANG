{
  "nbformat": 4,
  "nbformat_minor": 0,
  "metadata": {
    "colab": {
      "name": "Assignment9.ipynb",
      "provenance": [],
      "collapsed_sections": [],
      "authorship_tag": "ABX9TyPQg7BHl329BYyBALK308SC",
      "include_colab_link": true
    },
    "kernelspec": {
      "name": "python3",
      "display_name": "Python 3"
    }
  },
  "cells": [
    {
      "cell_type": "markdown",
      "metadata": {
        "id": "view-in-github",
        "colab_type": "text"
      },
      "source": [
        "<a href=\"https://colab.research.google.com/github/efaber314/DATA690_WANG/blob/master/Assignments/Assignment9.ipynb\" target=\"_parent\"><img src=\"https://colab.research.google.com/assets/colab-badge.svg\" alt=\"Open In Colab\"/></a>"
      ]
    },
    {
      "cell_type": "code",
      "metadata": {
        "id": "9rGUgxcVbvR2",
        "colab_type": "code",
        "colab": {}
      },
      "source": [
        "import numpy as np\n",
        "import matplotlib.pyplot as plt"
      ],
      "execution_count": 0,
      "outputs": []
    },
    {
      "cell_type": "code",
      "metadata": {
        "id": "mW9RJ2hcb2r2",
        "colab_type": "code",
        "colab": {}
      },
      "source": [
        "sampleData = [6414, 1550, 2109, 9350, 21828, 4300, 5944, 5722, 2825, 2044, 5481, 5200, 5853, 2750, 10012, 6357, 27000, 9414, 7681, 3200, 17500, 9200, 7380, 18314, 6557, 13713, 17768, 7493, 2771, 2861, 1263, 7285, 28165, 5080, 11622]"
      ],
      "execution_count": 0,
      "outputs": []
    },
    {
      "cell_type": "code",
      "metadata": {
        "id": "PC5W7jEVc3ZB",
        "colab_type": "code",
        "outputId": "40d2a53f-f5a4-4451-ff57-84e754f740ca",
        "colab": {
          "base_uri": "https://localhost:8080/",
          "height": 338
        }
      },
      "source": [
        "plt.hist(sampleData)"
      ],
      "execution_count": 40,
      "outputs": [
        {
          "output_type": "execute_result",
          "data": {
            "text/plain": [
              "(array([ 9., 10.,  5.,  4.,  1.,  0.,  3.,  1.,  0.,  2.]),\n",
              " array([ 1263. ,  3953.2,  6643.4,  9333.6, 12023.8, 14714. , 17404.2,\n",
              "        20094.4, 22784.6, 25474.8, 28165. ]),\n",
              " <a list of 10 Patch objects>)"
            ]
          },
          "metadata": {
            "tags": []
          },
          "execution_count": 40
        },
        {
          "output_type": "display_data",
          "data": {
            "image/png": "[encoded data removed]",
            "text/plain": [
              "<Figure size 432x288 with 1 Axes>"
            ]
          },
          "metadata": {
            "tags": [],
            "needs_background": "light"
          }
        }
      ]
    },
    {
      "cell_type": "code",
      "metadata": {
        "id": "irjRv_8gO0Zl",
        "colab_type": "code",
        "colab": {}
      },
      "source": [
        "average = np.average(sampleData)\n",
        "stdSample = np.std(sampleData)\n",
        "n = 35\n",
        "mu = 5000\n",
        "dof = n -1"
      ],
      "execution_count": 0,
      "outputs": []
    },
    {
      "cell_type": "code",
      "metadata": {
        "id": "mftNDu3mTfbV",
        "colab_type": "code",
        "colab": {}
      },
      "source": [
        "tscore = average - mu\n",
        "tscore /= stdSample/np.sqrt(n)"
      ],
      "execution_count": 0,
      "outputs": []
    },
    {
      "cell_type": "code",
      "metadata": {
        "id": "pxKShmvNTusD",
        "colab_type": "code",
        "colab": {}
      },
      "source": [
        "standardError = stdSample/(np.sqrt(n))"
      ],
      "execution_count": 0,
      "outputs": []
    },
    {
      "cell_type": "code",
      "metadata": {
        "id": "zE6BnY8zuZ7O",
        "colab_type": "code",
        "colab": {}
      },
      "source": [
        " interval = standardError * tscore"
      ],
      "execution_count": 0,
      "outputs": []
    },
    {
      "cell_type": "code",
      "metadata": {
        "id": "oWy-qgHpul7O",
        "colab_type": "code",
        "colab": {}
      },
      "source": [
        "upperbound = average + interval\n",
        "lowerbound = average - interval"
      ],
      "execution_count": 0,
      "outputs": []
    },
    {
      "cell_type": "code",
      "metadata": {
        "id": "8CGgGvi9u_Rd",
        "colab_type": "code",
        "colab": {
          "base_uri": "https://localhost:8080/",
          "height": 35
        },
        "outputId": "670591b8-5c20-42b3-f4d6-8ea31f71114f"
      },
      "source": [
        "print(\"The estimate is \", np.round(average,0),\"with a 95% confidence interval between\", np.round(lowerbound,0), \", and\", np.round(upperbound, 0)) "
      ],
      "execution_count": 46,
      "outputs": [
        {
          "output_type": "stream",
          "text": [
            "The estimate is  8629.0 with a 95% confidence interval between 5000.0 , and 12257.0\n"
          ],
          "name": "stdout"
        }
      ]
    },
    {
      "cell_type": "code",
      "metadata": {
        "id": "6jwTxC2ZvPRN",
        "colab_type": "code",
        "colab": {}
      },
      "source": [
        ""
      ],
      "execution_count": 0,
      "outputs": []
    }
  ]
}