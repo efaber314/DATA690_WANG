{
  "nbformat": 4,
  "nbformat_minor": 0,
  "metadata": {
    "kernelspec": {
      "display_name": "Python 3",
      "language": "python",
      "name": "python3"
    },
    "language_info": {
      "codemirror_mode": {
        "name": "ipython",
        "version": 3
      },
      "file_extension": ".py",
      "mimetype": "text/x-python",
      "name": "python",
      "nbconvert_exporter": "python",
      "pygments_lexer": "ipython3",
      "version": "3.7.1"
    },
    "colab": {
      "name": "Pandas Aggregate.ipynb",
      "provenance": [],
      "include_colab_link": true
    }
  },
  "cells": [
    {
      "cell_type": "markdown",
      "metadata": {
        "id": "view-in-github",
        "colab_type": "text"
      },
      "source": [
        "<a href=\"https://colab.research.google.com/github/efaber314/DATA690_WANG/blob/master/Assignments/Pandas_Aggregate.ipynb\" target=\"_parent\"><img src=\"https://colab.research.google.com/assets/colab-badge.svg\" alt=\"Open In Colab\"/></a>"
      ]
    },
    {
      "cell_type": "markdown",
      "metadata": {
        "id": "iTVxSxRB5w-o",
        "colab_type": "text"
      },
      "source": [
        "### 07 - Pandas Aggregate"
      ]
    },
    {
      "cell_type": "code",
      "metadata": {
        "id": "NnFGL7F55w-r",
        "colab_type": "code",
        "colab": {}
      },
      "source": [
        "import numpy as np\n",
        "import pandas as pd\n",
        "import string"
      ],
      "execution_count": 0,
      "outputs": []
    },
    {
      "cell_type": "code",
      "metadata": {
        "id": "o4tNPGoy7Jl1",
        "colab_type": "code",
        "colab": {
          "base_uri": "https://localhost:8080/",
          "height": 201
        },
        "outputId": "7ddbaf24-6d65-48e0-a130-f6165c719dc2"
      },
      "source": [
        "a = np.arange(100)\n",
        "b = a.reshape(10,10)\n",
        "b"
      ],
      "execution_count": 10,
      "outputs": [
        {
          "output_type": "execute_result",
          "data": {
            "text/plain": [
              "array([[ 0,  1,  2,  3,  4,  5,  6,  7,  8,  9],\n",
              "       [10, 11, 12, 13, 14, 15, 16, 17, 18, 19],\n",
              "       [20, 21, 22, 23, 24, 25, 26, 27, 28, 29],\n",
              "       [30, 31, 32, 33, 34, 35, 36, 37, 38, 39],\n",
              "       [40, 41, 42, 43, 44, 45, 46, 47, 48, 49],\n",
              "       [50, 51, 52, 53, 54, 55, 56, 57, 58, 59],\n",
              "       [60, 61, 62, 63, 64, 65, 66, 67, 68, 69],\n",
              "       [70, 71, 72, 73, 74, 75, 76, 77, 78, 79],\n",
              "       [80, 81, 82, 83, 84, 85, 86, 87, 88, 89],\n",
              "       [90, 91, 92, 93, 94, 95, 96, 97, 98, 99]])"
            ]
          },
          "metadata": {
            "tags": []
          },
          "execution_count": 10
        }
      ]
    },
    {
      "cell_type": "code",
      "metadata": {
        "id": "jL_4L2yp5w-8",
        "colab_type": "code",
        "colab": {
          "base_uri": "https://localhost:8080/",
          "height": 35
        },
        "outputId": "0fd042e7-b98f-412a-c090-5d919259f7ff"
      },
      "source": [
        "# We start with a refresher on Numpy\n",
        "# We have used rea-world data which is massive and messy.\n",
        "# Let's generate small and simple dataset today\n",
        "# create a list of 100 integers from 0 to 99 using Numpy arange \n",
        "# then reshape it to a 10 by 10 matrix (a list with 10 lists, each is a list of 10 integers)\n",
        "\n",
        "x = np.arange(100).reshape(10,10)"
      ],
      "execution_count": 6,
      "outputs": [
        {
          "output_type": "execute_result",
          "data": {
            "text/plain": [
              "range"
            ]
          },
          "metadata": {
            "tags": []
          },
          "execution_count": 6
        }
      ]
    },
    {
      "cell_type": "code",
      "metadata": {
        "id": "70ZYvDIq62Ij",
        "colab_type": "code",
        "colab": {
          "base_uri": "https://localhost:8080/",
          "height": 35
        },
        "outputId": "dcec781e-4f31-4e72-d0e8-fd509af316c7"
      },
      "source": [
        "x = range(5)\n",
        "type(x)"
      ],
      "execution_count": 7,
      "outputs": [
        {
          "output_type": "execute_result",
          "data": {
            "text/plain": [
              "range"
            ]
          },
          "metadata": {
            "tags": []
          },
          "execution_count": 7
        }
      ]
    },
    {
      "cell_type": "code",
      "metadata": {
        "id": "rhRqJv1p5w_O",
        "colab_type": "code",
        "colab": {
          "base_uri": "https://localhost:8080/",
          "height": 35
        },
        "outputId": "8f449e6e-0eb0-4a18-fc9d-5ad6ad34db5d"
      },
      "source": [
        "# Create a string of 26 alphabets (type str)\n",
        "# turn a str into a list of 26 alphabets\n",
        "# then only keep the fist 10 alphabets\n",
        "# We will use the 10 alphabets as the column names for our dataframe\n",
        "\n",
        "y = list(string.ascii_uppercase)[0:10]\n",
        "y"
      ],
      "execution_count": 3,
      "outputs": [
        {
          "output_type": "execute_result",
          "data": {
            "text/plain": [
              "['A', 'B', 'C', 'D', 'E', 'F', 'G', 'H', 'I', 'J']"
            ]
          },
          "metadata": {
            "tags": []
          },
          "execution_count": 3
        }
      ]
    },
    {
      "cell_type": "code",
      "metadata": {
        "id": "BRHLRS075w_Z",
        "colab_type": "code",
        "colab": {
          "base_uri": "https://localhost:8080/",
          "height": 363
        },
        "outputId": "1011316a-fd5b-4d94-d571-07dcec8d2ab9"
      },
      "source": [
        "# Create a data frame using x as the data and y as the column names\n",
        "df = pd.DataFrame(x, columns=y)\n",
        "df"
      ],
      "execution_count": 4,
      "outputs": [
        {
          "output_type": "execute_result",
          "data": {
            "text/html": [
              "<div>\n",
              "<style scoped>\n",
              "    .dataframe tbody tr th:only-of-type {\n",
              "        vertical-align: middle;\n",
              "    }\n",
              "\n",
              "    .dataframe tbody tr th {\n",
              "        vertical-align: top;\n",
              "    }\n",
              "\n",
              "    .dataframe thead th {\n",
              "        text-align: right;\n",
              "    }\n",
              "</style>\n",
              "<table border=\"1\" class=\"dataframe\">\n",
              "  <thead>\n",
              "    <tr style=\"text-align: right;\">\n",
              "      <th></th>\n",
              "      <th>A</th>\n",
              "      <th>B</th>\n",
              "      <th>C</th>\n",
              "      <th>D</th>\n",
              "      <th>E</th>\n",
              "      <th>F</th>\n",
              "      <th>G</th>\n",
              "      <th>H</th>\n",
              "      <th>I</th>\n",
              "      <th>J</th>\n",
              "    </tr>\n",
              "  </thead>\n",
              "  <tbody>\n",
              "    <tr>\n",
              "      <th>0</th>\n",
              "      <td>0</td>\n",
              "      <td>1</td>\n",
              "      <td>2</td>\n",
              "      <td>3</td>\n",
              "      <td>4</td>\n",
              "      <td>5</td>\n",
              "      <td>6</td>\n",
              "      <td>7</td>\n",
              "      <td>8</td>\n",
              "      <td>9</td>\n",
              "    </tr>\n",
              "    <tr>\n",
              "      <th>1</th>\n",
              "      <td>10</td>\n",
              "      <td>11</td>\n",
              "      <td>12</td>\n",
              "      <td>13</td>\n",
              "      <td>14</td>\n",
              "      <td>15</td>\n",
              "      <td>16</td>\n",
              "      <td>17</td>\n",
              "      <td>18</td>\n",
              "      <td>19</td>\n",
              "    </tr>\n",
              "    <tr>\n",
              "      <th>2</th>\n",
              "      <td>20</td>\n",
              "      <td>21</td>\n",
              "      <td>22</td>\n",
              "      <td>23</td>\n",
              "      <td>24</td>\n",
              "      <td>25</td>\n",
              "      <td>26</td>\n",
              "      <td>27</td>\n",
              "      <td>28</td>\n",
              "      <td>29</td>\n",
              "    </tr>\n",
              "    <tr>\n",
              "      <th>3</th>\n",
              "      <td>30</td>\n",
              "      <td>31</td>\n",
              "      <td>32</td>\n",
              "      <td>33</td>\n",
              "      <td>34</td>\n",
              "      <td>35</td>\n",
              "      <td>36</td>\n",
              "      <td>37</td>\n",
              "      <td>38</td>\n",
              "      <td>39</td>\n",
              "    </tr>\n",
              "    <tr>\n",
              "      <th>4</th>\n",
              "      <td>40</td>\n",
              "      <td>41</td>\n",
              "      <td>42</td>\n",
              "      <td>43</td>\n",
              "      <td>44</td>\n",
              "      <td>45</td>\n",
              "      <td>46</td>\n",
              "      <td>47</td>\n",
              "      <td>48</td>\n",
              "      <td>49</td>\n",
              "    </tr>\n",
              "    <tr>\n",
              "      <th>5</th>\n",
              "      <td>50</td>\n",
              "      <td>51</td>\n",
              "      <td>52</td>\n",
              "      <td>53</td>\n",
              "      <td>54</td>\n",
              "      <td>55</td>\n",
              "      <td>56</td>\n",
              "      <td>57</td>\n",
              "      <td>58</td>\n",
              "      <td>59</td>\n",
              "    </tr>\n",
              "    <tr>\n",
              "      <th>6</th>\n",
              "      <td>60</td>\n",
              "      <td>61</td>\n",
              "      <td>62</td>\n",
              "      <td>63</td>\n",
              "      <td>64</td>\n",
              "      <td>65</td>\n",
              "      <td>66</td>\n",
              "      <td>67</td>\n",
              "      <td>68</td>\n",
              "      <td>69</td>\n",
              "    </tr>\n",
              "    <tr>\n",
              "      <th>7</th>\n",
              "      <td>70</td>\n",
              "      <td>71</td>\n",
              "      <td>72</td>\n",
              "      <td>73</td>\n",
              "      <td>74</td>\n",
              "      <td>75</td>\n",
              "      <td>76</td>\n",
              "      <td>77</td>\n",
              "      <td>78</td>\n",
              "      <td>79</td>\n",
              "    </tr>\n",
              "    <tr>\n",
              "      <th>8</th>\n",
              "      <td>80</td>\n",
              "      <td>81</td>\n",
              "      <td>82</td>\n",
              "      <td>83</td>\n",
              "      <td>84</td>\n",
              "      <td>85</td>\n",
              "      <td>86</td>\n",
              "      <td>87</td>\n",
              "      <td>88</td>\n",
              "      <td>89</td>\n",
              "    </tr>\n",
              "    <tr>\n",
              "      <th>9</th>\n",
              "      <td>90</td>\n",
              "      <td>91</td>\n",
              "      <td>92</td>\n",
              "      <td>93</td>\n",
              "      <td>94</td>\n",
              "      <td>95</td>\n",
              "      <td>96</td>\n",
              "      <td>97</td>\n",
              "      <td>98</td>\n",
              "      <td>99</td>\n",
              "    </tr>\n",
              "  </tbody>\n",
              "</table>\n",
              "</div>"
            ],
            "text/plain": [
              "    A   B   C   D   E   F   G   H   I   J\n",
              "0   0   1   2   3   4   5   6   7   8   9\n",
              "1  10  11  12  13  14  15  16  17  18  19\n",
              "2  20  21  22  23  24  25  26  27  28  29\n",
              "3  30  31  32  33  34  35  36  37  38  39\n",
              "4  40  41  42  43  44  45  46  47  48  49\n",
              "5  50  51  52  53  54  55  56  57  58  59\n",
              "6  60  61  62  63  64  65  66  67  68  69\n",
              "7  70  71  72  73  74  75  76  77  78  79\n",
              "8  80  81  82  83  84  85  86  87  88  89\n",
              "9  90  91  92  93  94  95  96  97  98  99"
            ]
          },
          "metadata": {
            "tags": []
          },
          "execution_count": 4
        }
      ]
    },
    {
      "cell_type": "code",
      "metadata": {
        "id": "GkPfPkuM9QfC",
        "colab_type": "code",
        "colab": {
          "base_uri": "https://localhost:8080/",
          "height": 329
        },
        "outputId": "ec632c96-346d-414f-e60e-8b226106b1ed"
      },
      "source": [
        "df.info()"
      ],
      "execution_count": 14,
      "outputs": [
        {
          "output_type": "stream",
          "text": [
            "<class 'pandas.core.frame.DataFrame'>\n",
            "RangeIndex: 10 entries, 0 to 9\n",
            "Data columns (total 10 columns):\n",
            " #   Column  Non-Null Count  Dtype\n",
            "---  ------  --------------  -----\n",
            " 0   A       10 non-null     int64\n",
            " 1   B       10 non-null     int64\n",
            " 2   C       10 non-null     int64\n",
            " 3   D       10 non-null     int64\n",
            " 4   E       10 non-null     int64\n",
            " 5   F       10 non-null     int64\n",
            " 6   G       10 non-null     int64\n",
            " 7   H       10 non-null     int64\n",
            " 8   I       10 non-null     int64\n",
            " 9   J       10 non-null     int64\n",
            "dtypes: int64(10)\n",
            "memory usage: 928.0 bytes\n"
          ],
          "name": "stdout"
        }
      ]
    },
    {
      "cell_type": "code",
      "metadata": {
        "id": "YSIHzHDm5w_h",
        "colab_type": "code",
        "colab": {
          "base_uri": "https://localhost:8080/",
          "height": 300
        },
        "outputId": "21d43566-fc12-4a30-8b1c-0950a1e94104"
      },
      "source": [
        "# Use describe() method to produce summary statistics \n",
        "df.describe()"
      ],
      "execution_count": 5,
      "outputs": [
        {
          "output_type": "execute_result",
          "data": {
            "text/html": [
              "<div>\n",
              "<style scoped>\n",
              "    .dataframe tbody tr th:only-of-type {\n",
              "        vertical-align: middle;\n",
              "    }\n",
              "\n",
              "    .dataframe tbody tr th {\n",
              "        vertical-align: top;\n",
              "    }\n",
              "\n",
              "    .dataframe thead th {\n",
              "        text-align: right;\n",
              "    }\n",
              "</style>\n",
              "<table border=\"1\" class=\"dataframe\">\n",
              "  <thead>\n",
              "    <tr style=\"text-align: right;\">\n",
              "      <th></th>\n",
              "      <th>A</th>\n",
              "      <th>B</th>\n",
              "      <th>C</th>\n",
              "      <th>D</th>\n",
              "      <th>E</th>\n",
              "      <th>F</th>\n",
              "      <th>G</th>\n",
              "      <th>H</th>\n",
              "      <th>I</th>\n",
              "      <th>J</th>\n",
              "    </tr>\n",
              "  </thead>\n",
              "  <tbody>\n",
              "    <tr>\n",
              "      <th>count</th>\n",
              "      <td>10.000000</td>\n",
              "      <td>10.000000</td>\n",
              "      <td>10.000000</td>\n",
              "      <td>10.000000</td>\n",
              "      <td>10.000000</td>\n",
              "      <td>10.000000</td>\n",
              "      <td>10.000000</td>\n",
              "      <td>10.000000</td>\n",
              "      <td>10.000000</td>\n",
              "      <td>10.000000</td>\n",
              "    </tr>\n",
              "    <tr>\n",
              "      <th>mean</th>\n",
              "      <td>45.000000</td>\n",
              "      <td>46.000000</td>\n",
              "      <td>47.000000</td>\n",
              "      <td>48.000000</td>\n",
              "      <td>49.000000</td>\n",
              "      <td>50.000000</td>\n",
              "      <td>51.000000</td>\n",
              "      <td>52.000000</td>\n",
              "      <td>53.000000</td>\n",
              "      <td>54.000000</td>\n",
              "    </tr>\n",
              "    <tr>\n",
              "      <th>std</th>\n",
              "      <td>30.276504</td>\n",
              "      <td>30.276504</td>\n",
              "      <td>30.276504</td>\n",
              "      <td>30.276504</td>\n",
              "      <td>30.276504</td>\n",
              "      <td>30.276504</td>\n",
              "      <td>30.276504</td>\n",
              "      <td>30.276504</td>\n",
              "      <td>30.276504</td>\n",
              "      <td>30.276504</td>\n",
              "    </tr>\n",
              "    <tr>\n",
              "      <th>min</th>\n",
              "      <td>0.000000</td>\n",
              "      <td>1.000000</td>\n",
              "      <td>2.000000</td>\n",
              "      <td>3.000000</td>\n",
              "      <td>4.000000</td>\n",
              "      <td>5.000000</td>\n",
              "      <td>6.000000</td>\n",
              "      <td>7.000000</td>\n",
              "      <td>8.000000</td>\n",
              "      <td>9.000000</td>\n",
              "    </tr>\n",
              "    <tr>\n",
              "      <th>25%</th>\n",
              "      <td>22.500000</td>\n",
              "      <td>23.500000</td>\n",
              "      <td>24.500000</td>\n",
              "      <td>25.500000</td>\n",
              "      <td>26.500000</td>\n",
              "      <td>27.500000</td>\n",
              "      <td>28.500000</td>\n",
              "      <td>29.500000</td>\n",
              "      <td>30.500000</td>\n",
              "      <td>31.500000</td>\n",
              "    </tr>\n",
              "    <tr>\n",
              "      <th>50%</th>\n",
              "      <td>45.000000</td>\n",
              "      <td>46.000000</td>\n",
              "      <td>47.000000</td>\n",
              "      <td>48.000000</td>\n",
              "      <td>49.000000</td>\n",
              "      <td>50.000000</td>\n",
              "      <td>51.000000</td>\n",
              "      <td>52.000000</td>\n",
              "      <td>53.000000</td>\n",
              "      <td>54.000000</td>\n",
              "    </tr>\n",
              "    <tr>\n",
              "      <th>75%</th>\n",
              "      <td>67.500000</td>\n",
              "      <td>68.500000</td>\n",
              "      <td>69.500000</td>\n",
              "      <td>70.500000</td>\n",
              "      <td>71.500000</td>\n",
              "      <td>72.500000</td>\n",
              "      <td>73.500000</td>\n",
              "      <td>74.500000</td>\n",
              "      <td>75.500000</td>\n",
              "      <td>76.500000</td>\n",
              "    </tr>\n",
              "    <tr>\n",
              "      <th>max</th>\n",
              "      <td>90.000000</td>\n",
              "      <td>91.000000</td>\n",
              "      <td>92.000000</td>\n",
              "      <td>93.000000</td>\n",
              "      <td>94.000000</td>\n",
              "      <td>95.000000</td>\n",
              "      <td>96.000000</td>\n",
              "      <td>97.000000</td>\n",
              "      <td>98.000000</td>\n",
              "      <td>99.000000</td>\n",
              "    </tr>\n",
              "  </tbody>\n",
              "</table>\n",
              "</div>"
            ],
            "text/plain": [
              "               A          B          C  ...          H          I          J\n",
              "count  10.000000  10.000000  10.000000  ...  10.000000  10.000000  10.000000\n",
              "mean   45.000000  46.000000  47.000000  ...  52.000000  53.000000  54.000000\n",
              "std    30.276504  30.276504  30.276504  ...  30.276504  30.276504  30.276504\n",
              "min     0.000000   1.000000   2.000000  ...   7.000000   8.000000   9.000000\n",
              "25%    22.500000  23.500000  24.500000  ...  29.500000  30.500000  31.500000\n",
              "50%    45.000000  46.000000  47.000000  ...  52.000000  53.000000  54.000000\n",
              "75%    67.500000  68.500000  69.500000  ...  74.500000  75.500000  76.500000\n",
              "max    90.000000  91.000000  92.000000  ...  97.000000  98.000000  99.000000\n",
              "\n",
              "[8 rows x 10 columns]"
            ]
          },
          "metadata": {
            "tags": []
          },
          "execution_count": 5
        }
      ]
    },
    {
      "cell_type": "code",
      "metadata": {
        "id": "Hn5m3b065w_q",
        "colab_type": "code",
        "colab": {
          "base_uri": "https://localhost:8080/",
          "height": 112
        },
        "outputId": "d92c3370-ea23-47d1-9391-c9d554e84cdc"
      },
      "source": [
        "# The summary statistics does not include the sum of each column or each row \n",
        "# we would use aggregate() function\n",
        "df.sample(2)"
      ],
      "execution_count": 15,
      "outputs": [
        {
          "output_type": "execute_result",
          "data": {
            "text/html": [
              "<div>\n",
              "<style scoped>\n",
              "    .dataframe tbody tr th:only-of-type {\n",
              "        vertical-align: middle;\n",
              "    }\n",
              "\n",
              "    .dataframe tbody tr th {\n",
              "        vertical-align: top;\n",
              "    }\n",
              "\n",
              "    .dataframe thead th {\n",
              "        text-align: right;\n",
              "    }\n",
              "</style>\n",
              "<table border=\"1\" class=\"dataframe\">\n",
              "  <thead>\n",
              "    <tr style=\"text-align: right;\">\n",
              "      <th></th>\n",
              "      <th>A</th>\n",
              "      <th>B</th>\n",
              "      <th>C</th>\n",
              "      <th>D</th>\n",
              "      <th>E</th>\n",
              "      <th>F</th>\n",
              "      <th>G</th>\n",
              "      <th>H</th>\n",
              "      <th>I</th>\n",
              "      <th>J</th>\n",
              "    </tr>\n",
              "  </thead>\n",
              "  <tbody>\n",
              "    <tr>\n",
              "      <th>3</th>\n",
              "      <td>30</td>\n",
              "      <td>31</td>\n",
              "      <td>32</td>\n",
              "      <td>33</td>\n",
              "      <td>34</td>\n",
              "      <td>35</td>\n",
              "      <td>36</td>\n",
              "      <td>37</td>\n",
              "      <td>38</td>\n",
              "      <td>39</td>\n",
              "    </tr>\n",
              "    <tr>\n",
              "      <th>2</th>\n",
              "      <td>20</td>\n",
              "      <td>21</td>\n",
              "      <td>22</td>\n",
              "      <td>23</td>\n",
              "      <td>24</td>\n",
              "      <td>25</td>\n",
              "      <td>26</td>\n",
              "      <td>27</td>\n",
              "      <td>28</td>\n",
              "      <td>29</td>\n",
              "    </tr>\n",
              "  </tbody>\n",
              "</table>\n",
              "</div>"
            ],
            "text/plain": [
              "    A   B   C   D   E   F   G   H   I   J\n",
              "3  30  31  32  33  34  35  36  37  38  39\n",
              "2  20  21  22  23  24  25  26  27  28  29"
            ]
          },
          "metadata": {
            "tags": []
          },
          "execution_count": 15
        }
      ]
    },
    {
      "cell_type": "code",
      "metadata": {
        "id": "n7nFZYCE5w_y",
        "colab_type": "code",
        "colab": {
          "base_uri": "https://localhost:8080/",
          "height": 219
        },
        "outputId": "86471eb5-83a0-47a5-ad16-d2560077f542"
      },
      "source": [
        "# By default, aggregate is over the rows \n",
        "\n",
        "df.aggregate(\"sum\")"
      ],
      "execution_count": 18,
      "outputs": [
        {
          "output_type": "execute_result",
          "data": {
            "text/plain": [
              "A    450\n",
              "B    460\n",
              "C    470\n",
              "D    480\n",
              "E    490\n",
              "F    500\n",
              "G    510\n",
              "H    520\n",
              "I    530\n",
              "J    540\n",
              "dtype: int64"
            ]
          },
          "metadata": {
            "tags": []
          },
          "execution_count": 18
        }
      ]
    },
    {
      "cell_type": "code",
      "metadata": {
        "id": "lB02isCq5w_4",
        "colab_type": "code",
        "colab": {},
        "outputId": "b01c8934-3203-4da7-dc6b-91965a1c432a"
      },
      "source": [
        "# We can also aggregate over columns\n",
        "# BTW, agg is an alias for aggregrate\n",
        "\n",
        "df.agg(\"sum\",axis=\"columns\")"
      ],
      "execution_count": 0,
      "outputs": [
        {
          "output_type": "execute_result",
          "data": {
            "text/plain": [
              "0     45\n",
              "1    145\n",
              "2    245\n",
              "3    345\n",
              "4    445\n",
              "5    545\n",
              "6    645\n",
              "7    745\n",
              "8    845\n",
              "9    945\n",
              "dtype: int64"
            ]
          },
          "metadata": {
            "tags": []
          },
          "execution_count": 59
        }
      ]
    },
    {
      "cell_type": "code",
      "metadata": {
        "id": "bJUKlJsF5w_-",
        "colab_type": "code",
        "colab": {},
        "outputId": "d80b2897-1789-499d-847b-35966a38e29e"
      },
      "source": [
        "# You can aggregate using multiple functions\n",
        "\n",
        "df.agg([\"sum\", \"median\",\"std\"])"
      ],
      "execution_count": 0,
      "outputs": [
        {
          "output_type": "execute_result",
          "data": {
            "text/html": [
              "<div>\n",
              "<style scoped>\n",
              "    .dataframe tbody tr th:only-of-type {\n",
              "        vertical-align: middle;\n",
              "    }\n",
              "\n",
              "    .dataframe tbody tr th {\n",
              "        vertical-align: top;\n",
              "    }\n",
              "\n",
              "    .dataframe thead th {\n",
              "        text-align: right;\n",
              "    }\n",
              "</style>\n",
              "<table border=\"1\" class=\"dataframe\">\n",
              "  <thead>\n",
              "    <tr style=\"text-align: right;\">\n",
              "      <th></th>\n",
              "      <th>A</th>\n",
              "      <th>B</th>\n",
              "      <th>C</th>\n",
              "      <th>D</th>\n",
              "      <th>E</th>\n",
              "      <th>F</th>\n",
              "      <th>G</th>\n",
              "      <th>H</th>\n",
              "      <th>I</th>\n",
              "      <th>J</th>\n",
              "    </tr>\n",
              "  </thead>\n",
              "  <tbody>\n",
              "    <tr>\n",
              "      <th>sum</th>\n",
              "      <td>450.000000</td>\n",
              "      <td>460.000000</td>\n",
              "      <td>470.000000</td>\n",
              "      <td>480.000000</td>\n",
              "      <td>490.000000</td>\n",
              "      <td>500.000000</td>\n",
              "      <td>510.000000</td>\n",
              "      <td>520.000000</td>\n",
              "      <td>530.000000</td>\n",
              "      <td>540.000000</td>\n",
              "    </tr>\n",
              "    <tr>\n",
              "      <th>median</th>\n",
              "      <td>45.000000</td>\n",
              "      <td>46.000000</td>\n",
              "      <td>47.000000</td>\n",
              "      <td>48.000000</td>\n",
              "      <td>49.000000</td>\n",
              "      <td>50.000000</td>\n",
              "      <td>51.000000</td>\n",
              "      <td>52.000000</td>\n",
              "      <td>53.000000</td>\n",
              "      <td>54.000000</td>\n",
              "    </tr>\n",
              "    <tr>\n",
              "      <th>std</th>\n",
              "      <td>30.276504</td>\n",
              "      <td>30.276504</td>\n",
              "      <td>30.276504</td>\n",
              "      <td>30.276504</td>\n",
              "      <td>30.276504</td>\n",
              "      <td>30.276504</td>\n",
              "      <td>30.276504</td>\n",
              "      <td>30.276504</td>\n",
              "      <td>30.276504</td>\n",
              "      <td>30.276504</td>\n",
              "    </tr>\n",
              "  </tbody>\n",
              "</table>\n",
              "</div>"
            ],
            "text/plain": [
              "                 A           B           C           D           E  \\\n",
              "sum     450.000000  460.000000  470.000000  480.000000  490.000000   \n",
              "median   45.000000   46.000000   47.000000   48.000000   49.000000   \n",
              "std      30.276504   30.276504   30.276504   30.276504   30.276504   \n",
              "\n",
              "                 F           G           H           I           J  \n",
              "sum     500.000000  510.000000  520.000000  530.000000  540.000000  \n",
              "median   50.000000   51.000000   52.000000   53.000000   54.000000  \n",
              "std      30.276504   30.276504   30.276504   30.276504   30.276504  "
            ]
          },
          "metadata": {
            "tags": []
          },
          "execution_count": 63
        }
      ]
    },
    {
      "cell_type": "code",
      "metadata": {
        "id": "fgARaLxq5xAN",
        "colab_type": "code",
        "colab": {},
        "outputId": "6b555e2d-760a-4be6-c0fb-7dcb822d89ae"
      },
      "source": [
        "# Here is another example with less data\n",
        "\n",
        "df = pd.DataFrame([[1,2,3],\n",
        "                  [4,5,6],\n",
        "                  [7,8,9],\n",
        "                  [np.nan, np.nan, np.nan]],\n",
        "                  columns=[\"A\", \"B\", \"C\"])\n",
        "df"
      ],
      "execution_count": 0,
      "outputs": [
        {
          "output_type": "execute_result",
          "data": {
            "text/html": [
              "<div>\n",
              "<style scoped>\n",
              "    .dataframe tbody tr th:only-of-type {\n",
              "        vertical-align: middle;\n",
              "    }\n",
              "\n",
              "    .dataframe tbody tr th {\n",
              "        vertical-align: top;\n",
              "    }\n",
              "\n",
              "    .dataframe thead th {\n",
              "        text-align: right;\n",
              "    }\n",
              "</style>\n",
              "<table border=\"1\" class=\"dataframe\">\n",
              "  <thead>\n",
              "    <tr style=\"text-align: right;\">\n",
              "      <th></th>\n",
              "      <th>A</th>\n",
              "      <th>B</th>\n",
              "      <th>C</th>\n",
              "    </tr>\n",
              "  </thead>\n",
              "  <tbody>\n",
              "    <tr>\n",
              "      <th>0</th>\n",
              "      <td>1.0</td>\n",
              "      <td>2.0</td>\n",
              "      <td>3.0</td>\n",
              "    </tr>\n",
              "    <tr>\n",
              "      <th>1</th>\n",
              "      <td>4.0</td>\n",
              "      <td>5.0</td>\n",
              "      <td>6.0</td>\n",
              "    </tr>\n",
              "    <tr>\n",
              "      <th>2</th>\n",
              "      <td>7.0</td>\n",
              "      <td>8.0</td>\n",
              "      <td>9.0</td>\n",
              "    </tr>\n",
              "    <tr>\n",
              "      <th>3</th>\n",
              "      <td>NaN</td>\n",
              "      <td>NaN</td>\n",
              "      <td>NaN</td>\n",
              "    </tr>\n",
              "  </tbody>\n",
              "</table>\n",
              "</div>"
            ],
            "text/plain": [
              "     A    B    C\n",
              "0  1.0  2.0  3.0\n",
              "1  4.0  5.0  6.0\n",
              "2  7.0  8.0  9.0\n",
              "3  NaN  NaN  NaN"
            ]
          },
          "metadata": {
            "tags": []
          },
          "execution_count": 13
        }
      ]
    },
    {
      "cell_type": "code",
      "metadata": {
        "id": "g3UH40yp5xAU",
        "colab_type": "code",
        "colab": {},
        "outputId": "f85f971f-1038-40ee-c4ba-23945235aedd"
      },
      "source": [
        "df.describe()"
      ],
      "execution_count": 0,
      "outputs": [
        {
          "output_type": "execute_result",
          "data": {
            "text/html": [
              "<div>\n",
              "<style scoped>\n",
              "    .dataframe tbody tr th:only-of-type {\n",
              "        vertical-align: middle;\n",
              "    }\n",
              "\n",
              "    .dataframe tbody tr th {\n",
              "        vertical-align: top;\n",
              "    }\n",
              "\n",
              "    .dataframe thead th {\n",
              "        text-align: right;\n",
              "    }\n",
              "</style>\n",
              "<table border=\"1\" class=\"dataframe\">\n",
              "  <thead>\n",
              "    <tr style=\"text-align: right;\">\n",
              "      <th></th>\n",
              "      <th>A</th>\n",
              "      <th>B</th>\n",
              "      <th>C</th>\n",
              "    </tr>\n",
              "  </thead>\n",
              "  <tbody>\n",
              "    <tr>\n",
              "      <th>count</th>\n",
              "      <td>3.0</td>\n",
              "      <td>3.0</td>\n",
              "      <td>3.0</td>\n",
              "    </tr>\n",
              "    <tr>\n",
              "      <th>mean</th>\n",
              "      <td>4.0</td>\n",
              "      <td>5.0</td>\n",
              "      <td>6.0</td>\n",
              "    </tr>\n",
              "    <tr>\n",
              "      <th>std</th>\n",
              "      <td>3.0</td>\n",
              "      <td>3.0</td>\n",
              "      <td>3.0</td>\n",
              "    </tr>\n",
              "    <tr>\n",
              "      <th>min</th>\n",
              "      <td>1.0</td>\n",
              "      <td>2.0</td>\n",
              "      <td>3.0</td>\n",
              "    </tr>\n",
              "    <tr>\n",
              "      <th>25%</th>\n",
              "      <td>2.5</td>\n",
              "      <td>3.5</td>\n",
              "      <td>4.5</td>\n",
              "    </tr>\n",
              "    <tr>\n",
              "      <th>50%</th>\n",
              "      <td>4.0</td>\n",
              "      <td>5.0</td>\n",
              "      <td>6.0</td>\n",
              "    </tr>\n",
              "    <tr>\n",
              "      <th>75%</th>\n",
              "      <td>5.5</td>\n",
              "      <td>6.5</td>\n",
              "      <td>7.5</td>\n",
              "    </tr>\n",
              "    <tr>\n",
              "      <th>max</th>\n",
              "      <td>7.0</td>\n",
              "      <td>8.0</td>\n",
              "      <td>9.0</td>\n",
              "    </tr>\n",
              "  </tbody>\n",
              "</table>\n",
              "</div>"
            ],
            "text/plain": [
              "         A    B    C\n",
              "count  3.0  3.0  3.0\n",
              "mean   4.0  5.0  6.0\n",
              "std    3.0  3.0  3.0\n",
              "min    1.0  2.0  3.0\n",
              "25%    2.5  3.5  4.5\n",
              "50%    4.0  5.0  6.0\n",
              "75%    5.5  6.5  7.5\n",
              "max    7.0  8.0  9.0"
            ]
          },
          "metadata": {
            "tags": []
          },
          "execution_count": 19
        }
      ]
    },
    {
      "cell_type": "code",
      "metadata": {
        "id": "n4Hpew6H5xAa",
        "colab_type": "code",
        "colab": {},
        "outputId": "ddb06081-c4f8-4b92-ab3c-4cca31253930"
      },
      "source": [
        "df.aggregate([\"min\", \"max\", \"sum\", \"mean\"])"
      ],
      "execution_count": 0,
      "outputs": [
        {
          "output_type": "execute_result",
          "data": {
            "text/html": [
              "<div>\n",
              "<style scoped>\n",
              "    .dataframe tbody tr th:only-of-type {\n",
              "        vertical-align: middle;\n",
              "    }\n",
              "\n",
              "    .dataframe tbody tr th {\n",
              "        vertical-align: top;\n",
              "    }\n",
              "\n",
              "    .dataframe thead th {\n",
              "        text-align: right;\n",
              "    }\n",
              "</style>\n",
              "<table border=\"1\" class=\"dataframe\">\n",
              "  <thead>\n",
              "    <tr style=\"text-align: right;\">\n",
              "      <th></th>\n",
              "      <th>A</th>\n",
              "      <th>B</th>\n",
              "      <th>C</th>\n",
              "    </tr>\n",
              "  </thead>\n",
              "  <tbody>\n",
              "    <tr>\n",
              "      <th>min</th>\n",
              "      <td>1.0</td>\n",
              "      <td>2.0</td>\n",
              "      <td>3.0</td>\n",
              "    </tr>\n",
              "    <tr>\n",
              "      <th>max</th>\n",
              "      <td>7.0</td>\n",
              "      <td>8.0</td>\n",
              "      <td>9.0</td>\n",
              "    </tr>\n",
              "    <tr>\n",
              "      <th>sum</th>\n",
              "      <td>12.0</td>\n",
              "      <td>15.0</td>\n",
              "      <td>18.0</td>\n",
              "    </tr>\n",
              "    <tr>\n",
              "      <th>mean</th>\n",
              "      <td>4.0</td>\n",
              "      <td>5.0</td>\n",
              "      <td>6.0</td>\n",
              "    </tr>\n",
              "  </tbody>\n",
              "</table>\n",
              "</div>"
            ],
            "text/plain": [
              "         A     B     C\n",
              "min    1.0   2.0   3.0\n",
              "max    7.0   8.0   9.0\n",
              "sum   12.0  15.0  18.0\n",
              "mean   4.0   5.0   6.0"
            ]
          },
          "metadata": {
            "tags": []
          },
          "execution_count": 26
        }
      ]
    },
    {
      "cell_type": "code",
      "metadata": {
        "id": "v-Cgq_Ii5xAg",
        "colab_type": "code",
        "colab": {},
        "outputId": "fed8a9a7-39be-4c96-937d-5c12b16543da"
      },
      "source": [
        "df.agg(\"min\", axis=\"columns\")"
      ],
      "execution_count": 0,
      "outputs": [
        {
          "output_type": "execute_result",
          "data": {
            "text/plain": [
              "0    1.0\n",
              "1    4.0\n",
              "2    7.0\n",
              "3    NaN\n",
              "dtype: float64"
            ]
          },
          "metadata": {
            "tags": []
          },
          "execution_count": 25
        }
      ]
    },
    {
      "cell_type": "code",
      "metadata": {
        "id": "04Og93I55xAm",
        "colab_type": "code",
        "colab": {}
      },
      "source": [
        ""
      ],
      "execution_count": 0,
      "outputs": []
    },
    {
      "cell_type": "code",
      "metadata": {
        "id": "7XQuE_1K5xAr",
        "colab_type": "code",
        "colab": {},
        "outputId": "b1c27a25-a35e-44b6-b51e-0de786c8d481"
      },
      "source": [
        "# Here is another example using random numbers\n",
        "# Generate 100 random integers ranging from 0 and 99\n",
        "# reshape the one-dimensional numpy array into a 20 by 5 matrix (20 rows and 5 columns)\n",
        "\n",
        "x = np.random.randint(0,100,100).reshape(20,5)\n",
        "x"
      ],
      "execution_count": 0,
      "outputs": [
        {
          "output_type": "execute_result",
          "data": {
            "text/plain": [
              "array([[79, 80, 24, 28, 57],\n",
              "       [ 1, 31, 37, 97,  7],\n",
              "       [27, 64, 58, 65, 35],\n",
              "       [ 1, 25, 15, 73, 60],\n",
              "       [ 2, 86, 35, 47, 19],\n",
              "       [44, 84, 56, 53, 66],\n",
              "       [13, 72, 32, 29, 94],\n",
              "       [11, 17, 33, 74, 65],\n",
              "       [87, 75, 44,  4, 95],\n",
              "       [16, 34, 46, 72, 16],\n",
              "       [34,  6, 85,  9,  0],\n",
              "       [87, 60, 72, 42, 60],\n",
              "       [28, 56, 53,  6, 40],\n",
              "       [11, 72, 29, 40, 90],\n",
              "       [97, 20, 98, 77,  8],\n",
              "       [98,  3, 20, 55, 80],\n",
              "       [21, 23, 26,  0, 48],\n",
              "       [39, 79, 76,  1, 62],\n",
              "       [75,  8, 31, 35, 62],\n",
              "       [44, 80, 60, 70, 61]])"
            ]
          },
          "metadata": {
            "tags": []
          },
          "execution_count": 75
        }
      ]
    },
    {
      "cell_type": "code",
      "metadata": {
        "id": "ettpWzKH5xAy",
        "colab_type": "code",
        "colab": {},
        "outputId": "a1295057-3a3c-484e-c4ad-313b1aaf2daa"
      },
      "source": [
        "# Get the 26 alphabets using string library\n",
        "\n",
        "y = string.ascii_uppercase\n",
        "y"
      ],
      "execution_count": 0,
      "outputs": [
        {
          "output_type": "execute_result",
          "data": {
            "text/plain": [
              "'ABCDEFGHIJKLMNOPQRSTUVWXYZ'"
            ]
          },
          "metadata": {
            "tags": []
          },
          "execution_count": 69
        }
      ]
    },
    {
      "cell_type": "code",
      "metadata": {
        "id": "tHkuS9pk5xA4",
        "colab_type": "code",
        "colab": {},
        "outputId": "820bb675-9850-4a59-935b-197e3fc02c5b"
      },
      "source": [
        "# Turn the str object into a list and keep only the first five \n",
        "\n",
        "y = list(y)[0:5]\n",
        "y"
      ],
      "execution_count": 0,
      "outputs": [
        {
          "output_type": "execute_result",
          "data": {
            "text/plain": [
              "['A', 'B', 'C', 'D', 'E']"
            ]
          },
          "metadata": {
            "tags": []
          },
          "execution_count": 71
        }
      ]
    },
    {
      "cell_type": "code",
      "metadata": {
        "id": "xZx50oPJ5xA8",
        "colab_type": "code",
        "colab": {},
        "outputId": "a88e3d7a-6e17-4f92-c64e-d181c49b7873"
      },
      "source": [
        "# Create a dataframe using x and y\n",
        "\n",
        "df = pd.DataFrame(x,columns=y)\n",
        "df"
      ],
      "execution_count": 0,
      "outputs": [
        {
          "output_type": "execute_result",
          "data": {
            "text/html": [
              "<div>\n",
              "<style scoped>\n",
              "    .dataframe tbody tr th:only-of-type {\n",
              "        vertical-align: middle;\n",
              "    }\n",
              "\n",
              "    .dataframe tbody tr th {\n",
              "        vertical-align: top;\n",
              "    }\n",
              "\n",
              "    .dataframe thead th {\n",
              "        text-align: right;\n",
              "    }\n",
              "</style>\n",
              "<table border=\"1\" class=\"dataframe\">\n",
              "  <thead>\n",
              "    <tr style=\"text-align: right;\">\n",
              "      <th></th>\n",
              "      <th>A</th>\n",
              "      <th>B</th>\n",
              "      <th>C</th>\n",
              "      <th>D</th>\n",
              "      <th>E</th>\n",
              "    </tr>\n",
              "  </thead>\n",
              "  <tbody>\n",
              "    <tr>\n",
              "      <th>0</th>\n",
              "      <td>79</td>\n",
              "      <td>80</td>\n",
              "      <td>24</td>\n",
              "      <td>28</td>\n",
              "      <td>57</td>\n",
              "    </tr>\n",
              "    <tr>\n",
              "      <th>1</th>\n",
              "      <td>1</td>\n",
              "      <td>31</td>\n",
              "      <td>37</td>\n",
              "      <td>97</td>\n",
              "      <td>7</td>\n",
              "    </tr>\n",
              "    <tr>\n",
              "      <th>2</th>\n",
              "      <td>27</td>\n",
              "      <td>64</td>\n",
              "      <td>58</td>\n",
              "      <td>65</td>\n",
              "      <td>35</td>\n",
              "    </tr>\n",
              "    <tr>\n",
              "      <th>3</th>\n",
              "      <td>1</td>\n",
              "      <td>25</td>\n",
              "      <td>15</td>\n",
              "      <td>73</td>\n",
              "      <td>60</td>\n",
              "    </tr>\n",
              "    <tr>\n",
              "      <th>4</th>\n",
              "      <td>2</td>\n",
              "      <td>86</td>\n",
              "      <td>35</td>\n",
              "      <td>47</td>\n",
              "      <td>19</td>\n",
              "    </tr>\n",
              "    <tr>\n",
              "      <th>5</th>\n",
              "      <td>44</td>\n",
              "      <td>84</td>\n",
              "      <td>56</td>\n",
              "      <td>53</td>\n",
              "      <td>66</td>\n",
              "    </tr>\n",
              "    <tr>\n",
              "      <th>6</th>\n",
              "      <td>13</td>\n",
              "      <td>72</td>\n",
              "      <td>32</td>\n",
              "      <td>29</td>\n",
              "      <td>94</td>\n",
              "    </tr>\n",
              "    <tr>\n",
              "      <th>7</th>\n",
              "      <td>11</td>\n",
              "      <td>17</td>\n",
              "      <td>33</td>\n",
              "      <td>74</td>\n",
              "      <td>65</td>\n",
              "    </tr>\n",
              "    <tr>\n",
              "      <th>8</th>\n",
              "      <td>87</td>\n",
              "      <td>75</td>\n",
              "      <td>44</td>\n",
              "      <td>4</td>\n",
              "      <td>95</td>\n",
              "    </tr>\n",
              "    <tr>\n",
              "      <th>9</th>\n",
              "      <td>16</td>\n",
              "      <td>34</td>\n",
              "      <td>46</td>\n",
              "      <td>72</td>\n",
              "      <td>16</td>\n",
              "    </tr>\n",
              "    <tr>\n",
              "      <th>10</th>\n",
              "      <td>34</td>\n",
              "      <td>6</td>\n",
              "      <td>85</td>\n",
              "      <td>9</td>\n",
              "      <td>0</td>\n",
              "    </tr>\n",
              "    <tr>\n",
              "      <th>11</th>\n",
              "      <td>87</td>\n",
              "      <td>60</td>\n",
              "      <td>72</td>\n",
              "      <td>42</td>\n",
              "      <td>60</td>\n",
              "    </tr>\n",
              "    <tr>\n",
              "      <th>12</th>\n",
              "      <td>28</td>\n",
              "      <td>56</td>\n",
              "      <td>53</td>\n",
              "      <td>6</td>\n",
              "      <td>40</td>\n",
              "    </tr>\n",
              "    <tr>\n",
              "      <th>13</th>\n",
              "      <td>11</td>\n",
              "      <td>72</td>\n",
              "      <td>29</td>\n",
              "      <td>40</td>\n",
              "      <td>90</td>\n",
              "    </tr>\n",
              "    <tr>\n",
              "      <th>14</th>\n",
              "      <td>97</td>\n",
              "      <td>20</td>\n",
              "      <td>98</td>\n",
              "      <td>77</td>\n",
              "      <td>8</td>\n",
              "    </tr>\n",
              "    <tr>\n",
              "      <th>15</th>\n",
              "      <td>98</td>\n",
              "      <td>3</td>\n",
              "      <td>20</td>\n",
              "      <td>55</td>\n",
              "      <td>80</td>\n",
              "    </tr>\n",
              "    <tr>\n",
              "      <th>16</th>\n",
              "      <td>21</td>\n",
              "      <td>23</td>\n",
              "      <td>26</td>\n",
              "      <td>0</td>\n",
              "      <td>48</td>\n",
              "    </tr>\n",
              "    <tr>\n",
              "      <th>17</th>\n",
              "      <td>39</td>\n",
              "      <td>79</td>\n",
              "      <td>76</td>\n",
              "      <td>1</td>\n",
              "      <td>62</td>\n",
              "    </tr>\n",
              "    <tr>\n",
              "      <th>18</th>\n",
              "      <td>75</td>\n",
              "      <td>8</td>\n",
              "      <td>31</td>\n",
              "      <td>35</td>\n",
              "      <td>62</td>\n",
              "    </tr>\n",
              "    <tr>\n",
              "      <th>19</th>\n",
              "      <td>44</td>\n",
              "      <td>80</td>\n",
              "      <td>60</td>\n",
              "      <td>70</td>\n",
              "      <td>61</td>\n",
              "    </tr>\n",
              "  </tbody>\n",
              "</table>\n",
              "</div>"
            ],
            "text/plain": [
              "     A   B   C   D   E\n",
              "0   79  80  24  28  57\n",
              "1    1  31  37  97   7\n",
              "2   27  64  58  65  35\n",
              "3    1  25  15  73  60\n",
              "4    2  86  35  47  19\n",
              "5   44  84  56  53  66\n",
              "6   13  72  32  29  94\n",
              "7   11  17  33  74  65\n",
              "8   87  75  44   4  95\n",
              "9   16  34  46  72  16\n",
              "10  34   6  85   9   0\n",
              "11  87  60  72  42  60\n",
              "12  28  56  53   6  40\n",
              "13  11  72  29  40  90\n",
              "14  97  20  98  77   8\n",
              "15  98   3  20  55  80\n",
              "16  21  23  26   0  48\n",
              "17  39  79  76   1  62\n",
              "18  75   8  31  35  62\n",
              "19  44  80  60  70  61"
            ]
          },
          "metadata": {
            "tags": []
          },
          "execution_count": 77
        }
      ]
    },
    {
      "cell_type": "code",
      "metadata": {
        "id": "bkIFa2Fr5xBA",
        "colab_type": "code",
        "colab": {}
      },
      "source": [
        "# Calculate summary statistics "
      ],
      "execution_count": 0,
      "outputs": []
    },
    {
      "cell_type": "code",
      "metadata": {
        "id": "HwwBI_EE5xBE",
        "colab_type": "code",
        "colab": {},
        "outputId": "d29967d7-3841-4cb2-c10a-b9a7242203f7"
      },
      "source": [
        "df.describe()"
      ],
      "execution_count": 0,
      "outputs": [
        {
          "output_type": "execute_result",
          "data": {
            "text/html": [
              "<div>\n",
              "<style scoped>\n",
              "    .dataframe tbody tr th:only-of-type {\n",
              "        vertical-align: middle;\n",
              "    }\n",
              "\n",
              "    .dataframe tbody tr th {\n",
              "        vertical-align: top;\n",
              "    }\n",
              "\n",
              "    .dataframe thead th {\n",
              "        text-align: right;\n",
              "    }\n",
              "</style>\n",
              "<table border=\"1\" class=\"dataframe\">\n",
              "  <thead>\n",
              "    <tr style=\"text-align: right;\">\n",
              "      <th></th>\n",
              "      <th>A</th>\n",
              "      <th>B</th>\n",
              "      <th>C</th>\n",
              "      <th>D</th>\n",
              "      <th>E</th>\n",
              "    </tr>\n",
              "  </thead>\n",
              "  <tbody>\n",
              "    <tr>\n",
              "      <th>count</th>\n",
              "      <td>20.000000</td>\n",
              "      <td>20.000000</td>\n",
              "      <td>20.000000</td>\n",
              "      <td>20.000000</td>\n",
              "      <td>20.000000</td>\n",
              "    </tr>\n",
              "    <tr>\n",
              "      <th>mean</th>\n",
              "      <td>40.750000</td>\n",
              "      <td>48.750000</td>\n",
              "      <td>46.500000</td>\n",
              "      <td>43.850000</td>\n",
              "      <td>51.250000</td>\n",
              "    </tr>\n",
              "    <tr>\n",
              "      <th>std</th>\n",
              "      <td>34.013736</td>\n",
              "      <td>29.784975</td>\n",
              "      <td>22.816199</td>\n",
              "      <td>29.367499</td>\n",
              "      <td>29.134669</td>\n",
              "    </tr>\n",
              "    <tr>\n",
              "      <th>min</th>\n",
              "      <td>1.000000</td>\n",
              "      <td>3.000000</td>\n",
              "      <td>15.000000</td>\n",
              "      <td>0.000000</td>\n",
              "      <td>0.000000</td>\n",
              "    </tr>\n",
              "    <tr>\n",
              "      <th>25%</th>\n",
              "      <td>12.500000</td>\n",
              "      <td>22.250000</td>\n",
              "      <td>30.500000</td>\n",
              "      <td>23.250000</td>\n",
              "      <td>31.000000</td>\n",
              "    </tr>\n",
              "    <tr>\n",
              "      <th>50%</th>\n",
              "      <td>31.000000</td>\n",
              "      <td>58.000000</td>\n",
              "      <td>40.500000</td>\n",
              "      <td>44.500000</td>\n",
              "      <td>60.000000</td>\n",
              "    </tr>\n",
              "    <tr>\n",
              "      <th>75%</th>\n",
              "      <td>76.000000</td>\n",
              "      <td>76.000000</td>\n",
              "      <td>58.500000</td>\n",
              "      <td>70.500000</td>\n",
              "      <td>65.250000</td>\n",
              "    </tr>\n",
              "    <tr>\n",
              "      <th>max</th>\n",
              "      <td>98.000000</td>\n",
              "      <td>86.000000</td>\n",
              "      <td>98.000000</td>\n",
              "      <td>97.000000</td>\n",
              "      <td>95.000000</td>\n",
              "    </tr>\n",
              "  </tbody>\n",
              "</table>\n",
              "</div>"
            ],
            "text/plain": [
              "               A          B          C          D          E\n",
              "count  20.000000  20.000000  20.000000  20.000000  20.000000\n",
              "mean   40.750000  48.750000  46.500000  43.850000  51.250000\n",
              "std    34.013736  29.784975  22.816199  29.367499  29.134669\n",
              "min     1.000000   3.000000  15.000000   0.000000   0.000000\n",
              "25%    12.500000  22.250000  30.500000  23.250000  31.000000\n",
              "50%    31.000000  58.000000  40.500000  44.500000  60.000000\n",
              "75%    76.000000  76.000000  58.500000  70.500000  65.250000\n",
              "max    98.000000  86.000000  98.000000  97.000000  95.000000"
            ]
          },
          "metadata": {
            "tags": []
          },
          "execution_count": 78
        }
      ]
    },
    {
      "cell_type": "code",
      "metadata": {
        "id": "KXx_ILrS5xBK",
        "colab_type": "code",
        "colab": {}
      },
      "source": [
        "# try pandas aggregate method here"
      ],
      "execution_count": 0,
      "outputs": []
    }
  ]
}