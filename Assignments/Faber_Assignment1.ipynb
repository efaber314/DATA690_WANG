{
 "cells": [
  {
   "cell_type": "code",
   "execution_count": 1,
   "metadata": {},
   "outputs": [],
   "source": [
    "#Data Science 690, Spring 2020\n",
    "#Assignment 1\n",
    "#Emily Faber"
   ]
  },
  {
   "cell_type": "code",
   "execution_count": 2,
   "metadata": {},
   "outputs": [
    {
     "name": "stdin",
     "output_type": "stream",
     "text": [
      "Please enter a number: 1\n",
      "Please enter another number: 2\n",
      "Please enter another number: 3\n",
      "Please enter another number: 4\n",
      "Please enter another number: 5\n",
      "Please enter another number: 6\n",
      "Please enter another number: 7\n",
      "Please enter another number: 89\n",
      "Please enter another number: 45\n",
      "Please enter another number: 4\n"
     ]
    },
    {
     "name": "stdout",
     "output_type": "stream",
     "text": [
      "\n",
      "\n",
      "Your numbers were:\n",
      "1,2,3,4,5,6,7,89,45,4\n",
      "\n",
      "\n",
      "Minimum: 1.0\n",
      "Maximum: 89.0\n",
      "Range: 88.0\n",
      "Average: 16.6\n",
      "Variance: 734.64\n",
      "Standard Deviation: 28.57\n"
     ]
    }
   ],
   "source": [
    "import statistics as stat\n",
    "import numpy as np\n",
    "i = 0 #number of numbers to i nput\n",
    "MyNumbers = [] #empty list \n",
    "total = 0 #used for averaging at the end\n",
    "while True: #infinite loop except for the break statement\n",
    "    if i == 0:\n",
    "        temp = input(\"Please enter a number:\")\n",
    "    else:\n",
    "        temp = input(\"Please enter another number:\")\n",
    "    if temp.isnumeric(): #is numberic tests for numbers 0-9\n",
    "        i+=1\n",
    "        MyNumbers.append(temp) # add the numbers to a list\n",
    "        total += float(temp) \n",
    "        if i > 9: #controls how many numbers are asked for\n",
    "            break #jumps out of the infinite loop\n",
    "    else:\n",
    "        print(\"That is not a number, please try again:\")\n",
    "        continue #trys again without incrementing i\n",
    "        \n",
    "print(\"\\n\")\n",
    "print(\"Your numbers were:\")\n",
    "print(*MyNumbers, sep = \",\")\n",
    "print(\"\\n\")\n",
    "MyNumbers = np.array(MyNumbers).astype(np.float) \n",
    "#use numpy array instead of list so I can use them as numbers vs strings \n",
    "print(\"Minimum:\", min(MyNumbers))\n",
    "print(\"Maximum:\", max(MyNumbers))\n",
    "print(\"Range:\", (float(max(MyNumbers))-float(min(MyNumbers))))\n",
    "average = total/i\n",
    "print(\"Average:\", average)\n",
    "print(\"Variance:\", \"{:.2f}\".format(np.var(MyNumbers))) \n",
    "#the {:.2f} formats to two decimal places for a float\n",
    "print(\"Standard Deviation:\",\"{:.2f}\".format(stat.stdev(MyNumbers)))"
   ]
  },
  {
   "cell_type": "code",
   "execution_count": null,
   "metadata": {},
   "outputs": [],
   "source": []
  },
  {
   "cell_type": "code",
   "execution_count": null,
   "metadata": {},
   "outputs": [],
   "source": []
  }
 ],
 "metadata": {
  "kernelspec": {
   "display_name": "Python 3",
   "language": "python",
   "name": "python3"
  },
  "language_info": {
   "codemirror_mode": {
    "name": "ipython",
    "version": 3
   },
   "file_extension": ".py",
   "mimetype": "text/x-python",
   "name": "python",
   "nbconvert_exporter": "python",
   "pygments_lexer": "ipython3",
   "version": "3.7.1"
  }
 },
 "nbformat": 4,
 "nbformat_minor": 2
}
