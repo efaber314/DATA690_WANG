{
 "cells": [
  {
   "cell_type": "markdown",
   "metadata": {},
   "source": [
    "Covid-19 exploratory data analysis\n",
    "Data from the covid tracking project: https://covidtracking.com/ "
   ]
  },
  {
   "cell_type": "code",
   "execution_count": 182,
   "metadata": {},
   "outputs": [],
   "source": [
    "import pandas as pd\n",
    "import numpy as np\n",
    "import matplotlib.pyplot as plt\n",
    "import plotly.graph_objects as go"
   ]
  },
  {
   "cell_type": "code",
   "execution_count": 195,
   "metadata": {},
   "outputs": [],
   "source": [
    "df = pd.read_csv('daily.csv', low_memory=False)"
   ]
  },
  {
   "cell_type": "code",
   "execution_count": 196,
   "metadata": {},
   "outputs": [
    {
     "name": "stdout",
     "output_type": "stream",
     "text": [
      "<class 'pandas.core.frame.DataFrame'>\n",
      "RangeIndex: 1873 entries, 0 to 1872\n",
      "Data columns (total 25 columns):\n",
      " #   Column                    Non-Null Count  Dtype  \n",
      "---  ------                    --------------  -----  \n",
      " 0   date                      1873 non-null   int64  \n",
      " 1   state                     1873 non-null   object \n",
      " 2   positive                  1866 non-null   float64\n",
      " 3   negative                  1727 non-null   float64\n",
      " 4   pending                   481 non-null    float64\n",
      " 5   hospitalizedCurrently     235 non-null    float64\n",
      " 6   hospitalizedCumulative    500 non-null    float64\n",
      " 7   inIcuCurrently            75 non-null     float64\n",
      " 8   inIcuCumulative           68 non-null     float64\n",
      " 9   onVentilatorCurrently     71 non-null     float64\n",
      " 10  onVentilatorCumulative    40 non-null     float64\n",
      " 11  recovered                 236 non-null    float64\n",
      " 12  hash                      1873 non-null   object \n",
      " 13  dateChecked               1873 non-null   object \n",
      " 14  death                     1186 non-null   float64\n",
      " 15  hospitalized              500 non-null    float64\n",
      " 16  total                     1873 non-null   int64  \n",
      " 17  totalTestResults          1873 non-null   int64  \n",
      " 18  posNeg                    1873 non-null   int64  \n",
      " 19  fips                      1873 non-null   int64  \n",
      " 20  deathIncrease             1817 non-null   float64\n",
      " 21  hospitalizedIncrease      1817 non-null   float64\n",
      " 22  negativeIncrease          1817 non-null   float64\n",
      " 23  positiveIncrease          1817 non-null   float64\n",
      " 24  totalTestResultsIncrease  1817 non-null   float64\n",
      "dtypes: float64(17), int64(5), object(3)\n",
      "memory usage: 365.9+ KB\n"
     ]
    }
   ],
   "source": [
    "df.info()"
   ]
  },
  {
   "cell_type": "code",
   "execution_count": 197,
   "metadata": {},
   "outputs": [
    {
     "data": {
      "text/html": [
       "<div>\n",
       "<style scoped>\n",
       "    .dataframe tbody tr th:only-of-type {\n",
       "        vertical-align: middle;\n",
       "    }\n",
       "\n",
       "    .dataframe tbody tr th {\n",
       "        vertical-align: top;\n",
       "    }\n",
       "\n",
       "    .dataframe thead th {\n",
       "        text-align: right;\n",
       "    }\n",
       "</style>\n",
       "<table border=\"1\" class=\"dataframe\">\n",
       "  <thead>\n",
       "    <tr style=\"text-align: right;\">\n",
       "      <th></th>\n",
       "      <th>date</th>\n",
       "      <th>state</th>\n",
       "      <th>positive</th>\n",
       "      <th>negative</th>\n",
       "      <th>pending</th>\n",
       "      <th>hospitalizedCurrently</th>\n",
       "      <th>hospitalizedCumulative</th>\n",
       "      <th>inIcuCurrently</th>\n",
       "      <th>inIcuCumulative</th>\n",
       "      <th>onVentilatorCurrently</th>\n",
       "      <th>...</th>\n",
       "      <th>hospitalized</th>\n",
       "      <th>total</th>\n",
       "      <th>totalTestResults</th>\n",
       "      <th>posNeg</th>\n",
       "      <th>fips</th>\n",
       "      <th>deathIncrease</th>\n",
       "      <th>hospitalizedIncrease</th>\n",
       "      <th>negativeIncrease</th>\n",
       "      <th>positiveIncrease</th>\n",
       "      <th>totalTestResultsIncrease</th>\n",
       "    </tr>\n",
       "  </thead>\n",
       "  <tbody>\n",
       "    <tr>\n",
       "      <th>1862</th>\n",
       "      <td>20200304</td>\n",
       "      <td>GA</td>\n",
       "      <td>2.0</td>\n",
       "      <td>NaN</td>\n",
       "      <td>NaN</td>\n",
       "      <td>NaN</td>\n",
       "      <td>NaN</td>\n",
       "      <td>NaN</td>\n",
       "      <td>NaN</td>\n",
       "      <td>NaN</td>\n",
       "      <td>...</td>\n",
       "      <td>NaN</td>\n",
       "      <td>2</td>\n",
       "      <td>2</td>\n",
       "      <td>2</td>\n",
       "      <td>13</td>\n",
       "      <td>NaN</td>\n",
       "      <td>NaN</td>\n",
       "      <td>NaN</td>\n",
       "      <td>NaN</td>\n",
       "      <td>NaN</td>\n",
       "    </tr>\n",
       "    <tr>\n",
       "      <th>814</th>\n",
       "      <td>20200325</td>\n",
       "      <td>NJ</td>\n",
       "      <td>4402.0</td>\n",
       "      <td>10452.0</td>\n",
       "      <td>NaN</td>\n",
       "      <td>NaN</td>\n",
       "      <td>NaN</td>\n",
       "      <td>NaN</td>\n",
       "      <td>NaN</td>\n",
       "      <td>NaN</td>\n",
       "      <td>...</td>\n",
       "      <td>NaN</td>\n",
       "      <td>14854</td>\n",
       "      <td>14854</td>\n",
       "      <td>14854</td>\n",
       "      <td>34</td>\n",
       "      <td>18.0</td>\n",
       "      <td>0.0</td>\n",
       "      <td>2127.0</td>\n",
       "      <td>727.0</td>\n",
       "      <td>2854.0</td>\n",
       "    </tr>\n",
       "    <tr>\n",
       "      <th>1870</th>\n",
       "      <td>20200304</td>\n",
       "      <td>TX</td>\n",
       "      <td>1.0</td>\n",
       "      <td>NaN</td>\n",
       "      <td>NaN</td>\n",
       "      <td>NaN</td>\n",
       "      <td>NaN</td>\n",
       "      <td>NaN</td>\n",
       "      <td>NaN</td>\n",
       "      <td>NaN</td>\n",
       "      <td>...</td>\n",
       "      <td>NaN</td>\n",
       "      <td>1</td>\n",
       "      <td>1</td>\n",
       "      <td>1</td>\n",
       "      <td>48</td>\n",
       "      <td>NaN</td>\n",
       "      <td>NaN</td>\n",
       "      <td>NaN</td>\n",
       "      <td>NaN</td>\n",
       "      <td>NaN</td>\n",
       "    </tr>\n",
       "    <tr>\n",
       "      <th>1729</th>\n",
       "      <td>20200308</td>\n",
       "      <td>NM</td>\n",
       "      <td>0.0</td>\n",
       "      <td>48.0</td>\n",
       "      <td>0.0</td>\n",
       "      <td>NaN</td>\n",
       "      <td>NaN</td>\n",
       "      <td>NaN</td>\n",
       "      <td>NaN</td>\n",
       "      <td>NaN</td>\n",
       "      <td>...</td>\n",
       "      <td>NaN</td>\n",
       "      <td>48</td>\n",
       "      <td>48</td>\n",
       "      <td>48</td>\n",
       "      <td>35</td>\n",
       "      <td>0.0</td>\n",
       "      <td>0.0</td>\n",
       "      <td>0.0</td>\n",
       "      <td>0.0</td>\n",
       "      <td>0.0</td>\n",
       "    </tr>\n",
       "    <tr>\n",
       "      <th>1477</th>\n",
       "      <td>20200313</td>\n",
       "      <td>OH</td>\n",
       "      <td>13.0</td>\n",
       "      <td>50.0</td>\n",
       "      <td>159.0</td>\n",
       "      <td>NaN</td>\n",
       "      <td>NaN</td>\n",
       "      <td>NaN</td>\n",
       "      <td>NaN</td>\n",
       "      <td>NaN</td>\n",
       "      <td>...</td>\n",
       "      <td>NaN</td>\n",
       "      <td>222</td>\n",
       "      <td>63</td>\n",
       "      <td>63</td>\n",
       "      <td>39</td>\n",
       "      <td>0.0</td>\n",
       "      <td>0.0</td>\n",
       "      <td>20.0</td>\n",
       "      <td>8.0</td>\n",
       "      <td>28.0</td>\n",
       "    </tr>\n",
       "  </tbody>\n",
       "</table>\n",
       "<p>5 rows × 25 columns</p>\n",
       "</div>"
      ],
      "text/plain": [
       "          date state  positive  negative  pending  hospitalizedCurrently  \\\n",
       "1862  20200304    GA       2.0       NaN      NaN                    NaN   \n",
       "814   20200325    NJ    4402.0   10452.0      NaN                    NaN   \n",
       "1870  20200304    TX       1.0       NaN      NaN                    NaN   \n",
       "1729  20200308    NM       0.0      48.0      0.0                    NaN   \n",
       "1477  20200313    OH      13.0      50.0    159.0                    NaN   \n",
       "\n",
       "      hospitalizedCumulative  inIcuCurrently  inIcuCumulative  \\\n",
       "1862                     NaN             NaN              NaN   \n",
       "814                      NaN             NaN              NaN   \n",
       "1870                     NaN             NaN              NaN   \n",
       "1729                     NaN             NaN              NaN   \n",
       "1477                     NaN             NaN              NaN   \n",
       "\n",
       "      onVentilatorCurrently  ...  hospitalized  total totalTestResults posNeg  \\\n",
       "1862                    NaN  ...           NaN      2                2      2   \n",
       "814                     NaN  ...           NaN  14854            14854  14854   \n",
       "1870                    NaN  ...           NaN      1                1      1   \n",
       "1729                    NaN  ...           NaN     48               48     48   \n",
       "1477                    NaN  ...           NaN    222               63     63   \n",
       "\n",
       "      fips  deathIncrease  hospitalizedIncrease  negativeIncrease  \\\n",
       "1862    13            NaN                   NaN               NaN   \n",
       "814     34           18.0                   0.0            2127.0   \n",
       "1870    48            NaN                   NaN               NaN   \n",
       "1729    35            0.0                   0.0               0.0   \n",
       "1477    39            0.0                   0.0              20.0   \n",
       "\n",
       "      positiveIncrease  totalTestResultsIncrease  \n",
       "1862               NaN                       NaN  \n",
       "814              727.0                    2854.0  \n",
       "1870               NaN                       NaN  \n",
       "1729               0.0                       0.0  \n",
       "1477               8.0                      28.0  \n",
       "\n",
       "[5 rows x 25 columns]"
      ]
     },
     "execution_count": 197,
     "metadata": {},
     "output_type": "execute_result"
    }
   ],
   "source": [
    "df.sample(5)"
   ]
  },
  {
   "cell_type": "code",
   "execution_count": 198,
   "metadata": {},
   "outputs": [
    {
     "data": {
      "text/html": [
       "<div>\n",
       "<style scoped>\n",
       "    .dataframe tbody tr th:only-of-type {\n",
       "        vertical-align: middle;\n",
       "    }\n",
       "\n",
       "    .dataframe tbody tr th {\n",
       "        vertical-align: top;\n",
       "    }\n",
       "\n",
       "    .dataframe thead th {\n",
       "        text-align: right;\n",
       "    }\n",
       "</style>\n",
       "<table border=\"1\" class=\"dataframe\">\n",
       "  <thead>\n",
       "    <tr style=\"text-align: right;\">\n",
       "      <th></th>\n",
       "      <th>date</th>\n",
       "      <th>state</th>\n",
       "      <th>positive</th>\n",
       "      <th>negative</th>\n",
       "      <th>pending</th>\n",
       "      <th>hospitalizedCurrently</th>\n",
       "      <th>hospitalizedCumulative</th>\n",
       "      <th>inIcuCurrently</th>\n",
       "      <th>inIcuCumulative</th>\n",
       "      <th>onVentilatorCurrently</th>\n",
       "      <th>...</th>\n",
       "      <th>hospitalized</th>\n",
       "      <th>total</th>\n",
       "      <th>totalTestResults</th>\n",
       "      <th>posNeg</th>\n",
       "      <th>fips</th>\n",
       "      <th>deathIncrease</th>\n",
       "      <th>hospitalizedIncrease</th>\n",
       "      <th>negativeIncrease</th>\n",
       "      <th>positiveIncrease</th>\n",
       "      <th>totalTestResultsIncrease</th>\n",
       "    </tr>\n",
       "  </thead>\n",
       "  <tbody>\n",
       "    <tr>\n",
       "      <th>0</th>\n",
       "      <td>20200408</td>\n",
       "      <td>AK</td>\n",
       "      <td>226.0</td>\n",
       "      <td>6842.0</td>\n",
       "      <td>NaN</td>\n",
       "      <td>NaN</td>\n",
       "      <td>27.0</td>\n",
       "      <td>NaN</td>\n",
       "      <td>NaN</td>\n",
       "      <td>NaN</td>\n",
       "      <td>...</td>\n",
       "      <td>27.0</td>\n",
       "      <td>7068</td>\n",
       "      <td>7068</td>\n",
       "      <td>7068</td>\n",
       "      <td>2</td>\n",
       "      <td>1.0</td>\n",
       "      <td>4.0</td>\n",
       "      <td>142.0</td>\n",
       "      <td>13.0</td>\n",
       "      <td>155.0</td>\n",
       "    </tr>\n",
       "    <tr>\n",
       "      <th>1</th>\n",
       "      <td>20200408</td>\n",
       "      <td>AL</td>\n",
       "      <td>2369.0</td>\n",
       "      <td>16753.0</td>\n",
       "      <td>NaN</td>\n",
       "      <td>NaN</td>\n",
       "      <td>314.0</td>\n",
       "      <td>NaN</td>\n",
       "      <td>NaN</td>\n",
       "      <td>NaN</td>\n",
       "      <td>...</td>\n",
       "      <td>314.0</td>\n",
       "      <td>19122</td>\n",
       "      <td>19122</td>\n",
       "      <td>19122</td>\n",
       "      <td>1</td>\n",
       "      <td>10.0</td>\n",
       "      <td>43.0</td>\n",
       "      <td>3956.0</td>\n",
       "      <td>250.0</td>\n",
       "      <td>4206.0</td>\n",
       "    </tr>\n",
       "    <tr>\n",
       "      <th>2</th>\n",
       "      <td>20200408</td>\n",
       "      <td>AR</td>\n",
       "      <td>1000.0</td>\n",
       "      <td>13530.0</td>\n",
       "      <td>NaN</td>\n",
       "      <td>76.0</td>\n",
       "      <td>130.0</td>\n",
       "      <td>NaN</td>\n",
       "      <td>43.0</td>\n",
       "      <td>30.0</td>\n",
       "      <td>...</td>\n",
       "      <td>130.0</td>\n",
       "      <td>14530</td>\n",
       "      <td>14530</td>\n",
       "      <td>14530</td>\n",
       "      <td>5</td>\n",
       "      <td>2.0</td>\n",
       "      <td>-18.0</td>\n",
       "      <td>838.0</td>\n",
       "      <td>54.0</td>\n",
       "      <td>892.0</td>\n",
       "    </tr>\n",
       "    <tr>\n",
       "      <th>3</th>\n",
       "      <td>20200408</td>\n",
       "      <td>AS</td>\n",
       "      <td>0.0</td>\n",
       "      <td>20.0</td>\n",
       "      <td>11.0</td>\n",
       "      <td>NaN</td>\n",
       "      <td>NaN</td>\n",
       "      <td>NaN</td>\n",
       "      <td>NaN</td>\n",
       "      <td>NaN</td>\n",
       "      <td>...</td>\n",
       "      <td>NaN</td>\n",
       "      <td>31</td>\n",
       "      <td>20</td>\n",
       "      <td>20</td>\n",
       "      <td>60</td>\n",
       "      <td>0.0</td>\n",
       "      <td>0.0</td>\n",
       "      <td>0.0</td>\n",
       "      <td>0.0</td>\n",
       "      <td>0.0</td>\n",
       "    </tr>\n",
       "    <tr>\n",
       "      <th>4</th>\n",
       "      <td>20200408</td>\n",
       "      <td>AZ</td>\n",
       "      <td>2726.0</td>\n",
       "      <td>31838.0</td>\n",
       "      <td>NaN</td>\n",
       "      <td>NaN</td>\n",
       "      <td>NaN</td>\n",
       "      <td>NaN</td>\n",
       "      <td>NaN</td>\n",
       "      <td>NaN</td>\n",
       "      <td>...</td>\n",
       "      <td>NaN</td>\n",
       "      <td>34564</td>\n",
       "      <td>34564</td>\n",
       "      <td>34564</td>\n",
       "      <td>4</td>\n",
       "      <td>7.0</td>\n",
       "      <td>0.0</td>\n",
       "      <td>1038.0</td>\n",
       "      <td>151.0</td>\n",
       "      <td>1189.0</td>\n",
       "    </tr>\n",
       "    <tr>\n",
       "      <th>5</th>\n",
       "      <td>20200408</td>\n",
       "      <td>CA</td>\n",
       "      <td>16957.0</td>\n",
       "      <td>127307.0</td>\n",
       "      <td>14600.0</td>\n",
       "      <td>2714.0</td>\n",
       "      <td>NaN</td>\n",
       "      <td>1154.0</td>\n",
       "      <td>NaN</td>\n",
       "      <td>NaN</td>\n",
       "      <td>...</td>\n",
       "      <td>NaN</td>\n",
       "      <td>158864</td>\n",
       "      <td>144264</td>\n",
       "      <td>144264</td>\n",
       "      <td>6</td>\n",
       "      <td>68.0</td>\n",
       "      <td>0.0</td>\n",
       "      <td>11943.0</td>\n",
       "      <td>1092.0</td>\n",
       "      <td>13035.0</td>\n",
       "    </tr>\n",
       "    <tr>\n",
       "      <th>6</th>\n",
       "      <td>20200408</td>\n",
       "      <td>CO</td>\n",
       "      <td>5429.0</td>\n",
       "      <td>22665.0</td>\n",
       "      <td>NaN</td>\n",
       "      <td>NaN</td>\n",
       "      <td>1079.0</td>\n",
       "      <td>NaN</td>\n",
       "      <td>NaN</td>\n",
       "      <td>NaN</td>\n",
       "      <td>...</td>\n",
       "      <td>1079.0</td>\n",
       "      <td>28094</td>\n",
       "      <td>28094</td>\n",
       "      <td>28094</td>\n",
       "      <td>8</td>\n",
       "      <td>29.0</td>\n",
       "      <td>85.0</td>\n",
       "      <td>962.0</td>\n",
       "      <td>257.0</td>\n",
       "      <td>1219.0</td>\n",
       "    </tr>\n",
       "    <tr>\n",
       "      <th>7</th>\n",
       "      <td>20200408</td>\n",
       "      <td>CT</td>\n",
       "      <td>7781.0</td>\n",
       "      <td>21255.0</td>\n",
       "      <td>NaN</td>\n",
       "      <td>1308.0</td>\n",
       "      <td>NaN</td>\n",
       "      <td>NaN</td>\n",
       "      <td>NaN</td>\n",
       "      <td>NaN</td>\n",
       "      <td>...</td>\n",
       "      <td>NaN</td>\n",
       "      <td>29036</td>\n",
       "      <td>29036</td>\n",
       "      <td>29036</td>\n",
       "      <td>9</td>\n",
       "      <td>0.0</td>\n",
       "      <td>0.0</td>\n",
       "      <td>0.0</td>\n",
       "      <td>0.0</td>\n",
       "      <td>0.0</td>\n",
       "    </tr>\n",
       "    <tr>\n",
       "      <th>8</th>\n",
       "      <td>20200408</td>\n",
       "      <td>DC</td>\n",
       "      <td>1440.0</td>\n",
       "      <td>6843.0</td>\n",
       "      <td>NaN</td>\n",
       "      <td>NaN</td>\n",
       "      <td>NaN</td>\n",
       "      <td>NaN</td>\n",
       "      <td>NaN</td>\n",
       "      <td>NaN</td>\n",
       "      <td>...</td>\n",
       "      <td>NaN</td>\n",
       "      <td>8283</td>\n",
       "      <td>8283</td>\n",
       "      <td>8283</td>\n",
       "      <td>11</td>\n",
       "      <td>5.0</td>\n",
       "      <td>0.0</td>\n",
       "      <td>231.0</td>\n",
       "      <td>229.0</td>\n",
       "      <td>460.0</td>\n",
       "    </tr>\n",
       "    <tr>\n",
       "      <th>9</th>\n",
       "      <td>20200408</td>\n",
       "      <td>DE</td>\n",
       "      <td>928.0</td>\n",
       "      <td>7628.0</td>\n",
       "      <td>NaN</td>\n",
       "      <td>147.0</td>\n",
       "      <td>NaN</td>\n",
       "      <td>NaN</td>\n",
       "      <td>NaN</td>\n",
       "      <td>NaN</td>\n",
       "      <td>...</td>\n",
       "      <td>NaN</td>\n",
       "      <td>8556</td>\n",
       "      <td>8556</td>\n",
       "      <td>8556</td>\n",
       "      <td>10</td>\n",
       "      <td>0.0</td>\n",
       "      <td>0.0</td>\n",
       "      <td>0.0</td>\n",
       "      <td>0.0</td>\n",
       "      <td>0.0</td>\n",
       "    </tr>\n",
       "  </tbody>\n",
       "</table>\n",
       "<p>10 rows × 25 columns</p>\n",
       "</div>"
      ],
      "text/plain": [
       "       date state  positive  negative  pending  hospitalizedCurrently  \\\n",
       "0  20200408    AK     226.0    6842.0      NaN                    NaN   \n",
       "1  20200408    AL    2369.0   16753.0      NaN                    NaN   \n",
       "2  20200408    AR    1000.0   13530.0      NaN                   76.0   \n",
       "3  20200408    AS       0.0      20.0     11.0                    NaN   \n",
       "4  20200408    AZ    2726.0   31838.0      NaN                    NaN   \n",
       "5  20200408    CA   16957.0  127307.0  14600.0                 2714.0   \n",
       "6  20200408    CO    5429.0   22665.0      NaN                    NaN   \n",
       "7  20200408    CT    7781.0   21255.0      NaN                 1308.0   \n",
       "8  20200408    DC    1440.0    6843.0      NaN                    NaN   \n",
       "9  20200408    DE     928.0    7628.0      NaN                  147.0   \n",
       "\n",
       "   hospitalizedCumulative  inIcuCurrently  inIcuCumulative  \\\n",
       "0                    27.0             NaN              NaN   \n",
       "1                   314.0             NaN              NaN   \n",
       "2                   130.0             NaN             43.0   \n",
       "3                     NaN             NaN              NaN   \n",
       "4                     NaN             NaN              NaN   \n",
       "5                     NaN          1154.0              NaN   \n",
       "6                  1079.0             NaN              NaN   \n",
       "7                     NaN             NaN              NaN   \n",
       "8                     NaN             NaN              NaN   \n",
       "9                     NaN             NaN              NaN   \n",
       "\n",
       "   onVentilatorCurrently  ...  hospitalized   total totalTestResults  posNeg  \\\n",
       "0                    NaN  ...          27.0    7068             7068    7068   \n",
       "1                    NaN  ...         314.0   19122            19122   19122   \n",
       "2                   30.0  ...         130.0   14530            14530   14530   \n",
       "3                    NaN  ...           NaN      31               20      20   \n",
       "4                    NaN  ...           NaN   34564            34564   34564   \n",
       "5                    NaN  ...           NaN  158864           144264  144264   \n",
       "6                    NaN  ...        1079.0   28094            28094   28094   \n",
       "7                    NaN  ...           NaN   29036            29036   29036   \n",
       "8                    NaN  ...           NaN    8283             8283    8283   \n",
       "9                    NaN  ...           NaN    8556             8556    8556   \n",
       "\n",
       "   fips  deathIncrease  hospitalizedIncrease  negativeIncrease  \\\n",
       "0     2            1.0                   4.0             142.0   \n",
       "1     1           10.0                  43.0            3956.0   \n",
       "2     5            2.0                 -18.0             838.0   \n",
       "3    60            0.0                   0.0               0.0   \n",
       "4     4            7.0                   0.0            1038.0   \n",
       "5     6           68.0                   0.0           11943.0   \n",
       "6     8           29.0                  85.0             962.0   \n",
       "7     9            0.0                   0.0               0.0   \n",
       "8    11            5.0                   0.0             231.0   \n",
       "9    10            0.0                   0.0               0.0   \n",
       "\n",
       "   positiveIncrease  totalTestResultsIncrease  \n",
       "0              13.0                     155.0  \n",
       "1             250.0                    4206.0  \n",
       "2              54.0                     892.0  \n",
       "3               0.0                       0.0  \n",
       "4             151.0                    1189.0  \n",
       "5            1092.0                   13035.0  \n",
       "6             257.0                    1219.0  \n",
       "7               0.0                       0.0  \n",
       "8             229.0                     460.0  \n",
       "9               0.0                       0.0  \n",
       "\n",
       "[10 rows x 25 columns]"
      ]
     },
     "execution_count": 198,
     "metadata": {},
     "output_type": "execute_result"
    }
   ],
   "source": [
    "df.head(10)"
   ]
  },
  {
   "cell_type": "code",
   "execution_count": 199,
   "metadata": {},
   "outputs": [
    {
     "data": {
      "text/html": [
       "<div>\n",
       "<style scoped>\n",
       "    .dataframe tbody tr th:only-of-type {\n",
       "        vertical-align: middle;\n",
       "    }\n",
       "\n",
       "    .dataframe tbody tr th {\n",
       "        vertical-align: top;\n",
       "    }\n",
       "\n",
       "    .dataframe thead th {\n",
       "        text-align: right;\n",
       "    }\n",
       "</style>\n",
       "<table border=\"1\" class=\"dataframe\">\n",
       "  <thead>\n",
       "    <tr style=\"text-align: right;\">\n",
       "      <th></th>\n",
       "      <th>date</th>\n",
       "      <th>state</th>\n",
       "      <th>positive</th>\n",
       "      <th>negative</th>\n",
       "      <th>pending</th>\n",
       "      <th>hospitalizedCurrently</th>\n",
       "      <th>hospitalizedCumulative</th>\n",
       "      <th>inIcuCurrently</th>\n",
       "      <th>inIcuCumulative</th>\n",
       "      <th>onVentilatorCurrently</th>\n",
       "      <th>...</th>\n",
       "      <th>hospitalized</th>\n",
       "      <th>total</th>\n",
       "      <th>totalTestResults</th>\n",
       "      <th>posNeg</th>\n",
       "      <th>fips</th>\n",
       "      <th>deathIncrease</th>\n",
       "      <th>hospitalizedIncrease</th>\n",
       "      <th>negativeIncrease</th>\n",
       "      <th>positiveIncrease</th>\n",
       "      <th>totalTestResultsIncrease</th>\n",
       "    </tr>\n",
       "  </thead>\n",
       "  <tbody>\n",
       "    <tr>\n",
       "      <th>1863</th>\n",
       "      <td>20200304</td>\n",
       "      <td>IL</td>\n",
       "      <td>4.0</td>\n",
       "      <td>124.0</td>\n",
       "      <td>27.0</td>\n",
       "      <td>NaN</td>\n",
       "      <td>NaN</td>\n",
       "      <td>NaN</td>\n",
       "      <td>NaN</td>\n",
       "      <td>NaN</td>\n",
       "      <td>...</td>\n",
       "      <td>NaN</td>\n",
       "      <td>155</td>\n",
       "      <td>128</td>\n",
       "      <td>128</td>\n",
       "      <td>17</td>\n",
       "      <td>NaN</td>\n",
       "      <td>NaN</td>\n",
       "      <td>NaN</td>\n",
       "      <td>NaN</td>\n",
       "      <td>NaN</td>\n",
       "    </tr>\n",
       "    <tr>\n",
       "      <th>1864</th>\n",
       "      <td>20200304</td>\n",
       "      <td>MA</td>\n",
       "      <td>2.0</td>\n",
       "      <td>NaN</td>\n",
       "      <td>NaN</td>\n",
       "      <td>NaN</td>\n",
       "      <td>NaN</td>\n",
       "      <td>NaN</td>\n",
       "      <td>NaN</td>\n",
       "      <td>NaN</td>\n",
       "      <td>...</td>\n",
       "      <td>NaN</td>\n",
       "      <td>2</td>\n",
       "      <td>2</td>\n",
       "      <td>2</td>\n",
       "      <td>25</td>\n",
       "      <td>NaN</td>\n",
       "      <td>NaN</td>\n",
       "      <td>NaN</td>\n",
       "      <td>NaN</td>\n",
       "      <td>NaN</td>\n",
       "    </tr>\n",
       "    <tr>\n",
       "      <th>1865</th>\n",
       "      <td>20200304</td>\n",
       "      <td>NC</td>\n",
       "      <td>1.0</td>\n",
       "      <td>NaN</td>\n",
       "      <td>NaN</td>\n",
       "      <td>NaN</td>\n",
       "      <td>NaN</td>\n",
       "      <td>NaN</td>\n",
       "      <td>NaN</td>\n",
       "      <td>NaN</td>\n",
       "      <td>...</td>\n",
       "      <td>NaN</td>\n",
       "      <td>1</td>\n",
       "      <td>1</td>\n",
       "      <td>1</td>\n",
       "      <td>37</td>\n",
       "      <td>NaN</td>\n",
       "      <td>NaN</td>\n",
       "      <td>NaN</td>\n",
       "      <td>NaN</td>\n",
       "      <td>NaN</td>\n",
       "    </tr>\n",
       "    <tr>\n",
       "      <th>1866</th>\n",
       "      <td>20200304</td>\n",
       "      <td>NH</td>\n",
       "      <td>2.0</td>\n",
       "      <td>10.0</td>\n",
       "      <td>7.0</td>\n",
       "      <td>NaN</td>\n",
       "      <td>NaN</td>\n",
       "      <td>NaN</td>\n",
       "      <td>NaN</td>\n",
       "      <td>NaN</td>\n",
       "      <td>...</td>\n",
       "      <td>NaN</td>\n",
       "      <td>19</td>\n",
       "      <td>12</td>\n",
       "      <td>12</td>\n",
       "      <td>33</td>\n",
       "      <td>NaN</td>\n",
       "      <td>NaN</td>\n",
       "      <td>NaN</td>\n",
       "      <td>NaN</td>\n",
       "      <td>NaN</td>\n",
       "    </tr>\n",
       "    <tr>\n",
       "      <th>1867</th>\n",
       "      <td>20200304</td>\n",
       "      <td>NY</td>\n",
       "      <td>6.0</td>\n",
       "      <td>48.0</td>\n",
       "      <td>24.0</td>\n",
       "      <td>NaN</td>\n",
       "      <td>NaN</td>\n",
       "      <td>NaN</td>\n",
       "      <td>NaN</td>\n",
       "      <td>NaN</td>\n",
       "      <td>...</td>\n",
       "      <td>NaN</td>\n",
       "      <td>78</td>\n",
       "      <td>54</td>\n",
       "      <td>54</td>\n",
       "      <td>36</td>\n",
       "      <td>NaN</td>\n",
       "      <td>NaN</td>\n",
       "      <td>NaN</td>\n",
       "      <td>NaN</td>\n",
       "      <td>NaN</td>\n",
       "    </tr>\n",
       "    <tr>\n",
       "      <th>1868</th>\n",
       "      <td>20200304</td>\n",
       "      <td>OR</td>\n",
       "      <td>3.0</td>\n",
       "      <td>29.0</td>\n",
       "      <td>18.0</td>\n",
       "      <td>NaN</td>\n",
       "      <td>NaN</td>\n",
       "      <td>NaN</td>\n",
       "      <td>NaN</td>\n",
       "      <td>NaN</td>\n",
       "      <td>...</td>\n",
       "      <td>NaN</td>\n",
       "      <td>50</td>\n",
       "      <td>32</td>\n",
       "      <td>32</td>\n",
       "      <td>41</td>\n",
       "      <td>NaN</td>\n",
       "      <td>NaN</td>\n",
       "      <td>NaN</td>\n",
       "      <td>NaN</td>\n",
       "      <td>NaN</td>\n",
       "    </tr>\n",
       "    <tr>\n",
       "      <th>1869</th>\n",
       "      <td>20200304</td>\n",
       "      <td>SC</td>\n",
       "      <td>0.0</td>\n",
       "      <td>5.0</td>\n",
       "      <td>0.0</td>\n",
       "      <td>NaN</td>\n",
       "      <td>NaN</td>\n",
       "      <td>NaN</td>\n",
       "      <td>NaN</td>\n",
       "      <td>NaN</td>\n",
       "      <td>...</td>\n",
       "      <td>NaN</td>\n",
       "      <td>5</td>\n",
       "      <td>5</td>\n",
       "      <td>5</td>\n",
       "      <td>45</td>\n",
       "      <td>NaN</td>\n",
       "      <td>NaN</td>\n",
       "      <td>NaN</td>\n",
       "      <td>NaN</td>\n",
       "      <td>NaN</td>\n",
       "    </tr>\n",
       "    <tr>\n",
       "      <th>1870</th>\n",
       "      <td>20200304</td>\n",
       "      <td>TX</td>\n",
       "      <td>1.0</td>\n",
       "      <td>NaN</td>\n",
       "      <td>NaN</td>\n",
       "      <td>NaN</td>\n",
       "      <td>NaN</td>\n",
       "      <td>NaN</td>\n",
       "      <td>NaN</td>\n",
       "      <td>NaN</td>\n",
       "      <td>...</td>\n",
       "      <td>NaN</td>\n",
       "      <td>1</td>\n",
       "      <td>1</td>\n",
       "      <td>1</td>\n",
       "      <td>48</td>\n",
       "      <td>NaN</td>\n",
       "      <td>NaN</td>\n",
       "      <td>NaN</td>\n",
       "      <td>NaN</td>\n",
       "      <td>NaN</td>\n",
       "    </tr>\n",
       "    <tr>\n",
       "      <th>1871</th>\n",
       "      <td>20200304</td>\n",
       "      <td>WA</td>\n",
       "      <td>39.0</td>\n",
       "      <td>NaN</td>\n",
       "      <td>NaN</td>\n",
       "      <td>NaN</td>\n",
       "      <td>NaN</td>\n",
       "      <td>NaN</td>\n",
       "      <td>NaN</td>\n",
       "      <td>NaN</td>\n",
       "      <td>...</td>\n",
       "      <td>NaN</td>\n",
       "      <td>39</td>\n",
       "      <td>39</td>\n",
       "      <td>39</td>\n",
       "      <td>53</td>\n",
       "      <td>NaN</td>\n",
       "      <td>NaN</td>\n",
       "      <td>NaN</td>\n",
       "      <td>NaN</td>\n",
       "      <td>NaN</td>\n",
       "    </tr>\n",
       "    <tr>\n",
       "      <th>1872</th>\n",
       "      <td>20200304</td>\n",
       "      <td>WI</td>\n",
       "      <td>1.0</td>\n",
       "      <td>19.0</td>\n",
       "      <td>6.0</td>\n",
       "      <td>NaN</td>\n",
       "      <td>NaN</td>\n",
       "      <td>NaN</td>\n",
       "      <td>NaN</td>\n",
       "      <td>NaN</td>\n",
       "      <td>...</td>\n",
       "      <td>NaN</td>\n",
       "      <td>26</td>\n",
       "      <td>20</td>\n",
       "      <td>20</td>\n",
       "      <td>55</td>\n",
       "      <td>NaN</td>\n",
       "      <td>NaN</td>\n",
       "      <td>NaN</td>\n",
       "      <td>NaN</td>\n",
       "      <td>NaN</td>\n",
       "    </tr>\n",
       "  </tbody>\n",
       "</table>\n",
       "<p>10 rows × 25 columns</p>\n",
       "</div>"
      ],
      "text/plain": [
       "          date state  positive  negative  pending  hospitalizedCurrently  \\\n",
       "1863  20200304    IL       4.0     124.0     27.0                    NaN   \n",
       "1864  20200304    MA       2.0       NaN      NaN                    NaN   \n",
       "1865  20200304    NC       1.0       NaN      NaN                    NaN   \n",
       "1866  20200304    NH       2.0      10.0      7.0                    NaN   \n",
       "1867  20200304    NY       6.0      48.0     24.0                    NaN   \n",
       "1868  20200304    OR       3.0      29.0     18.0                    NaN   \n",
       "1869  20200304    SC       0.0       5.0      0.0                    NaN   \n",
       "1870  20200304    TX       1.0       NaN      NaN                    NaN   \n",
       "1871  20200304    WA      39.0       NaN      NaN                    NaN   \n",
       "1872  20200304    WI       1.0      19.0      6.0                    NaN   \n",
       "\n",
       "      hospitalizedCumulative  inIcuCurrently  inIcuCumulative  \\\n",
       "1863                     NaN             NaN              NaN   \n",
       "1864                     NaN             NaN              NaN   \n",
       "1865                     NaN             NaN              NaN   \n",
       "1866                     NaN             NaN              NaN   \n",
       "1867                     NaN             NaN              NaN   \n",
       "1868                     NaN             NaN              NaN   \n",
       "1869                     NaN             NaN              NaN   \n",
       "1870                     NaN             NaN              NaN   \n",
       "1871                     NaN             NaN              NaN   \n",
       "1872                     NaN             NaN              NaN   \n",
       "\n",
       "      onVentilatorCurrently  ...  hospitalized  total totalTestResults posNeg  \\\n",
       "1863                    NaN  ...           NaN    155              128    128   \n",
       "1864                    NaN  ...           NaN      2                2      2   \n",
       "1865                    NaN  ...           NaN      1                1      1   \n",
       "1866                    NaN  ...           NaN     19               12     12   \n",
       "1867                    NaN  ...           NaN     78               54     54   \n",
       "1868                    NaN  ...           NaN     50               32     32   \n",
       "1869                    NaN  ...           NaN      5                5      5   \n",
       "1870                    NaN  ...           NaN      1                1      1   \n",
       "1871                    NaN  ...           NaN     39               39     39   \n",
       "1872                    NaN  ...           NaN     26               20     20   \n",
       "\n",
       "      fips  deathIncrease  hospitalizedIncrease  negativeIncrease  \\\n",
       "1863    17            NaN                   NaN               NaN   \n",
       "1864    25            NaN                   NaN               NaN   \n",
       "1865    37            NaN                   NaN               NaN   \n",
       "1866    33            NaN                   NaN               NaN   \n",
       "1867    36            NaN                   NaN               NaN   \n",
       "1868    41            NaN                   NaN               NaN   \n",
       "1869    45            NaN                   NaN               NaN   \n",
       "1870    48            NaN                   NaN               NaN   \n",
       "1871    53            NaN                   NaN               NaN   \n",
       "1872    55            NaN                   NaN               NaN   \n",
       "\n",
       "      positiveIncrease  totalTestResultsIncrease  \n",
       "1863               NaN                       NaN  \n",
       "1864               NaN                       NaN  \n",
       "1865               NaN                       NaN  \n",
       "1866               NaN                       NaN  \n",
       "1867               NaN                       NaN  \n",
       "1868               NaN                       NaN  \n",
       "1869               NaN                       NaN  \n",
       "1870               NaN                       NaN  \n",
       "1871               NaN                       NaN  \n",
       "1872               NaN                       NaN  \n",
       "\n",
       "[10 rows x 25 columns]"
      ]
     },
     "execution_count": 199,
     "metadata": {},
     "output_type": "execute_result"
    }
   ],
   "source": [
    "df.tail(10)"
   ]
  },
  {
   "cell_type": "markdown",
   "metadata": {},
   "source": [
    "Selected column descriptions:\n",
    "- date - date of observation\n",
    "- state - US state 2 digit code\n",
    "- positive - number of tests with positive results\n",
    "- negative - number of tests with negative results\n",
    "- pending - number of test with pending results\n",
    "- death - number of deaths\n",
    "- total - total number of tests"
   ]
  },
  {
   "cell_type": "code",
   "execution_count": 200,
   "metadata": {},
   "outputs": [],
   "source": [
    "#most updated date in current values are for April 4th, 2020"
   ]
  },
  {
   "cell_type": "code",
   "execution_count": 201,
   "metadata": {},
   "outputs": [],
   "source": [
    "df1 = pd.read_csv('current.csv', low_memory=False)"
   ]
  },
  {
   "cell_type": "code",
   "execution_count": 202,
   "metadata": {},
   "outputs": [
    {
     "name": "stdout",
     "output_type": "stream",
     "text": [
      "<class 'pandas.core.frame.DataFrame'>\n",
      "RangeIndex: 51 entries, 0 to 50\n",
      "Data columns (total 29 columns):\n",
      " #   Column                  Non-Null Count  Dtype  \n",
      "---  ------                  --------------  -----  \n",
      " 0   state                   51 non-null     object \n",
      " 1   positive                51 non-null     int64  \n",
      " 2   positiveScore           51 non-null     int64  \n",
      " 3   negativeScore           51 non-null     int64  \n",
      " 4   negativeRegularScore    51 non-null     int64  \n",
      " 5   commercialScore         51 non-null     int64  \n",
      " 6   grade                   51 non-null     object \n",
      " 7   score                   51 non-null     int64  \n",
      " 8   negative                51 non-null     int64  \n",
      " 9   pending                 4 non-null      float64\n",
      " 10  hospitalizedCurrently   22 non-null     float64\n",
      " 11  hospitalizedCumulative  29 non-null     float64\n",
      " 12  inIcuCurrently          10 non-null     float64\n",
      " 13  inIcuCumulative         6 non-null      float64\n",
      " 14  onVentilatorCurrently   10 non-null     float64\n",
      " 15  onVentilatorCumulative  2 non-null      float64\n",
      " 16  recovered               21 non-null     float64\n",
      " 17  lastUpdateEt            51 non-null     object \n",
      " 18  checkTimeEt             51 non-null     object \n",
      " 19  death                   51 non-null     int64  \n",
      " 20  hospitalized            29 non-null     float64\n",
      " 21  total                   51 non-null     int64  \n",
      " 22  totalTestResults        51 non-null     int64  \n",
      " 23  posNeg                  51 non-null     int64  \n",
      " 24  fips                    51 non-null     int64  \n",
      " 25  dateModified            51 non-null     object \n",
      " 26  dateChecked             51 non-null     object \n",
      " 27  notes                   51 non-null     object \n",
      " 28  hash                    51 non-null     object \n",
      "dtypes: float64(9), int64(12), object(8)\n",
      "memory usage: 11.7+ KB\n"
     ]
    }
   ],
   "source": [
    "df1.info()"
   ]
  },
  {
   "cell_type": "code",
   "execution_count": 203,
   "metadata": {},
   "outputs": [
    {
     "data": {
      "text/html": [
       "<div>\n",
       "<style scoped>\n",
       "    .dataframe tbody tr th:only-of-type {\n",
       "        vertical-align: middle;\n",
       "    }\n",
       "\n",
       "    .dataframe tbody tr th {\n",
       "        vertical-align: top;\n",
       "    }\n",
       "\n",
       "    .dataframe thead th {\n",
       "        text-align: right;\n",
       "    }\n",
       "</style>\n",
       "<table border=\"1\" class=\"dataframe\">\n",
       "  <thead>\n",
       "    <tr style=\"text-align: right;\">\n",
       "      <th></th>\n",
       "      <th>state</th>\n",
       "      <th>positive</th>\n",
       "      <th>positiveScore</th>\n",
       "      <th>negativeScore</th>\n",
       "      <th>negativeRegularScore</th>\n",
       "      <th>commercialScore</th>\n",
       "      <th>grade</th>\n",
       "      <th>score</th>\n",
       "      <th>negative</th>\n",
       "      <th>pending</th>\n",
       "      <th>...</th>\n",
       "      <th>death</th>\n",
       "      <th>hospitalized</th>\n",
       "      <th>total</th>\n",
       "      <th>totalTestResults</th>\n",
       "      <th>posNeg</th>\n",
       "      <th>fips</th>\n",
       "      <th>dateModified</th>\n",
       "      <th>dateChecked</th>\n",
       "      <th>notes</th>\n",
       "      <th>hash</th>\n",
       "    </tr>\n",
       "  </thead>\n",
       "  <tbody>\n",
       "    <tr>\n",
       "      <th>0</th>\n",
       "      <td>AK</td>\n",
       "      <td>226</td>\n",
       "      <td>1</td>\n",
       "      <td>1</td>\n",
       "      <td>1</td>\n",
       "      <td>1</td>\n",
       "      <td>A</td>\n",
       "      <td>4</td>\n",
       "      <td>6842</td>\n",
       "      <td>NaN</td>\n",
       "      <td>...</td>\n",
       "      <td>7</td>\n",
       "      <td>27.0</td>\n",
       "      <td>7068</td>\n",
       "      <td>7068</td>\n",
       "      <td>7068</td>\n",
       "      <td>2</td>\n",
       "      <td>2020-04-08T19:00:00Z</td>\n",
       "      <td>2020-04-08T19:13:00Z</td>\n",
       "      <td>Please stop using the \"total\" field. Use \"tota...</td>\n",
       "      <td>c8335d4a25edf3ca27653180527f5c6429ec3835</td>\n",
       "    </tr>\n",
       "    <tr>\n",
       "      <th>1</th>\n",
       "      <td>AL</td>\n",
       "      <td>2547</td>\n",
       "      <td>1</td>\n",
       "      <td>1</td>\n",
       "      <td>0</td>\n",
       "      <td>1</td>\n",
       "      <td>B</td>\n",
       "      <td>3</td>\n",
       "      <td>18058</td>\n",
       "      <td>NaN</td>\n",
       "      <td>...</td>\n",
       "      <td>68</td>\n",
       "      <td>333.0</td>\n",
       "      <td>20605</td>\n",
       "      <td>20605</td>\n",
       "      <td>20605</td>\n",
       "      <td>1</td>\n",
       "      <td>2020-04-09T04:00:00Z</td>\n",
       "      <td>2020-04-09T13:02:00Z</td>\n",
       "      <td>Please stop using the \"total\" field. Use \"tota...</td>\n",
       "      <td>832a32b4be7544f6b7e3e9700868c691b7b46add</td>\n",
       "    </tr>\n",
       "    <tr>\n",
       "      <th>2</th>\n",
       "      <td>AR</td>\n",
       "      <td>1000</td>\n",
       "      <td>1</td>\n",
       "      <td>1</td>\n",
       "      <td>1</td>\n",
       "      <td>1</td>\n",
       "      <td>A</td>\n",
       "      <td>4</td>\n",
       "      <td>13530</td>\n",
       "      <td>NaN</td>\n",
       "      <td>...</td>\n",
       "      <td>18</td>\n",
       "      <td>130.0</td>\n",
       "      <td>14530</td>\n",
       "      <td>14530</td>\n",
       "      <td>14530</td>\n",
       "      <td>5</td>\n",
       "      <td>2020-04-08T18:35:00Z</td>\n",
       "      <td>2020-04-08T20:43:00Z</td>\n",
       "      <td>Please stop using the \"total\" field. Use \"tota...</td>\n",
       "      <td>54ccf3c3afaaf7532078ff6e6525f441f0e28b07</td>\n",
       "    </tr>\n",
       "    <tr>\n",
       "      <th>3</th>\n",
       "      <td>AZ</td>\n",
       "      <td>2726</td>\n",
       "      <td>1</td>\n",
       "      <td>1</td>\n",
       "      <td>0</td>\n",
       "      <td>1</td>\n",
       "      <td>B</td>\n",
       "      <td>3</td>\n",
       "      <td>31838</td>\n",
       "      <td>NaN</td>\n",
       "      <td>...</td>\n",
       "      <td>80</td>\n",
       "      <td>NaN</td>\n",
       "      <td>34564</td>\n",
       "      <td>34564</td>\n",
       "      <td>34564</td>\n",
       "      <td>4</td>\n",
       "      <td>2020-04-08T04:00:00Z</td>\n",
       "      <td>2020-04-09T02:09:00Z</td>\n",
       "      <td>Please stop using the \"total\" field. Use \"tota...</td>\n",
       "      <td>abb602974f4bde0b2d9698356d0eba584817cf94</td>\n",
       "    </tr>\n",
       "    <tr>\n",
       "      <th>4</th>\n",
       "      <td>CA</td>\n",
       "      <td>16957</td>\n",
       "      <td>1</td>\n",
       "      <td>1</td>\n",
       "      <td>0</td>\n",
       "      <td>1</td>\n",
       "      <td>B</td>\n",
       "      <td>3</td>\n",
       "      <td>137776</td>\n",
       "      <td>14100.0</td>\n",
       "      <td>...</td>\n",
       "      <td>442</td>\n",
       "      <td>NaN</td>\n",
       "      <td>168833</td>\n",
       "      <td>154733</td>\n",
       "      <td>154733</td>\n",
       "      <td>6</td>\n",
       "      <td>2020-04-08T23:00:00Z</td>\n",
       "      <td>2020-04-09T13:46:00Z</td>\n",
       "      <td>Please stop using the \"total\" field. Use \"tota...</td>\n",
       "      <td>b9fab255a8e8cc3a91f0c8ca5656c89316c33903</td>\n",
       "    </tr>\n",
       "  </tbody>\n",
       "</table>\n",
       "<p>5 rows × 29 columns</p>\n",
       "</div>"
      ],
      "text/plain": [
       "  state  positive  positiveScore  negativeScore  negativeRegularScore  \\\n",
       "0    AK       226              1              1                     1   \n",
       "1    AL      2547              1              1                     0   \n",
       "2    AR      1000              1              1                     1   \n",
       "3    AZ      2726              1              1                     0   \n",
       "4    CA     16957              1              1                     0   \n",
       "\n",
       "   commercialScore grade  score  negative  pending  ...  death  hospitalized  \\\n",
       "0                1     A      4      6842      NaN  ...      7          27.0   \n",
       "1                1     B      3     18058      NaN  ...     68         333.0   \n",
       "2                1     A      4     13530      NaN  ...     18         130.0   \n",
       "3                1     B      3     31838      NaN  ...     80           NaN   \n",
       "4                1     B      3    137776  14100.0  ...    442           NaN   \n",
       "\n",
       "    total  totalTestResults  posNeg  fips          dateModified  \\\n",
       "0    7068              7068    7068     2  2020-04-08T19:00:00Z   \n",
       "1   20605             20605   20605     1  2020-04-09T04:00:00Z   \n",
       "2   14530             14530   14530     5  2020-04-08T18:35:00Z   \n",
       "3   34564             34564   34564     4  2020-04-08T04:00:00Z   \n",
       "4  168833            154733  154733     6  2020-04-08T23:00:00Z   \n",
       "\n",
       "            dateChecked                                              notes  \\\n",
       "0  2020-04-08T19:13:00Z  Please stop using the \"total\" field. Use \"tota...   \n",
       "1  2020-04-09T13:02:00Z  Please stop using the \"total\" field. Use \"tota...   \n",
       "2  2020-04-08T20:43:00Z  Please stop using the \"total\" field. Use \"tota...   \n",
       "3  2020-04-09T02:09:00Z  Please stop using the \"total\" field. Use \"tota...   \n",
       "4  2020-04-09T13:46:00Z  Please stop using the \"total\" field. Use \"tota...   \n",
       "\n",
       "                                       hash  \n",
       "0  c8335d4a25edf3ca27653180527f5c6429ec3835  \n",
       "1  832a32b4be7544f6b7e3e9700868c691b7b46add  \n",
       "2  54ccf3c3afaaf7532078ff6e6525f441f0e28b07  \n",
       "3  abb602974f4bde0b2d9698356d0eba584817cf94  \n",
       "4  b9fab255a8e8cc3a91f0c8ca5656c89316c33903  \n",
       "\n",
       "[5 rows x 29 columns]"
      ]
     },
     "execution_count": 203,
     "metadata": {},
     "output_type": "execute_result"
    }
   ],
   "source": [
    "df1.head()"
   ]
  },
  {
   "cell_type": "markdown",
   "metadata": {},
   "source": [
    " Selected column descriptions (2nd data set)\n",
    "   - state - State or territory postal code abbreviation.\n",
    "   - positive - Total cumulative positive test results.\n",
    "   - positiveScore - +1 for reporting positives reliably.\n",
    "   -  negative - Total cumulative negative test results.\n",
    "   -  negativeScore - +1 for reporting negatives sometimes.\n",
    "   -  negativeRegularScore - +1 for reporting negatives reliably.\n",
    "   - commercialScore - +1 for reporting all commercial tests.\n",
    "   - score - Total reporting quality score.\n",
    "   - grade - Letter grade based on score.\n",
    "   - totalTestResults - Calculated value (positive + negative) of total test results.\n",
    "   - hospitalized - Total cumulative number of people hospitalized.\n",
    "   - death - Total cumulative number of people that have died.\n",
    "   - dateModified - ISO 8601 date of the time the data was last updated by the state.\n",
    "   - dateChecked - ISO 8601 date of the time we last visited their website\n",
    "   - hash - A unique ID changed every time the data updates.\n",
    "   - total - DEPRECATED Will be removed in the future. (positive + negative + pending). Pending has been an unstable value and should not count in any totals.\n"
   ]
  },
  {
   "cell_type": "code",
   "execution_count": 204,
   "metadata": {},
   "outputs": [
    {
     "data": {
      "text/html": [
       "<div>\n",
       "<style scoped>\n",
       "    .dataframe tbody tr th:only-of-type {\n",
       "        vertical-align: middle;\n",
       "    }\n",
       "\n",
       "    .dataframe tbody tr th {\n",
       "        vertical-align: top;\n",
       "    }\n",
       "\n",
       "    .dataframe thead th {\n",
       "        text-align: right;\n",
       "    }\n",
       "</style>\n",
       "<table border=\"1\" class=\"dataframe\">\n",
       "  <thead>\n",
       "    <tr style=\"text-align: right;\">\n",
       "      <th></th>\n",
       "      <th>date</th>\n",
       "      <th>state</th>\n",
       "      <th>positive</th>\n",
       "      <th>negative</th>\n",
       "      <th>pending</th>\n",
       "      <th>hospitalizedCurrently</th>\n",
       "      <th>hospitalizedCumulative</th>\n",
       "      <th>inIcuCurrently</th>\n",
       "      <th>inIcuCumulative</th>\n",
       "      <th>onVentilatorCurrently</th>\n",
       "      <th>...</th>\n",
       "      <th>hospitalized</th>\n",
       "      <th>total</th>\n",
       "      <th>totalTestResults</th>\n",
       "      <th>posNeg</th>\n",
       "      <th>fips</th>\n",
       "      <th>deathIncrease</th>\n",
       "      <th>hospitalizedIncrease</th>\n",
       "      <th>negativeIncrease</th>\n",
       "      <th>positiveIncrease</th>\n",
       "      <th>totalTestResultsIncrease</th>\n",
       "    </tr>\n",
       "  </thead>\n",
       "  <tbody>\n",
       "    <tr>\n",
       "      <th>224</th>\n",
       "      <td>20200404</td>\n",
       "      <td>AK</td>\n",
       "      <td>171.0</td>\n",
       "      <td>5869.0</td>\n",
       "      <td>NaN</td>\n",
       "      <td>NaN</td>\n",
       "      <td>16.0</td>\n",
       "      <td>NaN</td>\n",
       "      <td>NaN</td>\n",
       "      <td>NaN</td>\n",
       "      <td>...</td>\n",
       "      <td>16.0</td>\n",
       "      <td>6040</td>\n",
       "      <td>6040</td>\n",
       "      <td>6040</td>\n",
       "      <td>2</td>\n",
       "      <td>2.0</td>\n",
       "      <td>1.0</td>\n",
       "      <td>10.0</td>\n",
       "      <td>14.0</td>\n",
       "      <td>24.0</td>\n",
       "    </tr>\n",
       "    <tr>\n",
       "      <th>225</th>\n",
       "      <td>20200404</td>\n",
       "      <td>AL</td>\n",
       "      <td>1580.0</td>\n",
       "      <td>9273.0</td>\n",
       "      <td>NaN</td>\n",
       "      <td>NaN</td>\n",
       "      <td>212.0</td>\n",
       "      <td>NaN</td>\n",
       "      <td>NaN</td>\n",
       "      <td>NaN</td>\n",
       "      <td>...</td>\n",
       "      <td>212.0</td>\n",
       "      <td>10853</td>\n",
       "      <td>10853</td>\n",
       "      <td>10853</td>\n",
       "      <td>1</td>\n",
       "      <td>8.0</td>\n",
       "      <td>212.0</td>\n",
       "      <td>1086.0</td>\n",
       "      <td>148.0</td>\n",
       "      <td>1234.0</td>\n",
       "    </tr>\n",
       "    <tr>\n",
       "      <th>226</th>\n",
       "      <td>20200404</td>\n",
       "      <td>AR</td>\n",
       "      <td>743.0</td>\n",
       "      <td>9627.0</td>\n",
       "      <td>NaN</td>\n",
       "      <td>72.0</td>\n",
       "      <td>106.0</td>\n",
       "      <td>NaN</td>\n",
       "      <td>NaN</td>\n",
       "      <td>23.0</td>\n",
       "      <td>...</td>\n",
       "      <td>106.0</td>\n",
       "      <td>10370</td>\n",
       "      <td>10370</td>\n",
       "      <td>10370</td>\n",
       "      <td>5</td>\n",
       "      <td>2.0</td>\n",
       "      <td>1.0</td>\n",
       "      <td>632.0</td>\n",
       "      <td>39.0</td>\n",
       "      <td>671.0</td>\n",
       "    </tr>\n",
       "    <tr>\n",
       "      <th>227</th>\n",
       "      <td>20200404</td>\n",
       "      <td>AZ</td>\n",
       "      <td>2019.0</td>\n",
       "      <td>25141.0</td>\n",
       "      <td>NaN</td>\n",
       "      <td>NaN</td>\n",
       "      <td>NaN</td>\n",
       "      <td>NaN</td>\n",
       "      <td>NaN</td>\n",
       "      <td>NaN</td>\n",
       "      <td>...</td>\n",
       "      <td>NaN</td>\n",
       "      <td>27160</td>\n",
       "      <td>27160</td>\n",
       "      <td>27160</td>\n",
       "      <td>4</td>\n",
       "      <td>11.0</td>\n",
       "      <td>0.0</td>\n",
       "      <td>2237.0</td>\n",
       "      <td>250.0</td>\n",
       "      <td>2487.0</td>\n",
       "    </tr>\n",
       "    <tr>\n",
       "      <th>228</th>\n",
       "      <td>20200404</td>\n",
       "      <td>CA</td>\n",
       "      <td>12026.0</td>\n",
       "      <td>101674.0</td>\n",
       "      <td>13000.0</td>\n",
       "      <td>2300.0</td>\n",
       "      <td>NaN</td>\n",
       "      <td>1008.0</td>\n",
       "      <td>NaN</td>\n",
       "      <td>NaN</td>\n",
       "      <td>...</td>\n",
       "      <td>NaN</td>\n",
       "      <td>126700</td>\n",
       "      <td>113700</td>\n",
       "      <td>113700</td>\n",
       "      <td>6</td>\n",
       "      <td>39.0</td>\n",
       "      <td>0.0</td>\n",
       "      <td>77075.0</td>\n",
       "      <td>1325.0</td>\n",
       "      <td>78400.0</td>\n",
       "    </tr>\n",
       "  </tbody>\n",
       "</table>\n",
       "<p>5 rows × 25 columns</p>\n",
       "</div>"
      ],
      "text/plain": [
       "         date state  positive  negative  pending  hospitalizedCurrently  \\\n",
       "224  20200404    AK     171.0    5869.0      NaN                    NaN   \n",
       "225  20200404    AL    1580.0    9273.0      NaN                    NaN   \n",
       "226  20200404    AR     743.0    9627.0      NaN                   72.0   \n",
       "227  20200404    AZ    2019.0   25141.0      NaN                    NaN   \n",
       "228  20200404    CA   12026.0  101674.0  13000.0                 2300.0   \n",
       "\n",
       "     hospitalizedCumulative  inIcuCurrently  inIcuCumulative  \\\n",
       "224                    16.0             NaN              NaN   \n",
       "225                   212.0             NaN              NaN   \n",
       "226                   106.0             NaN              NaN   \n",
       "227                     NaN             NaN              NaN   \n",
       "228                     NaN          1008.0              NaN   \n",
       "\n",
       "     onVentilatorCurrently  ...  hospitalized   total totalTestResults  \\\n",
       "224                    NaN  ...          16.0    6040             6040   \n",
       "225                    NaN  ...         212.0   10853            10853   \n",
       "226                   23.0  ...         106.0   10370            10370   \n",
       "227                    NaN  ...           NaN   27160            27160   \n",
       "228                    NaN  ...           NaN  126700           113700   \n",
       "\n",
       "     posNeg  fips  deathIncrease  hospitalizedIncrease  negativeIncrease  \\\n",
       "224    6040     2            2.0                   1.0              10.0   \n",
       "225   10853     1            8.0                 212.0            1086.0   \n",
       "226   10370     5            2.0                   1.0             632.0   \n",
       "227   27160     4           11.0                   0.0            2237.0   \n",
       "228  113700     6           39.0                   0.0           77075.0   \n",
       "\n",
       "     positiveIncrease  totalTestResultsIncrease  \n",
       "224              14.0                      24.0  \n",
       "225             148.0                    1234.0  \n",
       "226              39.0                     671.0  \n",
       "227             250.0                    2487.0  \n",
       "228            1325.0                   78400.0  \n",
       "\n",
       "[5 rows x 25 columns]"
      ]
     },
     "execution_count": 204,
     "metadata": {},
     "output_type": "execute_result"
    }
   ],
   "source": [
    "mydf = df[df['date']== 20200404]\n",
    "mydf.head(5)"
   ]
  },
  {
   "cell_type": "code",
   "execution_count": 208,
   "metadata": {},
   "outputs": [
    {
     "data": {
      "image/png": "[encoded data removed]",
      "text/plain": [
       "<Figure size 1152x1152 with 1 Axes>"
      ]
     },
     "metadata": {
      "needs_background": "light"
     },
     "output_type": "display_data"
    }
   ],
   "source": [
    "mydf.plot.bar(figsize = (16,16), x=\"state\", y=[\"positive\", \"negative\", 'totalTestResults'])\n",
    "plt.show()"
   ]
  },
  {
   "cell_type": "code",
   "execution_count": 105,
   "metadata": {},
   "outputs": [],
   "source": [
    "#I want to see number of cases and tests for population of that state"
   ]
  },
  {
   "cell_type": "code",
   "execution_count": 175,
   "metadata": {},
   "outputs": [
    {
     "data": {
      "text/html": [
       "<div>\n",
       "<style scoped>\n",
       "    .dataframe tbody tr th:only-of-type {\n",
       "        vertical-align: middle;\n",
       "    }\n",
       "\n",
       "    .dataframe tbody tr th {\n",
       "        vertical-align: top;\n",
       "    }\n",
       "\n",
       "    .dataframe thead th {\n",
       "        text-align: right;\n",
       "    }\n",
       "</style>\n",
       "<table border=\"1\" class=\"dataframe\">\n",
       "  <thead>\n",
       "    <tr style=\"text-align: right;\">\n",
       "      <th></th>\n",
       "      <th>Geographic Area</th>\n",
       "      <th>Census</th>\n",
       "      <th>Estimates Base</th>\n",
       "      <th>2010</th>\n",
       "      <th>2011</th>\n",
       "      <th>2012</th>\n",
       "      <th>2013</th>\n",
       "      <th>2014</th>\n",
       "      <th>2015</th>\n",
       "      <th>2016</th>\n",
       "      <th>Census.1</th>\n",
       "      <th>2019PopEstimate</th>\n",
       "    </tr>\n",
       "  </thead>\n",
       "  <tbody>\n",
       "    <tr>\n",
       "      <th>0</th>\n",
       "      <td>AK</td>\n",
       "      <td>710231</td>\n",
       "      <td>710249</td>\n",
       "      <td>713910</td>\n",
       "      <td>722128</td>\n",
       "      <td>730443</td>\n",
       "      <td>737068</td>\n",
       "      <td>736283</td>\n",
       "      <td>737498</td>\n",
       "      <td>741456</td>\n",
       "      <td>7.487795e+05</td>\n",
       "      <td>731545</td>\n",
       "    </tr>\n",
       "    <tr>\n",
       "      <th>1</th>\n",
       "      <td>AL</td>\n",
       "      <td>4779736</td>\n",
       "      <td>4780125</td>\n",
       "      <td>4785437</td>\n",
       "      <td>4799069</td>\n",
       "      <td>4815588</td>\n",
       "      <td>4830081</td>\n",
       "      <td>4841799</td>\n",
       "      <td>4852347</td>\n",
       "      <td>4863525</td>\n",
       "      <td>4.874375e+06</td>\n",
       "      <td>4903185</td>\n",
       "    </tr>\n",
       "    <tr>\n",
       "      <th>2</th>\n",
       "      <td>AR</td>\n",
       "      <td>2915918</td>\n",
       "      <td>2916031</td>\n",
       "      <td>2921964</td>\n",
       "      <td>2940667</td>\n",
       "      <td>2952164</td>\n",
       "      <td>2959400</td>\n",
       "      <td>2967392</td>\n",
       "      <td>2978048</td>\n",
       "      <td>2989918</td>\n",
       "      <td>2.998359e+06</td>\n",
       "      <td>3017804</td>\n",
       "    </tr>\n",
       "    <tr>\n",
       "      <th>3</th>\n",
       "      <td>AZ</td>\n",
       "      <td>6392017</td>\n",
       "      <td>6392288</td>\n",
       "      <td>6407172</td>\n",
       "      <td>6472643</td>\n",
       "      <td>6554978</td>\n",
       "      <td>6632764</td>\n",
       "      <td>6730413</td>\n",
       "      <td>6829676</td>\n",
       "      <td>6941072</td>\n",
       "      <td>6.954363e+06</td>\n",
       "      <td>7278717</td>\n",
       "    </tr>\n",
       "    <tr>\n",
       "      <th>4</th>\n",
       "      <td>CA</td>\n",
       "      <td>37253956</td>\n",
       "      <td>37254519</td>\n",
       "      <td>37319502</td>\n",
       "      <td>37638369</td>\n",
       "      <td>37948800</td>\n",
       "      <td>38260787</td>\n",
       "      <td>38596972</td>\n",
       "      <td>38918045</td>\n",
       "      <td>39167117</td>\n",
       "      <td>3.935817e+07</td>\n",
       "      <td>39512223</td>\n",
       "    </tr>\n",
       "  </tbody>\n",
       "</table>\n",
       "</div>"
      ],
      "text/plain": [
       "  Geographic Area    Census  Estimates Base      2010      2011      2012  \\\n",
       "0              AK    710231          710249    713910    722128    730443   \n",
       "1              AL   4779736         4780125   4785437   4799069   4815588   \n",
       "2              AR   2915918         2916031   2921964   2940667   2952164   \n",
       "3              AZ   6392017         6392288   6407172   6472643   6554978   \n",
       "4              CA  37253956        37254519  37319502  37638369  37948800   \n",
       "\n",
       "       2013      2014      2015      2016      Census.1  2019PopEstimate  \n",
       "0    737068    736283    737498    741456  7.487795e+05           731545  \n",
       "1   4830081   4841799   4852347   4863525  4.874375e+06          4903185  \n",
       "2   2959400   2967392   2978048   2989918  2.998359e+06          3017804  \n",
       "3   6632764   6730413   6829676   6941072  6.954363e+06          7278717  \n",
       "4  38260787  38596972  38918045  39167117  3.935817e+07         39512223  "
      ]
     },
     "execution_count": 175,
     "metadata": {},
     "output_type": "execute_result"
    }
   ],
   "source": [
    "df2 = pd.read_excel('CleanCensus.xlsx')\n",
    "df2.head()"
   ]
  },
  {
   "cell_type": "code",
   "execution_count": 176,
   "metadata": {},
   "outputs": [
    {
     "data": {
      "text/html": [
       "<div>\n",
       "<style scoped>\n",
       "    .dataframe tbody tr th:only-of-type {\n",
       "        vertical-align: middle;\n",
       "    }\n",
       "\n",
       "    .dataframe tbody tr th {\n",
       "        vertical-align: top;\n",
       "    }\n",
       "\n",
       "    .dataframe thead th {\n",
       "        text-align: right;\n",
       "    }\n",
       "</style>\n",
       "<table border=\"1\" class=\"dataframe\">\n",
       "  <thead>\n",
       "    <tr style=\"text-align: right;\">\n",
       "      <th></th>\n",
       "      <th>state</th>\n",
       "      <th>Population</th>\n",
       "      <th>totalTests</th>\n",
       "      <th>positive</th>\n",
       "      <th>negative</th>\n",
       "      <th>testsPerPop%</th>\n",
       "      <th>positivePerPop%</th>\n",
       "    </tr>\n",
       "  </thead>\n",
       "  <tbody>\n",
       "    <tr>\n",
       "      <th>0</th>\n",
       "      <td>AK</td>\n",
       "      <td>731545</td>\n",
       "      <td>7068</td>\n",
       "      <td>226</td>\n",
       "      <td>6842</td>\n",
       "      <td>0.966174</td>\n",
       "      <td>0.030894</td>\n",
       "    </tr>\n",
       "    <tr>\n",
       "      <th>1</th>\n",
       "      <td>AL</td>\n",
       "      <td>4903185</td>\n",
       "      <td>20605</td>\n",
       "      <td>2547</td>\n",
       "      <td>18058</td>\n",
       "      <td>0.420237</td>\n",
       "      <td>0.051946</td>\n",
       "    </tr>\n",
       "    <tr>\n",
       "      <th>2</th>\n",
       "      <td>AR</td>\n",
       "      <td>3017804</td>\n",
       "      <td>14530</td>\n",
       "      <td>1000</td>\n",
       "      <td>13530</td>\n",
       "      <td>0.481476</td>\n",
       "      <td>0.033137</td>\n",
       "    </tr>\n",
       "    <tr>\n",
       "      <th>3</th>\n",
       "      <td>AZ</td>\n",
       "      <td>7278717</td>\n",
       "      <td>34564</td>\n",
       "      <td>2726</td>\n",
       "      <td>31838</td>\n",
       "      <td>0.474864</td>\n",
       "      <td>0.037452</td>\n",
       "    </tr>\n",
       "    <tr>\n",
       "      <th>4</th>\n",
       "      <td>CA</td>\n",
       "      <td>39512223</td>\n",
       "      <td>154733</td>\n",
       "      <td>16957</td>\n",
       "      <td>137776</td>\n",
       "      <td>0.391608</td>\n",
       "      <td>0.042916</td>\n",
       "    </tr>\n",
       "  </tbody>\n",
       "</table>\n",
       "</div>"
      ],
      "text/plain": [
       "  state  Population  totalTests  positive  negative  testsPerPop%  \\\n",
       "0    AK      731545        7068       226      6842      0.966174   \n",
       "1    AL     4903185       20605      2547     18058      0.420237   \n",
       "2    AR     3017804       14530      1000     13530      0.481476   \n",
       "3    AZ     7278717       34564      2726     31838      0.474864   \n",
       "4    CA    39512223      154733     16957    137776      0.391608   \n",
       "\n",
       "   positivePerPop%  \n",
       "0         0.030894  \n",
       "1         0.051946  \n",
       "2         0.033137  \n",
       "3         0.037452  \n",
       "4         0.042916  "
      ]
     },
     "execution_count": 176,
     "metadata": {},
     "output_type": "execute_result"
    }
   ],
   "source": [
    "mydf2 = pd.DataFrame()\n",
    "mydf2['state'] = df2['Geographic Area']\n",
    "mydf2['Population'] = df2['2019PopEstimate']\n",
    "mydf2['totalTests'] = df1['totalTestResults']\n",
    "mydf2['positive'] = df1['positive']\n",
    "mydf2['negative'] = df1['negative']\n",
    "mydf2['testsPerPop%'] = mydf2['totalTests'].divide(mydf2['Population'])\n",
    "mydf2['testsPerPop%'] *= 100\n",
    "mydf2['positivePerPop%'] = mydf2['positive'].divide(mydf2['Population'])\n",
    "mydf2['positivePerPop%'] *= 100\n",
    "mydf2.head()"
   ]
  },
  {
   "cell_type": "code",
   "execution_count": 174,
   "metadata": {},
   "outputs": [
    {
     "data": {
      "image/png": "[encoded data removed]",
      "text/plain": [
       "<Figure size 1152x1152 with 1 Axes>"
      ]
     },
     "metadata": {
      "needs_background": "light"
     },
     "output_type": "display_data"
    }
   ],
   "source": [
    "ax = mydf2.plot(figsize = (16,16), x=\"state\", y=[\"testsPerPop%\", \"positivePerPop%\"], kind=\"bar\")\n",
    "ax.set_xlabel('State')\n",
    "ax.set_ylabel('Percentage Of Population')\n",
    "ax.set_title(\"\")\n",
    "plt.show()"
   ]
  },
  {
   "cell_type": "code",
   "execution_count": 178,
   "metadata": {},
   "outputs": [
    {
     "data": {
      "application/vnd.plotly.v1+json": {
       "config": {
        "plotlyServerURL": "https://plot.ly"
       },
       "data": [
        {
         "mode": "markers",
         "text": [
          "AK",
          "AL",
          "AR",
          "AZ",
          "CA",
          "CO",
          "CT",
          "DC",
          "DE",
          "FL",
          "GA",
          "HI",
          "IA",
          "ID",
          "IL",
          "IN",
          "KS",
          "KY",
          "LA",
          "MA",
          "MD",
          "ME",
          "MI",
          "MN",
          "MO",
          "MS",
          "MT",
          "NC",
          "ND",
          "NE",
          "NH",
          "NJ",
          "NM",
          "NV",
          "NY",
          "OH",
          "OK",
          "OR",
          "PA",
          "RI",
          "SC",
          "SD",
          "TN",
          "TX",
          "UT",
          "VA",
          "VT",
          "WA",
          "WI",
          "WV",
          "WY"
         ],
         "type": "scatter",
         "x": [
          0.9661743296721323,
          0.4202370499991332,
          0.48147593415609496,
          0.47486390802115264,
          0.3916079335753901,
          0.5070383500823792,
          0.8891289817621976,
          1.173646721426456,
          0.9693313780341026,
          0.6685061838684402,
          0.3681684340917754,
          1.1124593183564615,
          0.44265261943475104,
          0.7012056080780498,
          0.5923852617551968,
          0.45852637889527953,
          0.349533212005297,
          0.48797215015512546,
          1.7511208283266584,
          1.2696548699362191,
          0.6361898082597822,
          0.49285380579849014,
          0.5177604926154444,
          0.5453015374052775,
          0.6237466248076555,
          0.6933456624651521,
          0.692192391684709,
          0.4098651383798986,
          1.1222184021772508,
          0.41614798946240916,
          0.7024286778587508,
          1.130531997176372,
          1.1353810921157614,
          0.6676934544873702,
          1.87704965687259,
          0.4563311118905647,
          0.5084444642126515,
          0.5823976222320169,
          0.7697085195120852,
          1.1452186742762853,
          0.47844957012566636,
          0.7627797829446148,
          0.829060732674259,
          0.33197128930140113,
          1.1265275465243152,
          0.38692433348224053,
          1.3110808043090503,
          1.2145672959554388,
          0.5645577090268434,
          0.7175192659977112,
          0.7170514842965725
         ],
         "y": [
          0.03089351987915986,
          0.05194582704915275,
          0.033136678193812455,
          0.037451655284853086,
          0.04291583391802582,
          0.09819863247768261,
          0.24629153277141505,
          0.2040385462820351,
          0.11460682465155828,
          0.07308963695756215,
          0.09610618320471925,
          0.030723116213895042,
          0.03629079544986324,
          0.0689398538945142,
          0.11898842321083924,
          0.08827698564173268,
          0.035904128425566215,
          0.030127540668262877,
          0.3663315690047784,
          0.24359800786448696,
          0.09145373225178971,
          0.03994905565491158,
          0.20372775939417176,
          0.020462328038425202,
          0.05420837523470744,
          0.06730173791701961,
          0.031063513657653884,
          0.032665642266023046,
          0.03293695263639967,
          0.02703669546445217,
          0.05795349158755059,
          0.5340687375523379,
          0.04125276786995983,
          0.07525592859582438,
          0.7675509897648045,
          0.04404102967722066,
          0.03851430804016507,
          0.029375942596705295,
          0.1268474765913328,
          0.1368749651912804,
          0.04956577506538526,
          0.04442389666526877,
          0.06387302476112046,
          0.03225630564561911,
          0.05758029269254308,
          0.04735505831572749,
          0.10064279979294508,
          0.11946326757316222,
          0.04733415612783245,
          0.026950914182820942,
          0.03974020274414739
         ]
        }
       ],
       "layout": {
        "template": {
         "data": {
          "bar": [
           {
            "error_x": {
             "color": "#2a3f5f"
            },
            "error_y": {
             "color": "#2a3f5f"
            },
            "marker": {
             "line": {
              "color": "#E5ECF6",
              "width": 0.5
             }
            },
            "type": "bar"
           }
          ],
          "barpolar": [
           {
            "marker": {
             "line": {
              "color": "#E5ECF6",
              "width": 0.5
             }
            },
            "type": "barpolar"
           }
          ],
          "carpet": [
           {
            "aaxis": {
             "endlinecolor": "#2a3f5f",
             "gridcolor": "white",
             "linecolor": "white",
             "minorgridcolor": "white",
             "startlinecolor": "#2a3f5f"
            },
            "baxis": {
             "endlinecolor": "#2a3f5f",
             "gridcolor": "white",
             "linecolor": "white",
             "minorgridcolor": "white",
             "startlinecolor": "#2a3f5f"
            },
            "type": "carpet"
           }
          ],
          "choropleth": [
           {
            "colorbar": {
             "outlinewidth": 0,
             "ticks": ""
            },
            "type": "choropleth"
           }
          ],
          "contour": [
           {
            "colorbar": {
             "outlinewidth": 0,
             "ticks": ""
            },
            "colorscale": [
             [
              0,
              "#0d0887"
             ],
             [
              0.1111111111111111,
              "#46039f"
             ],
             [
              0.2222222222222222,
              "#7201a8"
             ],
             [
              0.3333333333333333,
              "#9c179e"
             ],
             [
              0.4444444444444444,
              "#bd3786"
             ],
             [
              0.5555555555555556,
              "#d8576b"
             ],
             [
              0.6666666666666666,
              "#ed7953"
             ],
             [
              0.7777777777777778,
              "#fb9f3a"
             ],
             [
              0.8888888888888888,
              "#fdca26"
             ],
             [
              1,
              "#f0f921"
             ]
            ],
            "type": "contour"
           }
          ],
          "contourcarpet": [
           {
            "colorbar": {
             "outlinewidth": 0,
             "ticks": ""
            },
            "type": "contourcarpet"
           }
          ],
          "heatmap": [
           {
            "colorbar": {
             "outlinewidth": 0,
             "ticks": ""
            },
            "colorscale": [
             [
              0,
              "#0d0887"
             ],
             [
              0.1111111111111111,
              "#46039f"
             ],
             [
              0.2222222222222222,
              "#7201a8"
             ],
             [
              0.3333333333333333,
              "#9c179e"
             ],
             [
              0.4444444444444444,
              "#bd3786"
             ],
             [
              0.5555555555555556,
              "#d8576b"
             ],
             [
              0.6666666666666666,
              "#ed7953"
             ],
             [
              0.7777777777777778,
              "#fb9f3a"
             ],
             [
              0.8888888888888888,
              "#fdca26"
             ],
             [
              1,
              "#f0f921"
             ]
            ],
            "type": "heatmap"
           }
          ],
          "heatmapgl": [
           {
            "colorbar": {
             "outlinewidth": 0,
             "ticks": ""
            },
            "colorscale": [
             [
              0,
              "#0d0887"
             ],
             [
              0.1111111111111111,
              "#46039f"
             ],
             [
              0.2222222222222222,
              "#7201a8"
             ],
             [
              0.3333333333333333,
              "#9c179e"
             ],
             [
              0.4444444444444444,
              "#bd3786"
             ],
             [
              0.5555555555555556,
              "#d8576b"
             ],
             [
              0.6666666666666666,
              "#ed7953"
             ],
             [
              0.7777777777777778,
              "#fb9f3a"
             ],
             [
              0.8888888888888888,
              "#fdca26"
             ],
             [
              1,
              "#f0f921"
             ]
            ],
            "type": "heatmapgl"
           }
          ],
          "histogram": [
           {
            "marker": {
             "colorbar": {
              "outlinewidth": 0,
              "ticks": ""
             }
            },
            "type": "histogram"
           }
          ],
          "histogram2d": [
           {
            "colorbar": {
             "outlinewidth": 0,
             "ticks": ""
            },
            "colorscale": [
             [
              0,
              "#0d0887"
             ],
             [
              0.1111111111111111,
              "#46039f"
             ],
             [
              0.2222222222222222,
              "#7201a8"
             ],
             [
              0.3333333333333333,
              "#9c179e"
             ],
             [
              0.4444444444444444,
              "#bd3786"
             ],
             [
              0.5555555555555556,
              "#d8576b"
             ],
             [
              0.6666666666666666,
              "#ed7953"
             ],
             [
              0.7777777777777778,
              "#fb9f3a"
             ],
             [
              0.8888888888888888,
              "#fdca26"
             ],
             [
              1,
              "#f0f921"
             ]
            ],
            "type": "histogram2d"
           }
          ],
          "histogram2dcontour": [
           {
            "colorbar": {
             "outlinewidth": 0,
             "ticks": ""
            },
            "colorscale": [
             [
              0,
              "#0d0887"
             ],
             [
              0.1111111111111111,
              "#46039f"
             ],
             [
              0.2222222222222222,
              "#7201a8"
             ],
             [
              0.3333333333333333,
              "#9c179e"
             ],
             [
              0.4444444444444444,
              "#bd3786"
             ],
             [
              0.5555555555555556,
              "#d8576b"
             ],
             [
              0.6666666666666666,
              "#ed7953"
             ],
             [
              0.7777777777777778,
              "#fb9f3a"
             ],
             [
              0.8888888888888888,
              "#fdca26"
             ],
             [
              1,
              "#f0f921"
             ]
            ],
            "type": "histogram2dcontour"
           }
          ],
          "mesh3d": [
           {
            "colorbar": {
             "outlinewidth": 0,
             "ticks": ""
            },
            "type": "mesh3d"
           }
          ],
          "parcoords": [
           {
            "line": {
             "colorbar": {
              "outlinewidth": 0,
              "ticks": ""
             }
            },
            "type": "parcoords"
           }
          ],
          "pie": [
           {
            "automargin": true,
            "type": "pie"
           }
          ],
          "scatter": [
           {
            "marker": {
             "colorbar": {
              "outlinewidth": 0,
              "ticks": ""
             }
            },
            "type": "scatter"
           }
          ],
          "scatter3d": [
           {
            "line": {
             "colorbar": {
              "outlinewidth": 0,
              "ticks": ""
             }
            },
            "marker": {
             "colorbar": {
              "outlinewidth": 0,
              "ticks": ""
             }
            },
            "type": "scatter3d"
           }
          ],
          "scattercarpet": [
           {
            "marker": {
             "colorbar": {
              "outlinewidth": 0,
              "ticks": ""
             }
            },
            "type": "scattercarpet"
           }
          ],
          "scattergeo": [
           {
            "marker": {
             "colorbar": {
              "outlinewidth": 0,
              "ticks": ""
             }
            },
            "type": "scattergeo"
           }
          ],
          "scattergl": [
           {
            "marker": {
             "colorbar": {
              "outlinewidth": 0,
              "ticks": ""
             }
            },
            "type": "scattergl"
           }
          ],
          "scattermapbox": [
           {
            "marker": {
             "colorbar": {
              "outlinewidth": 0,
              "ticks": ""
             }
            },
            "type": "scattermapbox"
           }
          ],
          "scatterpolar": [
           {
            "marker": {
             "colorbar": {
              "outlinewidth": 0,
              "ticks": ""
             }
            },
            "type": "scatterpolar"
           }
          ],
          "scatterpolargl": [
           {
            "marker": {
             "colorbar": {
              "outlinewidth": 0,
              "ticks": ""
             }
            },
            "type": "scatterpolargl"
           }
          ],
          "scatterternary": [
           {
            "marker": {
             "colorbar": {
              "outlinewidth": 0,
              "ticks": ""
             }
            },
            "type": "scatterternary"
           }
          ],
          "surface": [
           {
            "colorbar": {
             "outlinewidth": 0,
             "ticks": ""
            },
            "colorscale": [
             [
              0,
              "#0d0887"
             ],
             [
              0.1111111111111111,
              "#46039f"
             ],
             [
              0.2222222222222222,
              "#7201a8"
             ],
             [
              0.3333333333333333,
              "#9c179e"
             ],
             [
              0.4444444444444444,
              "#bd3786"
             ],
             [
              0.5555555555555556,
              "#d8576b"
             ],
             [
              0.6666666666666666,
              "#ed7953"
             ],
             [
              0.7777777777777778,
              "#fb9f3a"
             ],
             [
              0.8888888888888888,
              "#fdca26"
             ],
             [
              1,
              "#f0f921"
             ]
            ],
            "type": "surface"
           }
          ],
          "table": [
           {
            "cells": {
             "fill": {
              "color": "#EBF0F8"
             },
             "line": {
              "color": "white"
             }
            },
            "header": {
             "fill": {
              "color": "#C8D4E3"
             },
             "line": {
              "color": "white"
             }
            },
            "type": "table"
           }
          ]
         },
         "layout": {
          "annotationdefaults": {
           "arrowcolor": "#2a3f5f",
           "arrowhead": 0,
           "arrowwidth": 1
          },
          "coloraxis": {
           "colorbar": {
            "outlinewidth": 0,
            "ticks": ""
           }
          },
          "colorscale": {
           "diverging": [
            [
             0,
             "#8e0152"
            ],
            [
             0.1,
             "#c51b7d"
            ],
            [
             0.2,
             "#de77ae"
            ],
            [
             0.3,
             "#f1b6da"
            ],
            [
             0.4,
             "#fde0ef"
            ],
            [
             0.5,
             "#f7f7f7"
            ],
            [
             0.6,
             "#e6f5d0"
            ],
            [
             0.7,
             "#b8e186"
            ],
            [
             0.8,
             "#7fbc41"
            ],
            [
             0.9,
             "#4d9221"
            ],
            [
             1,
             "#276419"
            ]
           ],
           "sequential": [
            [
             0,
             "#0d0887"
            ],
            [
             0.1111111111111111,
             "#46039f"
            ],
            [
             0.2222222222222222,
             "#7201a8"
            ],
            [
             0.3333333333333333,
             "#9c179e"
            ],
            [
             0.4444444444444444,
             "#bd3786"
            ],
            [
             0.5555555555555556,
             "#d8576b"
            ],
            [
             0.6666666666666666,
             "#ed7953"
            ],
            [
             0.7777777777777778,
             "#fb9f3a"
            ],
            [
             0.8888888888888888,
             "#fdca26"
            ],
            [
             1,
             "#f0f921"
            ]
           ],
           "sequentialminus": [
            [
             0,
             "#0d0887"
            ],
            [
             0.1111111111111111,
             "#46039f"
            ],
            [
             0.2222222222222222,
             "#7201a8"
            ],
            [
             0.3333333333333333,
             "#9c179e"
            ],
            [
             0.4444444444444444,
             "#bd3786"
            ],
            [
             0.5555555555555556,
             "#d8576b"
            ],
            [
             0.6666666666666666,
             "#ed7953"
            ],
            [
             0.7777777777777778,
             "#fb9f3a"
            ],
            [
             0.8888888888888888,
             "#fdca26"
            ],
            [
             1,
             "#f0f921"
            ]
           ]
          },
          "colorway": [
           "#636efa",
           "#EF553B",
           "#00cc96",
           "#ab63fa",
           "#FFA15A",
           "#19d3f3",
           "#FF6692",
           "#B6E880",
           "#FF97FF",
           "#FECB52"
          ],
          "font": {
           "color": "#2a3f5f"
          },
          "geo": {
           "bgcolor": "white",
           "lakecolor": "white",
           "landcolor": "#E5ECF6",
           "showlakes": true,
           "showland": true,
           "subunitcolor": "white"
          },
          "hoverlabel": {
           "align": "left"
          },
          "hovermode": "closest",
          "mapbox": {
           "style": "light"
          },
          "paper_bgcolor": "white",
          "plot_bgcolor": "#E5ECF6",
          "polar": {
           "angularaxis": {
            "gridcolor": "white",
            "linecolor": "white",
            "ticks": ""
           },
           "bgcolor": "#E5ECF6",
           "radialaxis": {
            "gridcolor": "white",
            "linecolor": "white",
            "ticks": ""
           }
          },
          "scene": {
           "xaxis": {
            "backgroundcolor": "#E5ECF6",
            "gridcolor": "white",
            "gridwidth": 2,
            "linecolor": "white",
            "showbackground": true,
            "ticks": "",
            "zerolinecolor": "white"
           },
           "yaxis": {
            "backgroundcolor": "#E5ECF6",
            "gridcolor": "white",
            "gridwidth": 2,
            "linecolor": "white",
            "showbackground": true,
            "ticks": "",
            "zerolinecolor": "white"
           },
           "zaxis": {
            "backgroundcolor": "#E5ECF6",
            "gridcolor": "white",
            "gridwidth": 2,
            "linecolor": "white",
            "showbackground": true,
            "ticks": "",
            "zerolinecolor": "white"
           }
          },
          "shapedefaults": {
           "line": {
            "color": "#2a3f5f"
           }
          },
          "ternary": {
           "aaxis": {
            "gridcolor": "white",
            "linecolor": "white",
            "ticks": ""
           },
           "baxis": {
            "gridcolor": "white",
            "linecolor": "white",
            "ticks": ""
           },
           "bgcolor": "#E5ECF6",
           "caxis": {
            "gridcolor": "white",
            "linecolor": "white",
            "ticks": ""
           }
          },
          "title": {
           "x": 0.05
          },
          "xaxis": {
           "automargin": true,
           "gridcolor": "white",
           "linecolor": "white",
           "ticks": "",
           "title": {
            "standoff": 15
           },
           "zerolinecolor": "white",
           "zerolinewidth": 2
          },
          "yaxis": {
           "automargin": true,
           "gridcolor": "white",
           "linecolor": "white",
           "ticks": "",
           "title": {
            "standoff": 15
           },
           "zerolinecolor": "white",
           "zerolinewidth": 2
          }
         }
        },
        "title": {
         "text": "Positive cases versus tests per population"
        },
        "xaxis": {
         "title": {
          "text": "tests per population [%]"
         }
        },
        "yaxis": {
         "title": {
          "text": "positive cases per population [%]"
         }
        }
       }
      },
      "text/html": [
       "<div>\n",
       "        \n",
       "        \n",
       "            <div id=\"9421c15f-c66a-4644-940b-b204dec48dbb\" class=\"plotly-graph-div\" style=\"height:525px; width:100%;\"></div>\n",
       "            <script type=\"text/javascript\">\n",
       "                require([\"plotly\"], function(Plotly) {\n",
       "                    window.PLOTLYENV=window.PLOTLYENV || {};\n",
       "                    \n",
       "                if (document.getElementById(\"9421c15f-c66a-4644-940b-b204dec48dbb\")) {\n",
       "                    Plotly.newPlot(\n",
       "                        '9421c15f-c66a-4644-940b-b204dec48dbb',\n",
       "                        [{\"mode\": \"markers\", \"text\": [\"AK\", \"AL\", \"AR\", \"AZ\", \"CA\", \"CO\", \"CT\", \"DC\", \"DE\", \"FL\", \"GA\", \"HI\", \"IA\", \"ID\", \"IL\", \"IN\", \"KS\", \"KY\", \"LA\", \"MA\", \"MD\", \"ME\", \"MI\", \"MN\", \"MO\", \"MS\", \"MT\", \"NC\", \"ND\", \"NE\", \"NH\", \"NJ\", \"NM\", \"NV\", \"NY\", \"OH\", \"OK\", \"OR\", \"PA\", \"RI\", \"SC\", \"SD\", \"TN\", \"TX\", \"UT\", \"VA\", \"VT\", \"WA\", \"WI\", \"WV\", \"WY\"], \"type\": \"scatter\", \"x\": [0.9661743296721323, 0.4202370499991332, 0.48147593415609496, 0.47486390802115264, 0.3916079335753901, 0.5070383500823792, 0.8891289817621976, 1.173646721426456, 0.9693313780341026, 0.6685061838684402, 0.3681684340917754, 1.1124593183564615, 0.44265261943475104, 0.7012056080780498, 0.5923852617551968, 0.45852637889527953, 0.349533212005297, 0.48797215015512546, 1.7511208283266584, 1.2696548699362191, 0.6361898082597822, 0.49285380579849014, 0.5177604926154444, 0.5453015374052775, 0.6237466248076555, 0.6933456624651521, 0.692192391684709, 0.4098651383798986, 1.1222184021772508, 0.41614798946240916, 0.7024286778587508, 1.130531997176372, 1.1353810921157614, 0.6676934544873702, 1.87704965687259, 0.4563311118905647, 0.5084444642126515, 0.5823976222320169, 0.7697085195120852, 1.1452186742762853, 0.47844957012566636, 0.7627797829446148, 0.829060732674259, 0.33197128930140113, 1.1265275465243152, 0.38692433348224053, 1.3110808043090503, 1.2145672959554388, 0.5645577090268434, 0.7175192659977112, 0.7170514842965725], \"y\": [0.03089351987915986, 0.05194582704915275, 0.033136678193812455, 0.037451655284853086, 0.04291583391802582, 0.09819863247768261, 0.24629153277141505, 0.2040385462820351, 0.11460682465155828, 0.07308963695756215, 0.09610618320471925, 0.030723116213895042, 0.03629079544986324, 0.0689398538945142, 0.11898842321083924, 0.08827698564173268, 0.035904128425566215, 0.030127540668262877, 0.3663315690047784, 0.24359800786448696, 0.09145373225178971, 0.03994905565491158, 0.20372775939417176, 0.020462328038425202, 0.05420837523470744, 0.06730173791701961, 0.031063513657653884, 0.032665642266023046, 0.03293695263639967, 0.02703669546445217, 0.05795349158755059, 0.5340687375523379, 0.04125276786995983, 0.07525592859582438, 0.7675509897648045, 0.04404102967722066, 0.03851430804016507, 0.029375942596705295, 0.1268474765913328, 0.1368749651912804, 0.04956577506538526, 0.04442389666526877, 0.06387302476112046, 0.03225630564561911, 0.05758029269254308, 0.04735505831572749, 0.10064279979294508, 0.11946326757316222, 0.04733415612783245, 0.026950914182820942, 0.03974020274414739]}],\n",
       "                        {\"template\": {\"data\": {\"bar\": [{\"error_x\": {\"color\": \"#2a3f5f\"}, \"error_y\": {\"color\": \"#2a3f5f\"}, \"marker\": {\"line\": {\"color\": \"#E5ECF6\", \"width\": 0.5}}, \"type\": \"bar\"}], \"barpolar\": [{\"marker\": {\"line\": {\"color\": \"#E5ECF6\", \"width\": 0.5}}, \"type\": \"barpolar\"}], \"carpet\": [{\"aaxis\": {\"endlinecolor\": \"#2a3f5f\", \"gridcolor\": \"white\", \"linecolor\": \"white\", \"minorgridcolor\": \"white\", \"startlinecolor\": \"#2a3f5f\"}, \"baxis\": {\"endlinecolor\": \"#2a3f5f\", \"gridcolor\": \"white\", \"linecolor\": \"white\", \"minorgridcolor\": \"white\", \"startlinecolor\": \"#2a3f5f\"}, \"type\": \"carpet\"}], \"choropleth\": [{\"colorbar\": {\"outlinewidth\": 0, \"ticks\": \"\"}, \"type\": \"choropleth\"}], \"contour\": [{\"colorbar\": {\"outlinewidth\": 0, \"ticks\": \"\"}, \"colorscale\": [[0.0, \"#0d0887\"], [0.1111111111111111, \"#46039f\"], [0.2222222222222222, \"#7201a8\"], [0.3333333333333333, \"#9c179e\"], [0.4444444444444444, \"#bd3786\"], [0.5555555555555556, \"#d8576b\"], [0.6666666666666666, \"#ed7953\"], [0.7777777777777778, \"#fb9f3a\"], [0.8888888888888888, \"#fdca26\"], [1.0, \"#f0f921\"]], \"type\": \"contour\"}], \"contourcarpet\": [{\"colorbar\": {\"outlinewidth\": 0, \"ticks\": \"\"}, \"type\": \"contourcarpet\"}], \"heatmap\": [{\"colorbar\": {\"outlinewidth\": 0, \"ticks\": \"\"}, \"colorscale\": [[0.0, \"#0d0887\"], [0.1111111111111111, \"#46039f\"], [0.2222222222222222, \"#7201a8\"], [0.3333333333333333, \"#9c179e\"], [0.4444444444444444, \"#bd3786\"], [0.5555555555555556, \"#d8576b\"], [0.6666666666666666, \"#ed7953\"], [0.7777777777777778, \"#fb9f3a\"], [0.8888888888888888, \"#fdca26\"], [1.0, \"#f0f921\"]], \"type\": \"heatmap\"}], \"heatmapgl\": [{\"colorbar\": {\"outlinewidth\": 0, \"ticks\": \"\"}, \"colorscale\": [[0.0, \"#0d0887\"], [0.1111111111111111, \"#46039f\"], [0.2222222222222222, \"#7201a8\"], [0.3333333333333333, \"#9c179e\"], [0.4444444444444444, \"#bd3786\"], [0.5555555555555556, \"#d8576b\"], [0.6666666666666666, \"#ed7953\"], [0.7777777777777778, \"#fb9f3a\"], [0.8888888888888888, \"#fdca26\"], [1.0, \"#f0f921\"]], \"type\": \"heatmapgl\"}], \"histogram\": [{\"marker\": {\"colorbar\": {\"outlinewidth\": 0, \"ticks\": \"\"}}, \"type\": \"histogram\"}], \"histogram2d\": [{\"colorbar\": {\"outlinewidth\": 0, \"ticks\": \"\"}, \"colorscale\": [[0.0, \"#0d0887\"], [0.1111111111111111, \"#46039f\"], [0.2222222222222222, \"#7201a8\"], [0.3333333333333333, \"#9c179e\"], [0.4444444444444444, \"#bd3786\"], [0.5555555555555556, \"#d8576b\"], [0.6666666666666666, \"#ed7953\"], [0.7777777777777778, \"#fb9f3a\"], [0.8888888888888888, \"#fdca26\"], [1.0, \"#f0f921\"]], \"type\": \"histogram2d\"}], \"histogram2dcontour\": [{\"colorbar\": {\"outlinewidth\": 0, \"ticks\": \"\"}, \"colorscale\": [[0.0, \"#0d0887\"], [0.1111111111111111, \"#46039f\"], [0.2222222222222222, \"#7201a8\"], [0.3333333333333333, \"#9c179e\"], [0.4444444444444444, \"#bd3786\"], [0.5555555555555556, \"#d8576b\"], [0.6666666666666666, \"#ed7953\"], [0.7777777777777778, \"#fb9f3a\"], [0.8888888888888888, \"#fdca26\"], [1.0, \"#f0f921\"]], \"type\": \"histogram2dcontour\"}], \"mesh3d\": [{\"colorbar\": {\"outlinewidth\": 0, \"ticks\": \"\"}, \"type\": \"mesh3d\"}], \"parcoords\": [{\"line\": {\"colorbar\": {\"outlinewidth\": 0, \"ticks\": \"\"}}, \"type\": \"parcoords\"}], \"pie\": [{\"automargin\": true, \"type\": \"pie\"}], \"scatter\": [{\"marker\": {\"colorbar\": {\"outlinewidth\": 0, \"ticks\": \"\"}}, \"type\": \"scatter\"}], \"scatter3d\": [{\"line\": {\"colorbar\": {\"outlinewidth\": 0, \"ticks\": \"\"}}, \"marker\": {\"colorbar\": {\"outlinewidth\": 0, \"ticks\": \"\"}}, \"type\": \"scatter3d\"}], \"scattercarpet\": [{\"marker\": {\"colorbar\": {\"outlinewidth\": 0, \"ticks\": \"\"}}, \"type\": \"scattercarpet\"}], \"scattergeo\": [{\"marker\": {\"colorbar\": {\"outlinewidth\": 0, \"ticks\": \"\"}}, \"type\": \"scattergeo\"}], \"scattergl\": [{\"marker\": {\"colorbar\": {\"outlinewidth\": 0, \"ticks\": \"\"}}, \"type\": \"scattergl\"}], \"scattermapbox\": [{\"marker\": {\"colorbar\": {\"outlinewidth\": 0, \"ticks\": \"\"}}, \"type\": \"scattermapbox\"}], \"scatterpolar\": [{\"marker\": {\"colorbar\": {\"outlinewidth\": 0, \"ticks\": \"\"}}, \"type\": \"scatterpolar\"}], \"scatterpolargl\": [{\"marker\": {\"colorbar\": {\"outlinewidth\": 0, \"ticks\": \"\"}}, \"type\": \"scatterpolargl\"}], \"scatterternary\": [{\"marker\": {\"colorbar\": {\"outlinewidth\": 0, \"ticks\": \"\"}}, \"type\": \"scatterternary\"}], \"surface\": [{\"colorbar\": {\"outlinewidth\": 0, \"ticks\": \"\"}, \"colorscale\": [[0.0, \"#0d0887\"], [0.1111111111111111, \"#46039f\"], [0.2222222222222222, \"#7201a8\"], [0.3333333333333333, \"#9c179e\"], [0.4444444444444444, \"#bd3786\"], [0.5555555555555556, \"#d8576b\"], [0.6666666666666666, \"#ed7953\"], [0.7777777777777778, \"#fb9f3a\"], [0.8888888888888888, \"#fdca26\"], [1.0, \"#f0f921\"]], \"type\": \"surface\"}], \"table\": [{\"cells\": {\"fill\": {\"color\": \"#EBF0F8\"}, \"line\": {\"color\": \"white\"}}, \"header\": {\"fill\": {\"color\": \"#C8D4E3\"}, \"line\": {\"color\": \"white\"}}, \"type\": \"table\"}]}, \"layout\": {\"annotationdefaults\": {\"arrowcolor\": \"#2a3f5f\", \"arrowhead\": 0, \"arrowwidth\": 1}, \"coloraxis\": {\"colorbar\": {\"outlinewidth\": 0, \"ticks\": \"\"}}, \"colorscale\": {\"diverging\": [[0, \"#8e0152\"], [0.1, \"#c51b7d\"], [0.2, \"#de77ae\"], [0.3, \"#f1b6da\"], [0.4, \"#fde0ef\"], [0.5, \"#f7f7f7\"], [0.6, \"#e6f5d0\"], [0.7, \"#b8e186\"], [0.8, \"#7fbc41\"], [0.9, \"#4d9221\"], [1, \"#276419\"]], \"sequential\": [[0.0, \"#0d0887\"], [0.1111111111111111, \"#46039f\"], [0.2222222222222222, \"#7201a8\"], [0.3333333333333333, \"#9c179e\"], [0.4444444444444444, \"#bd3786\"], [0.5555555555555556, \"#d8576b\"], [0.6666666666666666, \"#ed7953\"], [0.7777777777777778, \"#fb9f3a\"], [0.8888888888888888, \"#fdca26\"], [1.0, \"#f0f921\"]], \"sequentialminus\": [[0.0, \"#0d0887\"], [0.1111111111111111, \"#46039f\"], [0.2222222222222222, \"#7201a8\"], [0.3333333333333333, \"#9c179e\"], [0.4444444444444444, \"#bd3786\"], [0.5555555555555556, \"#d8576b\"], [0.6666666666666666, \"#ed7953\"], [0.7777777777777778, \"#fb9f3a\"], [0.8888888888888888, \"#fdca26\"], [1.0, \"#f0f921\"]]}, \"colorway\": [\"#636efa\", \"#EF553B\", \"#00cc96\", \"#ab63fa\", \"#FFA15A\", \"#19d3f3\", \"#FF6692\", \"#B6E880\", \"#FF97FF\", \"#FECB52\"], \"font\": {\"color\": \"#2a3f5f\"}, \"geo\": {\"bgcolor\": \"white\", \"lakecolor\": \"white\", \"landcolor\": \"#E5ECF6\", \"showlakes\": true, \"showland\": true, \"subunitcolor\": \"white\"}, \"hoverlabel\": {\"align\": \"left\"}, \"hovermode\": \"closest\", \"mapbox\": {\"style\": \"light\"}, \"paper_bgcolor\": \"white\", \"plot_bgcolor\": \"#E5ECF6\", \"polar\": {\"angularaxis\": {\"gridcolor\": \"white\", \"linecolor\": \"white\", \"ticks\": \"\"}, \"bgcolor\": \"#E5ECF6\", \"radialaxis\": {\"gridcolor\": \"white\", \"linecolor\": \"white\", \"ticks\": \"\"}}, \"scene\": {\"xaxis\": {\"backgroundcolor\": \"#E5ECF6\", \"gridcolor\": \"white\", \"gridwidth\": 2, \"linecolor\": \"white\", \"showbackground\": true, \"ticks\": \"\", \"zerolinecolor\": \"white\"}, \"yaxis\": {\"backgroundcolor\": \"#E5ECF6\", \"gridcolor\": \"white\", \"gridwidth\": 2, \"linecolor\": \"white\", \"showbackground\": true, \"ticks\": \"\", \"zerolinecolor\": \"white\"}, \"zaxis\": {\"backgroundcolor\": \"#E5ECF6\", \"gridcolor\": \"white\", \"gridwidth\": 2, \"linecolor\": \"white\", \"showbackground\": true, \"ticks\": \"\", \"zerolinecolor\": \"white\"}}, \"shapedefaults\": {\"line\": {\"color\": \"#2a3f5f\"}}, \"ternary\": {\"aaxis\": {\"gridcolor\": \"white\", \"linecolor\": \"white\", \"ticks\": \"\"}, \"baxis\": {\"gridcolor\": \"white\", \"linecolor\": \"white\", \"ticks\": \"\"}, \"bgcolor\": \"#E5ECF6\", \"caxis\": {\"gridcolor\": \"white\", \"linecolor\": \"white\", \"ticks\": \"\"}}, \"title\": {\"x\": 0.05}, \"xaxis\": {\"automargin\": true, \"gridcolor\": \"white\", \"linecolor\": \"white\", \"ticks\": \"\", \"title\": {\"standoff\": 15}, \"zerolinecolor\": \"white\", \"zerolinewidth\": 2}, \"yaxis\": {\"automargin\": true, \"gridcolor\": \"white\", \"linecolor\": \"white\", \"ticks\": \"\", \"title\": {\"standoff\": 15}, \"zerolinecolor\": \"white\", \"zerolinewidth\": 2}}}, \"title\": {\"text\": \"Positive cases versus tests per population\"}, \"xaxis\": {\"title\": {\"text\": \"tests per population [%]\"}}, \"yaxis\": {\"title\": {\"text\": \"positive cases per population [%]\"}}},\n",
       "                        {\"responsive\": true}\n",
       "                    ).then(function(){\n",
       "                            \n",
       "var gd = document.getElementById('9421c15f-c66a-4644-940b-b204dec48dbb');\n",
       "var x = new MutationObserver(function (mutations, observer) {{\n",
       "        var display = window.getComputedStyle(gd).display;\n",
       "        if (!display || display === 'none') {{\n",
       "            console.log([gd, 'removed!']);\n",
       "            Plotly.purge(gd);\n",
       "            observer.disconnect();\n",
       "        }}\n",
       "}});\n",
       "\n",
       "// Listen for the removal of the full notebook cells\n",
       "var notebookContainer = gd.closest('#notebook-container');\n",
       "if (notebookContainer) {{\n",
       "    x.observe(notebookContainer, {childList: true});\n",
       "}}\n",
       "\n",
       "// Listen for the clearing of the current output cell\n",
       "var outputEl = gd.closest('.output');\n",
       "if (outputEl) {{\n",
       "    x.observe(outputEl, {childList: true});\n",
       "}}\n",
       "\n",
       "                        })\n",
       "                };\n",
       "                });\n",
       "            </script>\n",
       "        </div>"
      ]
     },
     "metadata": {},
     "output_type": "display_data"
    }
   ],
   "source": [
    "fig = go.Figure(data = go.Scatter(x = mydf2['testsPerPop%'], y = mydf2['positivePerPop%'], mode = 'markers', text = mydf2['state']))\n",
    "fig.update_layout(title = \"Positive cases versus tests per population\", xaxis_title = 'tests per population [%]', yaxis_title = 'positive cases per population [%]')\n",
    "fig.show()"
   ]
  }
 ],
 "metadata": {
  "kernelspec": {
   "display_name": "Python 3",
   "language": "python",
   "name": "python3"
  },
  "language_info": {
   "codemirror_mode": {
    "name": "ipython",
    "version": 3
   },
   "file_extension": ".py",
   "mimetype": "text/x-python",
   "name": "python",
   "nbconvert_exporter": "python",
   "pygments_lexer": "ipython3",
   "version": "3.7.1"
  }
 },
 "nbformat": 4,
 "nbformat_minor": 4
}
